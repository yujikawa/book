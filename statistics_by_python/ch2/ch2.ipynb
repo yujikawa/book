{
 "cells": [
  {
   "cell_type": "markdown",
   "metadata": {},
   "source": [
    "# ２つの変数の記述統計\n",
    "ここでは２つの変数の関係について学ぶ"
   ]
  },
  {
   "cell_type": "markdown",
   "metadata": {},
   "source": [
    "## ２つの変数の関係\n",
    "２つの変数の関係とは？例えば、国語、英語、数学の３教科のテストを受験した100人のデータをみたところ、「国語の点数が高い人ほど英語の点数が高い」といった傾向があったとする。このような量的変数どうしの関係を<b>相関</b>という。<br>\n",
    "質的変数どうしは<b>連関</b>という。（ex: 和食派は甘党が多い）"
   ]
  },
  {
   "cell_type": "markdown",
   "metadata": {},
   "source": [
    "## 散布図\n",
    "ここではch1.ipynbでも利用したteaching_method.csvを使って説明する。対象とする変数はpsycology_testとstats_test1である。これら２つとも量的変数である。２変数（xとyとする）の関係は以下のパターンがある。 <br>\n",
    "1. 変数xが大きいほど、変数yも大きい傾向にある（<b>正の相関</b>）\n",
    "2. 変数xが大きいほど、変数yは小さい傾向にある（<b>負の相関</b>）\n",
    "3. 変数xが大小と変数yの大小に関係はない（<b>無相関</b>）\n",
    "\n",
    "stats_test1とstats_test2は正の相関があるので、実際に図示して確認してみよう。"
   ]
  },
  {
   "cell_type": "code",
   "execution_count": 1,
   "metadata": {},
   "outputs": [],
   "source": [
    "import pandas as pd\n",
    "import matplotlib.pyplot as plt\n",
    "import seaborn as sns\n",
    "%matplotlib inline"
   ]
  },
  {
   "cell_type": "code",
   "execution_count": 3,
   "metadata": {},
   "outputs": [
    {
     "data": {
      "text/html": [
       "<div>\n",
       "<style scoped>\n",
       "    .dataframe tbody tr th:only-of-type {\n",
       "        vertical-align: middle;\n",
       "    }\n",
       "\n",
       "    .dataframe tbody tr th {\n",
       "        vertical-align: top;\n",
       "    }\n",
       "\n",
       "    .dataframe thead th {\n",
       "        text-align: right;\n",
       "    }\n",
       "</style>\n",
       "<table border=\"1\" class=\"dataframe\">\n",
       "  <thead>\n",
       "    <tr style=\"text-align: right;\">\n",
       "      <th></th>\n",
       "      <th>id</th>\n",
       "      <th>name</th>\n",
       "      <th>sex</th>\n",
       "      <th>math</th>\n",
       "      <th>stats</th>\n",
       "      <th>psychology_test</th>\n",
       "      <th>stats_test1</th>\n",
       "      <th>stats_test2</th>\n",
       "      <th>teaching_method</th>\n",
       "    </tr>\n",
       "  </thead>\n",
       "  <tbody>\n",
       "    <tr>\n",
       "      <th>0</th>\n",
       "      <td>1</td>\n",
       "      <td>大村</td>\n",
       "      <td>男</td>\n",
       "      <td>嫌い</td>\n",
       "      <td>好き</td>\n",
       "      <td>13</td>\n",
       "      <td>6</td>\n",
       "      <td>10</td>\n",
       "      <td>C</td>\n",
       "    </tr>\n",
       "    <tr>\n",
       "      <th>1</th>\n",
       "      <td>2</td>\n",
       "      <td>本多</td>\n",
       "      <td>男</td>\n",
       "      <td>嫌い</td>\n",
       "      <td>好き</td>\n",
       "      <td>14</td>\n",
       "      <td>10</td>\n",
       "      <td>13</td>\n",
       "      <td>B</td>\n",
       "    </tr>\n",
       "    <tr>\n",
       "      <th>2</th>\n",
       "      <td>3</td>\n",
       "      <td>川崎</td>\n",
       "      <td>男</td>\n",
       "      <td>好き</td>\n",
       "      <td>好き</td>\n",
       "      <td>7</td>\n",
       "      <td>6</td>\n",
       "      <td>8</td>\n",
       "      <td>B</td>\n",
       "    </tr>\n",
       "    <tr>\n",
       "      <th>3</th>\n",
       "      <td>4</td>\n",
       "      <td>多村</td>\n",
       "      <td>男</td>\n",
       "      <td>好き</td>\n",
       "      <td>好き</td>\n",
       "      <td>12</td>\n",
       "      <td>10</td>\n",
       "      <td>15</td>\n",
       "      <td>A</td>\n",
       "    </tr>\n",
       "    <tr>\n",
       "      <th>4</th>\n",
       "      <td>5</td>\n",
       "      <td>松中</td>\n",
       "      <td>男</td>\n",
       "      <td>嫌い</td>\n",
       "      <td>嫌い</td>\n",
       "      <td>10</td>\n",
       "      <td>5</td>\n",
       "      <td>8</td>\n",
       "      <td>B</td>\n",
       "    </tr>\n",
       "  </tbody>\n",
       "</table>\n",
       "</div>"
      ],
      "text/plain": [
       "   id name sex math stats  psychology_test  stats_test1  stats_test2  \\\n",
       "0   1   大村   男   嫌い    好き               13            6           10   \n",
       "1   2   本多   男   嫌い    好き               14           10           13   \n",
       "2   3   川崎   男   好き    好き                7            6            8   \n",
       "3   4   多村   男   好き    好き               12           10           15   \n",
       "4   5   松中   男   嫌い    嫌い               10            5            8   \n",
       "\n",
       "  teaching_method  \n",
       "0               C  \n",
       "1               B  \n",
       "2               B  \n",
       "3               A  \n",
       "4               B  "
      ]
     },
     "execution_count": 3,
     "metadata": {},
     "output_type": "execute_result"
    }
   ],
   "source": [
    "data = pd.read_csv('../data/teaching_method.csv')\n",
    "data.head()"
   ]
  },
  {
   "cell_type": "code",
   "execution_count": 11,
   "metadata": {},
   "outputs": [
    {
     "data": {
      "text/plain": [
       "<matplotlib.collections.PathCollection at 0x124d35400>"
      ]
     },
     "execution_count": 11,
     "metadata": {},
     "output_type": "execute_result"
    },
    {
     "data": {
      "image/png": "[encoded data removed]",
      "text/plain": [
       "<Figure size 432x288 with 1 Axes>"
      ]
     },
     "metadata": {
      "needs_background": "light"
     },
     "output_type": "display_data"
    }
   ],
   "source": [
    "plt.scatter(x=data.stats_test1, y=data.stats_test2) # matplotlibで描画"
   ]
  },
  {
   "cell_type": "code",
   "execution_count": 12,
   "metadata": {},
   "outputs": [
    {
     "data": {
      "text/plain": [
       "<matplotlib.axes._subplots.AxesSubplot at 0x123ff7c70>"
      ]
     },
     "execution_count": 12,
     "metadata": {},
     "output_type": "execute_result"
    },
    {
     "data": {
      "image/png": "[encoded data removed]",
      "text/plain": [
       "<Figure size 432x288 with 1 Axes>"
      ]
     },
     "metadata": {
      "needs_background": "light"
     },
     "output_type": "display_data"
    }
   ],
   "source": [
    "sns.scatterplot(x='stats_test1', y='stats_test2', data=data) # seabornで描画"
   ]
  },
  {
   "cell_type": "markdown",
   "metadata": {},
   "source": [
    "stats_test1の得点が高いほどstats_test2の得点が高い傾向にあるように思える。ではstats_test1とpsycology_testはどうだろうか？"
   ]
  },
  {
   "cell_type": "code",
   "execution_count": 19,
   "metadata": {},
   "outputs": [
    {
     "data": {
      "text/plain": [
       "<matplotlib.axes._subplots.AxesSubplot at 0x12740fe20>"
      ]
     },
     "execution_count": 19,
     "metadata": {},
     "output_type": "execute_result"
    },
    {
     "data": {
      "image/png": "[encoded data removed]",
      "text/plain": [
       "<Figure size 432x288 with 1 Axes>"
      ]
     },
     "metadata": {
      "needs_background": "light"
     },
     "output_type": "display_data"
    }
   ],
   "source": [
    "sns.scatterplot(x='psychology_test', y='stats_test1', data=data)"
   ]
  },
  {
   "cell_type": "markdown",
   "metadata": {},
   "source": [
    "やや右上がりのようにも見えるが先ほどよりかは相関が弱いと言える。ではstats_test2と比較するとどうだろうか？"
   ]
  },
  {
   "cell_type": "code",
   "execution_count": 20,
   "metadata": {},
   "outputs": [
    {
     "data": {
      "text/plain": [
       "<matplotlib.axes._subplots.AxesSubplot at 0x123bac0d0>"
      ]
     },
     "execution_count": 20,
     "metadata": {},
     "output_type": "execute_result"
    },
    {
     "data": {
      "image/png": "[encoded data removed]",
      "text/plain": [
       "<Figure size 432x288 with 1 Axes>"
      ]
     },
     "metadata": {
      "needs_background": "light"
     },
     "output_type": "display_data"
    }
   ],
   "source": [
    "sns.scatterplot(x='psychology_test', y='stats_test2', data=data)"
   ]
  },
  {
   "cell_type": "markdown",
   "metadata": {},
   "source": [
    "全体的に散らばっており、ほぼ無相関と言える。"
   ]
  },
  {
   "cell_type": "code",
   "execution_count": null,
   "metadata": {},
   "outputs": [],
   "source": []
  }
 ],
 "metadata": {
  "kernelspec": {
   "display_name": "Python 3",
   "language": "python",
   "name": "python3"
  },
  "language_info": {
   "codemirror_mode": {
    "name": "ipython",
    "version": 3
   },
   "file_extension": ".py",
   "mimetype": "text/x-python",
   "name": "python",
   "nbconvert_exporter": "python",
   "pygments_lexer": "ipython3",
   "version": "3.8.0"
  }
 },
 "nbformat": 4,
 "nbformat_minor": 4
}
