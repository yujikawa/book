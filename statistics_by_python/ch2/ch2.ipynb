{
 "cells": [
  {
   "cell_type": "markdown",
   "metadata": {},
   "source": [
    "# ２つの変数の記述統計\n",
    "ここでは２つの変数の関係について学ぶ"
   ]
  },
  {
   "cell_type": "markdown",
   "metadata": {},
   "source": [
    "## ２つの変数の関係\n",
    "２つの変数の関係とは？例えば、国語、英語、数学の３教科のテストを受験した100人のデータをみたところ、「国語の点数が高い人ほど英語の点数が高い」といった傾向があったとする。このような量的変数どうしの関係を<b>相関</b>という。<br>\n",
    "質的変数どうしは<b>連関</b>という。（ex: 和食派は甘党が多い）"
   ]
  },
  {
   "cell_type": "markdown",
   "metadata": {},
   "source": [
    "## 散布図\n",
    "ここではch1.ipynbでも利用したteaching_method.csvを使って説明する。対象とする変数はpsycology_testとstats_test1である。これら２つとも量的変数である。２変数（xとyとする）の関係は以下のパターンがある。 <br>\n",
    "1. 変数xが大きいほど、変数yも大きい傾向にある（<b>正の相関</b>）\n",
    "2. 変数xが大きいほど、変数yは小さい傾向にある（<b>負の相関</b>）\n",
    "3. 変数xが大小と変数yの大小に関係はない（<b>無相関</b>）\n",
    "\n",
    "stats_test1とstats_test2は正の相関があるので、実際に図示して確認してみよう。"
   ]
  },
  {
   "cell_type": "code",
   "execution_count": 1,
   "metadata": {},
   "outputs": [],
   "source": [
    "import pandas as pd\n",
    "import matplotlib.pyplot as plt\n",
    "import seaborn as sns\n",
    "%matplotlib inline"
   ]
  },
  {
   "cell_type": "code",
   "execution_count": 2,
   "metadata": {},
   "outputs": [
    {
     "data": {
      "text/html": [
       "<div>\n",
       "<style scoped>\n",
       "    .dataframe tbody tr th:only-of-type {\n",
       "        vertical-align: middle;\n",
       "    }\n",
       "\n",
       "    .dataframe tbody tr th {\n",
       "        vertical-align: top;\n",
       "    }\n",
       "\n",
       "    .dataframe thead th {\n",
       "        text-align: right;\n",
       "    }\n",
       "</style>\n",
       "<table border=\"1\" class=\"dataframe\">\n",
       "  <thead>\n",
       "    <tr style=\"text-align: right;\">\n",
       "      <th></th>\n",
       "      <th>id</th>\n",
       "      <th>name</th>\n",
       "      <th>sex</th>\n",
       "      <th>math</th>\n",
       "      <th>stats</th>\n",
       "      <th>psychology_test</th>\n",
       "      <th>stats_test1</th>\n",
       "      <th>stats_test2</th>\n",
       "      <th>teaching_method</th>\n",
       "    </tr>\n",
       "  </thead>\n",
       "  <tbody>\n",
       "    <tr>\n",
       "      <th>0</th>\n",
       "      <td>1</td>\n",
       "      <td>大村</td>\n",
       "      <td>男</td>\n",
       "      <td>嫌い</td>\n",
       "      <td>好き</td>\n",
       "      <td>13</td>\n",
       "      <td>6</td>\n",
       "      <td>10</td>\n",
       "      <td>C</td>\n",
       "    </tr>\n",
       "    <tr>\n",
       "      <th>1</th>\n",
       "      <td>2</td>\n",
       "      <td>本多</td>\n",
       "      <td>男</td>\n",
       "      <td>嫌い</td>\n",
       "      <td>好き</td>\n",
       "      <td>14</td>\n",
       "      <td>10</td>\n",
       "      <td>13</td>\n",
       "      <td>B</td>\n",
       "    </tr>\n",
       "    <tr>\n",
       "      <th>2</th>\n",
       "      <td>3</td>\n",
       "      <td>川崎</td>\n",
       "      <td>男</td>\n",
       "      <td>好き</td>\n",
       "      <td>好き</td>\n",
       "      <td>7</td>\n",
       "      <td>6</td>\n",
       "      <td>8</td>\n",
       "      <td>B</td>\n",
       "    </tr>\n",
       "    <tr>\n",
       "      <th>3</th>\n",
       "      <td>4</td>\n",
       "      <td>多村</td>\n",
       "      <td>男</td>\n",
       "      <td>好き</td>\n",
       "      <td>好き</td>\n",
       "      <td>12</td>\n",
       "      <td>10</td>\n",
       "      <td>15</td>\n",
       "      <td>A</td>\n",
       "    </tr>\n",
       "    <tr>\n",
       "      <th>4</th>\n",
       "      <td>5</td>\n",
       "      <td>松中</td>\n",
       "      <td>男</td>\n",
       "      <td>嫌い</td>\n",
       "      <td>嫌い</td>\n",
       "      <td>10</td>\n",
       "      <td>5</td>\n",
       "      <td>8</td>\n",
       "      <td>B</td>\n",
       "    </tr>\n",
       "  </tbody>\n",
       "</table>\n",
       "</div>"
      ],
      "text/plain": [
       "   id name sex math stats  psychology_test  stats_test1  stats_test2  \\\n",
       "0   1   大村   男   嫌い    好き               13            6           10   \n",
       "1   2   本多   男   嫌い    好き               14           10           13   \n",
       "2   3   川崎   男   好き    好き                7            6            8   \n",
       "3   4   多村   男   好き    好き               12           10           15   \n",
       "4   5   松中   男   嫌い    嫌い               10            5            8   \n",
       "\n",
       "  teaching_method  \n",
       "0               C  \n",
       "1               B  \n",
       "2               B  \n",
       "3               A  \n",
       "4               B  "
      ]
     },
     "execution_count": 2,
     "metadata": {},
     "output_type": "execute_result"
    }
   ],
   "source": [
    "data = pd.read_csv('../data/teaching_method.csv')\n",
    "data.head()"
   ]
  },
  {
   "cell_type": "code",
   "execution_count": 3,
   "metadata": {},
   "outputs": [
    {
     "data": {
      "text/plain": [
       "<matplotlib.collections.PathCollection at 0x11e6e8310>"
      ]
     },
     "execution_count": 3,
     "metadata": {},
     "output_type": "execute_result"
    },
    {
     "data": {
      "image/png": "[encoded data removed]",
      "text/plain": [
       "<Figure size 432x288 with 1 Axes>"
      ]
     },
     "metadata": {
      "needs_background": "light"
     },
     "output_type": "display_data"
    }
   ],
   "source": [
    "plt.scatter(x=data.stats_test1, y=data.stats_test2) # matplotlibで描画"
   ]
  },
  {
   "cell_type": "code",
   "execution_count": 4,
   "metadata": {},
   "outputs": [
    {
     "data": {
      "text/plain": [
       "<matplotlib.axes._subplots.AxesSubplot at 0x11e759ca0>"
      ]
     },
     "execution_count": 4,
     "metadata": {},
     "output_type": "execute_result"
    },
    {
     "data": {
      "image/png": "[encoded data removed]",
      "text/plain": [
       "<Figure size 432x288 with 1 Axes>"
      ]
     },
     "metadata": {
      "needs_background": "light"
     },
     "output_type": "display_data"
    }
   ],
   "source": [
    "sns.scatterplot(x='stats_test1', y='stats_test2', data=data) # seabornで描画"
   ]
  },
  {
   "cell_type": "markdown",
   "metadata": {},
   "source": [
    "stats_test1の得点が高いほどstats_test2の得点が高い傾向にあるように思える。ではstats_test1とpsycology_testはどうだろうか？"
   ]
  },
  {
   "cell_type": "code",
   "execution_count": 5,
   "metadata": {},
   "outputs": [
    {
     "data": {
      "text/plain": [
       "<matplotlib.axes._subplots.AxesSubplot at 0x11e848df0>"
      ]
     },
     "execution_count": 5,
     "metadata": {},
     "output_type": "execute_result"
    },
    {
     "data": {
      "image/png": "[encoded data removed]",
      "text/plain": [
       "<Figure size 432x288 with 1 Axes>"
      ]
     },
     "metadata": {
      "needs_background": "light"
     },
     "output_type": "display_data"
    }
   ],
   "source": [
    "sns.scatterplot(x='psychology_test', y='stats_test1', data=data)"
   ]
  },
  {
   "cell_type": "markdown",
   "metadata": {},
   "source": [
    "やや右上がりのようにも見えるが先ほどよりかは相関が弱いと言える。ではstats_test2と比較するとどうだろうか？"
   ]
  },
  {
   "cell_type": "code",
   "execution_count": 6,
   "metadata": {},
   "outputs": [
    {
     "data": {
      "text/plain": [
       "<matplotlib.axes._subplots.AxesSubplot at 0x11e911c70>"
      ]
     },
     "execution_count": 6,
     "metadata": {},
     "output_type": "execute_result"
    },
    {
     "data": {
      "image/png": "[encoded data removed]",
      "text/plain": [
       "<Figure size 432x288 with 1 Axes>"
      ]
     },
     "metadata": {
      "needs_background": "light"
     },
     "output_type": "display_data"
    }
   ],
   "source": [
    "sns.scatterplot(x='psychology_test', y='stats_test2', data=data)"
   ]
  },
  {
   "cell_type": "markdown",
   "metadata": {},
   "source": [
    "全体的に散らばっており、ほぼ無相関と言える。"
   ]
  },
  {
   "cell_type": "code",
   "execution_count": 7,
   "metadata": {},
   "outputs": [
    {
     "data": {
      "text/plain": [
       "<seaborn.axisgrid.PairGrid at 0x11e9dfc10>"
      ]
     },
     "execution_count": 7,
     "metadata": {},
     "output_type": "execute_result"
    },
    {
     "data": {
      "image/png": "[encoded data removed]",
      "text/plain": [
       "<Figure size 540x540 with 12 Axes>"
      ]
     },
     "metadata": {
      "needs_background": "light"
     },
     "output_type": "display_data"
    }
   ],
   "source": [
    "# seabornというライブラリはpairplotという全ての要素の散布図を出す方法もある\n",
    "sns.pairplot(data.drop(['id'], axis=1))"
   ]
  },
  {
   "cell_type": "markdown",
   "metadata": {},
   "source": [
    "## 共分散\n",
    "散布図は２変数間の相関の様子を視覚的に把握することに有効だが、変数がたくさんある場合に各変数の相関を見るために散布図を書いていたら大変である。そこで相関を図ではなく数値として表現することが一般的である。この場合の指標を<b>相関係数</b>と呼ぶ。相関係数の前に共分散を説明する。共分散も相関係数と同じく２変数間の関係の強さを表す指標である。まずは<b>stats_test1とstats_test2の共分散を求めて、その値を使って相関係数を計算する</b>。<br>\n",
    "<b>共分散</b>とは偏差(実測値 - 平均)の積の平均である。xとyの２変数を用いて表現する。\n",
    "$$\n",
    "S_{xy}(共分散) = \\frac{(x_1 - \\overline{x})(y_1 - \\overline{y}) + (x_2 - \\overline{x})(y_2 - \\overline{y}) +....+(x_n - \\overline{x})(y_n - \\overline{y}) }{n} \\\\\n",
    "$$\n",
    "例えばxとyというのはstats_test1とstats_test2それぞれの点数となる。$\\overline{x}$はxの平均を表している。nはデータの個数を表している。<br><br>\n",
    "$$ \n",
    "x = [1, 2, 3]\\\\\n",
    "y = [2, 4, 6]\\\\\n",
    "\\overline{x} = \\frac{1+2+3}{3} = 2 \\\\\n",
    "\\overline{y} = \\frac{1+2+3}{3} = 4 \\\\\n",
    "S_{xy} = \\frac{(1-2)(2-4)+(2-2)(4-4)+(3-2)(6-4)}{3} = \\frac{4}{3}\n",
    "$$"
   ]
  },
  {
   "cell_type": "code",
   "execution_count": 8,
   "metadata": {},
   "outputs": [
    {
     "data": {
      "text/html": [
       "<div>\n",
       "<style scoped>\n",
       "    .dataframe tbody tr th:only-of-type {\n",
       "        vertical-align: middle;\n",
       "    }\n",
       "\n",
       "    .dataframe tbody tr th {\n",
       "        vertical-align: top;\n",
       "    }\n",
       "\n",
       "    .dataframe thead th {\n",
       "        text-align: right;\n",
       "    }\n",
       "</style>\n",
       "<table border=\"1\" class=\"dataframe\">\n",
       "  <thead>\n",
       "    <tr style=\"text-align: right;\">\n",
       "      <th></th>\n",
       "      <th>id</th>\n",
       "      <th>psychology_test</th>\n",
       "      <th>stats_test1</th>\n",
       "      <th>stats_test2</th>\n",
       "    </tr>\n",
       "  </thead>\n",
       "  <tbody>\n",
       "    <tr>\n",
       "      <th>id</th>\n",
       "      <td>35.000000</td>\n",
       "      <td>-0.421053</td>\n",
       "      <td>2.263158</td>\n",
       "      <td>-2.421053</td>\n",
       "    </tr>\n",
       "    <tr>\n",
       "      <th>psychology_test</th>\n",
       "      <td>-0.421053</td>\n",
       "      <td>11.684211</td>\n",
       "      <td>3.368421</td>\n",
       "      <td>-1.315789</td>\n",
       "    </tr>\n",
       "    <tr>\n",
       "      <th>stats_test1</th>\n",
       "      <td>2.263158</td>\n",
       "      <td>3.368421</td>\n",
       "      <td>6.631579</td>\n",
       "      <td>7.947368</td>\n",
       "    </tr>\n",
       "    <tr>\n",
       "      <th>stats_test2</th>\n",
       "      <td>-2.421053</td>\n",
       "      <td>-1.315789</td>\n",
       "      <td>7.947368</td>\n",
       "      <td>16.947368</td>\n",
       "    </tr>\n",
       "  </tbody>\n",
       "</table>\n",
       "</div>"
      ],
      "text/plain": [
       "                        id  psychology_test  stats_test1  stats_test2\n",
       "id               35.000000        -0.421053     2.263158    -2.421053\n",
       "psychology_test  -0.421053        11.684211     3.368421    -1.315789\n",
       "stats_test1       2.263158         3.368421     6.631579     7.947368\n",
       "stats_test2      -2.421053        -1.315789     7.947368    16.947368"
      ]
     },
     "execution_count": 8,
     "metadata": {},
     "output_type": "execute_result"
    }
   ],
   "source": [
    "data.cov() # 共分散の関数cov() 厳密には不偏共分散を求めている(nをn-1にしたもの)"
   ]
  },
  {
   "cell_type": "markdown",
   "metadata": {},
   "source": [
    "ここで計算された共分散は２変数の関係の強さを反映している指標だが、その大きさが測定単位に依存してしまうという問題がある。\n",
    "例えば身長のデータセットを[m]と[cm]とした場合に体重[kg]との共分散の値が大きく異なってします。\n",
    "データが全く同じ意味であっても1.5mの50kgと150cmの50kgとでは共分散の値の大きさに100倍の違いが出てしまい、単位によって強さの指標の値が変わってしまうのは問題である。そこで標準偏差を利用することで測定単位の影響を受けない相関、すなわち相関係数を求めることができる。"
   ]
  },
  {
   "cell_type": "markdown",
   "metadata": {},
   "source": [
    "## 相関係数\n",
    "<b>相関係数</b>は式で書くと以下のようになる。\n",
    "$$\n",
    "r_{xy} = \\frac{S_{xy}}{S_xS_y}\n",
    "$$\n",
    "$r_{xy}$が相関係数で、右辺の分子が共分散、分母の$S_x$と$S_y$はそれぞれ$x$の標準偏差、$y$の標準偏差である。このように共分散を２変数の標準偏差の積で割り算することで測定単位の影響を受けなくなる。"
   ]
  },
  {
   "cell_type": "code",
   "execution_count": 10,
   "metadata": {},
   "outputs": [
    {
     "data": {
      "text/html": [
       "<div>\n",
       "<style scoped>\n",
       "    .dataframe tbody tr th:only-of-type {\n",
       "        vertical-align: middle;\n",
       "    }\n",
       "\n",
       "    .dataframe tbody tr th {\n",
       "        vertical-align: top;\n",
       "    }\n",
       "\n",
       "    .dataframe thead th {\n",
       "        text-align: right;\n",
       "    }\n",
       "</style>\n",
       "<table border=\"1\" class=\"dataframe\">\n",
       "  <thead>\n",
       "    <tr style=\"text-align: right;\">\n",
       "      <th></th>\n",
       "      <th>id</th>\n",
       "      <th>psychology_test</th>\n",
       "      <th>stats_test1</th>\n",
       "      <th>stats_test2</th>\n",
       "    </tr>\n",
       "  </thead>\n",
       "  <tbody>\n",
       "    <tr>\n",
       "      <th>id</th>\n",
       "      <td>1.000000</td>\n",
       "      <td>-0.020821</td>\n",
       "      <td>0.148550</td>\n",
       "      <td>-0.099407</td>\n",
       "    </tr>\n",
       "    <tr>\n",
       "      <th>psychology_test</th>\n",
       "      <td>-0.020821</td>\n",
       "      <td>1.000000</td>\n",
       "      <td>0.382665</td>\n",
       "      <td>-0.093505</td>\n",
       "    </tr>\n",
       "    <tr>\n",
       "      <th>stats_test1</th>\n",
       "      <td>0.148550</td>\n",
       "      <td>0.382665</td>\n",
       "      <td>1.000000</td>\n",
       "      <td>0.749659</td>\n",
       "    </tr>\n",
       "    <tr>\n",
       "      <th>stats_test2</th>\n",
       "      <td>-0.099407</td>\n",
       "      <td>-0.093505</td>\n",
       "      <td>0.749659</td>\n",
       "      <td>1.000000</td>\n",
       "    </tr>\n",
       "  </tbody>\n",
       "</table>\n",
       "</div>"
      ],
      "text/plain": [
       "                       id  psychology_test  stats_test1  stats_test2\n",
       "id               1.000000        -0.020821     0.148550    -0.099407\n",
       "psychology_test -0.020821         1.000000     0.382665    -0.093505\n",
       "stats_test1      0.148550         0.382665     1.000000     0.749659\n",
       "stats_test2     -0.099407        -0.093505     0.749659     1.000000"
      ]
     },
     "execution_count": 10,
     "metadata": {},
     "output_type": "execute_result"
    }
   ],
   "source": [
    "data.corr() # 相関係数を求める関数corr()"
   ]
  },
  {
   "cell_type": "markdown",
   "metadata": {},
   "source": [
    "無相関の場合は０に近いので、psychology_testとstats_test2は-0.093505でほぼ０のため無相関と言える。正の相関がある場合は１に近づく（散布図が右肩上がり）。負の相関がある場合は−１に近くなる（散布図が右肩下がり）。<br>\n",
    "では<b>相関係数がどのような値の場合に「強い相関」「弱い相関」となるのか？</b>これには明確な基準はないが参考値として下記を参考にして欲しい。\n",
    "\n",
    "|相関係数&nbsp;&nbsp;&nbsp;&nbsp;&nbsp;&nbsp;&nbsp;&nbsp;&nbsp;&nbsp;&nbsp;&nbsp;&nbsp;&nbsp;&nbsp;&nbsp;&nbsp;&nbsp;&nbsp;&nbsp;&nbsp;&nbsp;&nbsp;&nbsp;|大きさの評価|\n",
    "|:-------------|:---|\n",
    "|$-0.2\\le r \\le 0.2$|ほとんど相関なし|\n",
    "|$-0.4\\le r < -0.2$ or $0.2 < r \\le 0.4$|弱い相関あり|\n",
    "|$-0.7\\le r < -0.4$ or $0.4 < r \\le 0.7$|中程度の相関あり|\n",
    "|$-1.0\\le r < -0.7$ or $0.7 < r \\le 1.0$|強い相関あり|\n",
    "\n",
    "<b>散布図を確認せず相関係数だけを確認する</b>のはお勧めできない。なぜかというと外れ値などは相関係数の値を眺めてもわからないからだ。相関係数はこのような外れ値による影響を大きく受けるので、散布図と合わせて見る事が重要である。"
   ]
  },
  {
   "cell_type": "markdown",
   "metadata": {},
   "source": [
    "## クロス集計表\n",
    "２つの量的変数の関係に続いて、２つの質的変数の関係すなわち連関について説明する。<b>連関</b>とは犬派か猫派かといった質的変数同士の関係のことである。ここでは数学(math)の好き嫌いのと統計(stats)の好き嫌いの間に連関があるかどうか検討する。"
   ]
  },
  {
   "cell_type": "code",
   "execution_count": 17,
   "metadata": {},
   "outputs": [
    {
     "data": {
      "text/plain": [
       "嫌い    14\n",
       "好き     6\n",
       "Name: math, dtype: int64"
      ]
     },
     "execution_count": 17,
     "metadata": {},
     "output_type": "execute_result"
    }
   ],
   "source": [
    "data['math'].value_counts() # 数学の好き嫌いのカウント"
   ]
  },
  {
   "cell_type": "code",
   "execution_count": 18,
   "metadata": {},
   "outputs": [
    {
     "data": {
      "text/plain": [
       "嫌い    12\n",
       "好き     8\n",
       "Name: stats, dtype: int64"
      ]
     },
     "execution_count": 18,
     "metadata": {},
     "output_type": "execute_result"
    }
   ],
   "source": [
    "data['stats'].value_counts() # 統計の好き嫌いのカウント"
   ]
  },
  {
   "cell_type": "code",
   "execution_count": 22,
   "metadata": {},
   "outputs": [
    {
     "data": {
      "text/html": [
       "<div>\n",
       "<style scoped>\n",
       "    .dataframe tbody tr th:only-of-type {\n",
       "        vertical-align: middle;\n",
       "    }\n",
       "\n",
       "    .dataframe tbody tr th {\n",
       "        vertical-align: top;\n",
       "    }\n",
       "\n",
       "    .dataframe thead th {\n",
       "        text-align: right;\n",
       "    }\n",
       "</style>\n",
       "<table border=\"1\" class=\"dataframe\">\n",
       "  <thead>\n",
       "    <tr style=\"text-align: right;\">\n",
       "      <th>stats</th>\n",
       "      <th>好き</th>\n",
       "      <th>嫌い</th>\n",
       "    </tr>\n",
       "    <tr>\n",
       "      <th>math</th>\n",
       "      <th></th>\n",
       "      <th></th>\n",
       "    </tr>\n",
       "  </thead>\n",
       "  <tbody>\n",
       "    <tr>\n",
       "      <th>好き</th>\n",
       "      <td>4</td>\n",
       "      <td>2</td>\n",
       "    </tr>\n",
       "    <tr>\n",
       "      <th>嫌い</th>\n",
       "      <td>4</td>\n",
       "      <td>10</td>\n",
       "    </tr>\n",
       "  </tbody>\n",
       "</table>\n",
       "</div>"
      ],
      "text/plain": [
       "stats  好き  嫌い\n",
       "math         \n",
       "好き      4   2\n",
       "嫌い      4  10"
      ]
     },
     "execution_count": 22,
     "metadata": {},
     "output_type": "execute_result"
    }
   ],
   "source": [
    "pd.crosstab(data['math'], data['stats']) #クロス集計表を出力"
   ]
  },
  {
   "cell_type": "markdown",
   "metadata": {},
   "source": [
    "上記のような表を<b>クロス集計表</b>という。数学が嫌いで統計も嫌いな人が10人いる事がわかります。先ほど散布図の様子を１つの値に集約するものとして相関係数を位置付けた。次はこのクロス集計表の様子を記述する指標として<b>ファイ係数</b>を求める。"
   ]
  },
  {
   "cell_type": "markdown",
   "metadata": {},
   "source": [
    "## ファイ係数\n",
    "<b>ファイ係数</b>とは相関係数の特別な場合で1と0の２つの値からなる変数に対して計算される相関係数のこと。数学（math）と統計（stats）は両変数とも「好き」「嫌い」と言う文字が入っていたがこれを「好きを１」「嫌いを０」と変換する。"
   ]
  },
  {
   "cell_type": "code",
   "execution_count": 23,
   "metadata": {},
   "outputs": [],
   "source": [
    "# 好きを１、嫌いを０とするマッピング表（辞書）を定義する Pythonではディクショナリ型と呼ばれている\n",
    "like_or_hate_map = {\n",
    "    '好き': 1,\n",
    "    '嫌い': 0\n",
    "}"
   ]
  },
  {
   "cell_type": "code",
   "execution_count": 24,
   "metadata": {},
   "outputs": [
    {
     "data": {
      "text/plain": [
       "1"
      ]
     },
     "execution_count": 24,
     "metadata": {},
     "output_type": "execute_result"
    }
   ],
   "source": [
    "like_or_hate_map['好き']"
   ]
  },
  {
   "cell_type": "code",
   "execution_count": 26,
   "metadata": {},
   "outputs": [
    {
     "data": {
      "text/plain": [
       "0     0\n",
       "1     0\n",
       "2     1\n",
       "3     1\n",
       "4     0\n",
       "5     0\n",
       "6     0\n",
       "7     0\n",
       "8     0\n",
       "9     1\n",
       "10    1\n",
       "11    0\n",
       "12    1\n",
       "13    0\n",
       "14    0\n",
       "15    1\n",
       "16    0\n",
       "17    0\n",
       "18    0\n",
       "19    0\n",
       "Name: math, dtype: int64"
      ]
     },
     "execution_count": 26,
     "metadata": {},
     "output_type": "execute_result"
    }
   ],
   "source": [
    "data['math'].map(like_or_hate_map) # map関数に先ほどの辞書を渡してあげると変換してくれる"
   ]
  },
  {
   "cell_type": "code",
   "execution_count": 27,
   "metadata": {},
   "outputs": [],
   "source": [
    "data['math_num'] = data['math'].map(like_or_hate_map)    # 数字に変換した数学好き嫌いを新しい列を追加する\n",
    "data['stats_num'] = data['stats'].map(like_or_hate_map)  # 数字に変換した統計好き嫌いを新しい列を追加する"
   ]
  },
  {
   "cell_type": "code",
   "execution_count": 28,
   "metadata": {},
   "outputs": [
    {
     "data": {
      "text/html": [
       "<div>\n",
       "<style scoped>\n",
       "    .dataframe tbody tr th:only-of-type {\n",
       "        vertical-align: middle;\n",
       "    }\n",
       "\n",
       "    .dataframe tbody tr th {\n",
       "        vertical-align: top;\n",
       "    }\n",
       "\n",
       "    .dataframe thead th {\n",
       "        text-align: right;\n",
       "    }\n",
       "</style>\n",
       "<table border=\"1\" class=\"dataframe\">\n",
       "  <thead>\n",
       "    <tr style=\"text-align: right;\">\n",
       "      <th></th>\n",
       "      <th>id</th>\n",
       "      <th>name</th>\n",
       "      <th>sex</th>\n",
       "      <th>math</th>\n",
       "      <th>stats</th>\n",
       "      <th>psychology_test</th>\n",
       "      <th>stats_test1</th>\n",
       "      <th>stats_test2</th>\n",
       "      <th>teaching_method</th>\n",
       "      <th>math_num</th>\n",
       "      <th>stats_num</th>\n",
       "    </tr>\n",
       "  </thead>\n",
       "  <tbody>\n",
       "    <tr>\n",
       "      <th>0</th>\n",
       "      <td>1</td>\n",
       "      <td>大村</td>\n",
       "      <td>男</td>\n",
       "      <td>嫌い</td>\n",
       "      <td>好き</td>\n",
       "      <td>13</td>\n",
       "      <td>6</td>\n",
       "      <td>10</td>\n",
       "      <td>C</td>\n",
       "      <td>0</td>\n",
       "      <td>1</td>\n",
       "    </tr>\n",
       "    <tr>\n",
       "      <th>1</th>\n",
       "      <td>2</td>\n",
       "      <td>本多</td>\n",
       "      <td>男</td>\n",
       "      <td>嫌い</td>\n",
       "      <td>好き</td>\n",
       "      <td>14</td>\n",
       "      <td>10</td>\n",
       "      <td>13</td>\n",
       "      <td>B</td>\n",
       "      <td>0</td>\n",
       "      <td>1</td>\n",
       "    </tr>\n",
       "    <tr>\n",
       "      <th>2</th>\n",
       "      <td>3</td>\n",
       "      <td>川崎</td>\n",
       "      <td>男</td>\n",
       "      <td>好き</td>\n",
       "      <td>好き</td>\n",
       "      <td>7</td>\n",
       "      <td>6</td>\n",
       "      <td>8</td>\n",
       "      <td>B</td>\n",
       "      <td>1</td>\n",
       "      <td>1</td>\n",
       "    </tr>\n",
       "    <tr>\n",
       "      <th>3</th>\n",
       "      <td>4</td>\n",
       "      <td>多村</td>\n",
       "      <td>男</td>\n",
       "      <td>好き</td>\n",
       "      <td>好き</td>\n",
       "      <td>12</td>\n",
       "      <td>10</td>\n",
       "      <td>15</td>\n",
       "      <td>A</td>\n",
       "      <td>1</td>\n",
       "      <td>1</td>\n",
       "    </tr>\n",
       "    <tr>\n",
       "      <th>4</th>\n",
       "      <td>5</td>\n",
       "      <td>松中</td>\n",
       "      <td>男</td>\n",
       "      <td>嫌い</td>\n",
       "      <td>嫌い</td>\n",
       "      <td>10</td>\n",
       "      <td>5</td>\n",
       "      <td>8</td>\n",
       "      <td>B</td>\n",
       "      <td>0</td>\n",
       "      <td>0</td>\n",
       "    </tr>\n",
       "  </tbody>\n",
       "</table>\n",
       "</div>"
      ],
      "text/plain": [
       "   id name sex math stats  psychology_test  stats_test1  stats_test2  \\\n",
       "0   1   大村   男   嫌い    好き               13            6           10   \n",
       "1   2   本多   男   嫌い    好き               14           10           13   \n",
       "2   3   川崎   男   好き    好き                7            6            8   \n",
       "3   4   多村   男   好き    好き               12           10           15   \n",
       "4   5   松中   男   嫌い    嫌い               10            5            8   \n",
       "\n",
       "  teaching_method  math_num  stats_num  \n",
       "0               C         0          1  \n",
       "1               B         0          1  \n",
       "2               B         1          1  \n",
       "3               A         1          1  \n",
       "4               B         0          0  "
      ]
     },
     "execution_count": 28,
     "metadata": {},
     "output_type": "execute_result"
    }
   ],
   "source": [
    "data.head()"
   ]
  },
  {
   "cell_type": "code",
   "execution_count": 30,
   "metadata": {},
   "outputs": [
    {
     "data": {
      "text/html": [
       "<div>\n",
       "<style scoped>\n",
       "    .dataframe tbody tr th:only-of-type {\n",
       "        vertical-align: middle;\n",
       "    }\n",
       "\n",
       "    .dataframe tbody tr th {\n",
       "        vertical-align: top;\n",
       "    }\n",
       "\n",
       "    .dataframe thead th {\n",
       "        text-align: right;\n",
       "    }\n",
       "</style>\n",
       "<table border=\"1\" class=\"dataframe\">\n",
       "  <thead>\n",
       "    <tr style=\"text-align: right;\">\n",
       "      <th></th>\n",
       "      <th>id</th>\n",
       "      <th>psychology_test</th>\n",
       "      <th>stats_test1</th>\n",
       "      <th>stats_test2</th>\n",
       "      <th>math_num</th>\n",
       "      <th>stats_num</th>\n",
       "    </tr>\n",
       "  </thead>\n",
       "  <tbody>\n",
       "    <tr>\n",
       "      <th>id</th>\n",
       "      <td>1.000000</td>\n",
       "      <td>-0.020821</td>\n",
       "      <td>0.148550</td>\n",
       "      <td>-0.099407</td>\n",
       "      <td>-0.113531</td>\n",
       "      <td>-0.407096</td>\n",
       "    </tr>\n",
       "    <tr>\n",
       "      <th>psychology_test</th>\n",
       "      <td>-0.020821</td>\n",
       "      <td>1.000000</td>\n",
       "      <td>0.382665</td>\n",
       "      <td>-0.093505</td>\n",
       "      <td>0.130996</td>\n",
       "      <td>-0.122536</td>\n",
       "    </tr>\n",
       "    <tr>\n",
       "      <th>stats_test1</th>\n",
       "      <td>0.148550</td>\n",
       "      <td>0.382665</td>\n",
       "      <td>1.000000</td>\n",
       "      <td>0.749659</td>\n",
       "      <td>0.173880</td>\n",
       "      <td>0.447288</td>\n",
       "    </tr>\n",
       "    <tr>\n",
       "      <th>stats_test2</th>\n",
       "      <td>-0.099407</td>\n",
       "      <td>-0.093505</td>\n",
       "      <td>0.749659</td>\n",
       "      <td>1.000000</td>\n",
       "      <td>0.190347</td>\n",
       "      <td>0.712212</td>\n",
       "    </tr>\n",
       "    <tr>\n",
       "      <th>math_num</th>\n",
       "      <td>-0.113531</td>\n",
       "      <td>0.130996</td>\n",
       "      <td>0.173880</td>\n",
       "      <td>0.190347</td>\n",
       "      <td>1.000000</td>\n",
       "      <td>0.356348</td>\n",
       "    </tr>\n",
       "    <tr>\n",
       "      <th>stats_num</th>\n",
       "      <td>-0.407096</td>\n",
       "      <td>-0.122536</td>\n",
       "      <td>0.447288</td>\n",
       "      <td>0.712212</td>\n",
       "      <td>0.356348</td>\n",
       "      <td>1.000000</td>\n",
       "    </tr>\n",
       "  </tbody>\n",
       "</table>\n",
       "</div>"
      ],
      "text/plain": [
       "                       id  psychology_test  stats_test1  stats_test2  \\\n",
       "id               1.000000        -0.020821     0.148550    -0.099407   \n",
       "psychology_test -0.020821         1.000000     0.382665    -0.093505   \n",
       "stats_test1      0.148550         0.382665     1.000000     0.749659   \n",
       "stats_test2     -0.099407        -0.093505     0.749659     1.000000   \n",
       "math_num        -0.113531         0.130996     0.173880     0.190347   \n",
       "stats_num       -0.407096        -0.122536     0.447288     0.712212   \n",
       "\n",
       "                 math_num  stats_num  \n",
       "id              -0.113531  -0.407096  \n",
       "psychology_test  0.130996  -0.122536  \n",
       "stats_test1      0.173880   0.447288  \n",
       "stats_test2      0.190347   0.712212  \n",
       "math_num         1.000000   0.356348  \n",
       "stats_num        0.356348   1.000000  "
      ]
     },
     "execution_count": 30,
     "metadata": {},
     "output_type": "execute_result"
    }
   ],
   "source": [
    "# 相関係数を求める関数を使ってファイ係数を求める\n",
    "data.corr()"
   ]
  },
  {
   "cell_type": "markdown",
   "metadata": {},
   "source": [
    "数学（math_num）と統計(stats_num)のファイ係数は0.356348と算出された。ファイ係数は相関係数と似たような解釈ができる。この場合正の値なので、数学が好きと回答した人ほど統計が好きと回答する傾向があると言うことになる。もしファイ係数を求める際にはクロス集計表も合わせて提示した方が良い。クロス集計表の度数（値の数）の様子も確認する事が大事である。"
   ]
  },
  {
   "cell_type": "markdown",
   "metadata": {},
   "source": [
    "ここまでは手元のデータをどのように記述するかということ見てきたが次回から手元のデータの背後にある母集団の世界を想定した話へ進む。"
   ]
  },
  {
   "cell_type": "code",
   "execution_count": null,
   "metadata": {},
   "outputs": [],
   "source": []
  }
 ],
 "metadata": {
  "kernelspec": {
   "display_name": "Python 3",
   "language": "python",
   "name": "python3"
  },
  "language_info": {
   "codemirror_mode": {
    "name": "ipython",
    "version": 3
   },
   "file_extension": ".py",
   "mimetype": "text/x-python",
   "name": "python",
   "nbconvert_exporter": "python",
   "pygments_lexer": "ipython3",
   "version": "3.8.0"
  }
 },
 "nbformat": 4,
 "nbformat_minor": 4
}
