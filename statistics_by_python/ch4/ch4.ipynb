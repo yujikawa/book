{
 "cells": [
  {
   "cell_type": "markdown",
   "metadata": {},
   "source": [
    "# 統計的仮説検定\n",
    "推測統計の中でも利用頻度の高い重要なもので、統計的仮説検定の手順と様々な用語を説明する。その後、標準正規分布を使った検定、t分布を使った検定、無相関検定、カイ二乗検定といった代表的な統計的仮説検定の方法について説明する。"
   ]
  },
  {
   "cell_type": "markdown",
   "metadata": {},
   "source": [
    "## 統計的仮説検定の必要性\n",
    "<pre>\n",
    "<b>なぜ必要か？</b>\n",
    "以下のような例を考えてみる。\n",
    "ある研究者（以下Aさん）が、日本人の大学生において自尊感情とソーシャルスキルの間には相関があると主張をするために、実際に大学生を対象にデータを集めた。Aさんの関心は日本人の大学生全体だが、流石に全員からデータを集めるのは現実的ではないので50人の大学生を無作為に選びそれらの学生データを収集したところ、自尊感情とソーシャルスキルの間の相関は0.5であった。この結果から「相関関係がある」とAさんは結論づけた。\n",
    "\n",
    "もしAさんに意地悪なライバルがいた場合、どんなことを言われるのか。例えば「例え母集団全体では全く相関がなくても、標本に相関関係が見られることがある」「たまたま抽出した標本に相関関係のある人たちを選んだのでは？」実際に母集団全体では無相関でも標本に相関が確認できる場合もある。\n",
    "\n",
    "<b>ではどうすれば反論できるのか？</b>\n",
    "Aさんは自分の主張が正しいというためには母集団全てのデータを集めなければならないのか？それが難しいから標本による検証を行ったので無理です。残された方法があるならば、「母集団に全く相関がないとしたら、抽出した標本の結果が得られる可能性は非常に小さい」という証明をするしかない。完全には否定できないものの限られた標本データからある程度の合理性を持った主張として強力である。\n",
    "\n",
    "<b>統計的仮説検定</b>は確率論に基づきこのような主張を行うための方法である。\n",
    "</pre>"
   ]
  },
  {
   "cell_type": "markdown",
   "metadata": {},
   "source": [
    "## 統計的仮説検定の手順と用語\n",
    "|手順|やること|\n",
    "|:---|:---|\n",
    "|1|母集団に関する帰無仮説と対立仮説を設定する|\n",
    "|2|検定統計量を選ぶ|\n",
    "|3|有意水準αの値を決める|\n",
    "|4|データから検定統計量の実現値を求める|\n",
    "|5|検定統計量の実現値が棄却域に入れば帰無仮説を棄却して、対立仮説を採択する。棄却域に入らなければ帰無仮説を採択する|\n",
    "\n",
    "<p>統計的仮説検定では、はじめに帰無仮説を立てる。例えば母集団に関して母平均$\\mu=0$、母相関係数$\\rho=0$、母平均の差$\\mu_1 - \\mu_2 = 0$といった「〇〇がない」という帰無仮説だ。これとは逆に「〇〇がある」という対立仮説を立てる。例えば、母平均は0でない、母相関が0でないなどだ。つまり<b>差がないという帰無仮説と差があるという対立仮説を立てる。</b></p>\n",
    "<p>\n",
    "対立仮説の設定によって、検定は両側検定もしくは片側検定となる。対立仮説が母平均$\\mu\\neq0$、母相関係数$\\rho\\neq0$、母平均の差が$\\mu_1 - \\mu_2 \\neq 0$などの場合は両側検定となる。一方で対立仮説が母平均$\\mu>0$、母相関係数$\\rho>0$、母平均の差が$\\mu_1 - \\mu_2 > 0$などの場合は片側検定となる。</p>\n",
    "\n",
    "<p>続いてこれらを吟味するための検定統計量を決める。そして有意水準を設定する。ここまではデータを収集する前にやっておくべきことである。データが手に入ったら、そのデータから検定統計量の実現値を計算する。</p>\n",
    "\n",
    "<p>\n",
    "そして、その値が棄却域に入れば、帰無仮説を棄却して「有意な相関がある」とか「有意な差がある」という判断をする。一方で棄却域に入らない場合は帰無仮説を棄却できないとして、「有意な相関がない」とか「有意な差がない」という判断をする。\n",
    "</p>"
   ]
  },
  {
   "cell_type": "markdown",
   "metadata": {},
   "source": [
    "## 帰無仮説と対立仮説\n",
    "<p>「差がない」「効果がない」などと仮説を立てることを帰無仮説という。帰無仮説は記号では$H_0$と表される。帰無仮説は一般に、本来主張したいことと逆の仮説になる。本当は「差がある」ことを主張したいのにあえて「差がない」という仮説を始める。</p>\n",
    "\n",
    "<p>帰無仮説が棄却されたときに採択される仮説が対立仮説という。対立仮説は$H_1$と表される。</p>\n",
    "\n",
    "<p>統計仮説検定ではまず、帰無仮説と対立仮説を定める。そして帰無仮説は正しいということで話を進める。実際に得られたデータから計算された検定統計量の値がとても極端な値であり、そのような値は滅多に手に入らない。非常に珍しい値だということがわかったとする。つまり帰無仮説が正しいとしたらほぼ起こり得ない結果が起こったということである。このとき実際のデータの様子から「帰無仮説が正しい」という前提を疑い、帰無仮説を棄却する。一方実際のデータが帰無仮説のもとであり得るような極端な値でなかった場合は帰無仮説を採択する。</p>\n"
   ]
  },
  {
   "cell_type": "markdown",
   "metadata": {},
   "source": [
    "## 検定統計量\n",
    "統計的仮説検定のために用いられる標本統計量のことを検定統計量という。実際のデータから検定統計量の値を計算する。こうして標本から計算された検定統計量の具体的な値のことを検定統計量の実現値という。検定統計量の実現値は帰無仮説にそぐわず対立仮説にあっているほど0から離れた値をとる。代表的な検定統計量には$t,\\chi^2,F$などがある"
   ]
  },
  {
   "cell_type": "markdown",
   "metadata": {},
   "source": [
    "## 有意水準と棄却域\n",
    "帰無仮説を棄却して、対立仮説を採択するかどうかを決定するとき、どの程度低い確率の結果が得られたら帰無仮説を棄却するかという基準を有意水準という。通常5%や1%で設定されることが多い。有意水準は$\\alpha$で表される。$\\alpha=0.05$と書いたら有意水準が5%である。検定統計量が決まったら次に標本分布を考える。帰無仮説のもとでの標本分布を帰無分布と呼ぶ。帰無仮説のもとで非常に生じにくい検定統計量の値の範囲を棄却域と呼ぶ。棄却域部分以外を採択域といい、棄却域と採択域の境界を臨界値と呼ぶ。"
   ]
  },
  {
   "cell_type": "markdown",
   "metadata": {},
   "source": [
    "## 統計的仮説検定の結果報告\n",
    "検定統計量の実現値が棄却域に入った場合、「差がない」という帰無仮説を棄却し「差がある」という対立仮説を採択する。こうした判断を「検定結果は5%水準で有意である」とか「$p<0.05$で有意差が見られた」という。一方帰無仮説を棄却できない場合は「検定の結果、差が有意でない」や「有意な差は認められなかった」などと記述する。"
   ]
  },
  {
   "cell_type": "markdown",
   "metadata": {},
   "source": [
    "## $p$値\n",
    "$p$値とは、帰無仮説が正しいという仮定のもとで、標本から計算した検定統計量の実現値以上の値が得られる確率である。$p$値が有意水準$\\alpha$より小さい時に帰無仮説を棄却する。"
   ]
  },
  {
   "cell_type": "markdown",
   "metadata": {},
   "source": [
    "## 第１種の誤りと第２種の誤り\n",
    "- 帰無仮説が真の時、棄却してしまう（第１種の誤り）\n",
    "- 帰無仮説が偽の時、採択してしまう（第２種の誤り）"
   ]
  },
  {
   "cell_type": "markdown",
   "metadata": {},
   "source": [
    "## 検定力\n",
    "間違っている帰無仮説を正く棄却できる確率のことであり、この確率が低い状態で統計検定を行うのは適切ではない。"
   ]
  },
  {
   "cell_type": "markdown",
   "metadata": {},
   "source": [
    "## 標準正規分布を用いた検定（１つの平均値の検定・母分散$\\sigma^2$が既知）\n",
    "<p>ここでは標準正規分布を帰無分布とする１つの平均値の検定方法を紹介する。検定統計量は$Z=\\frac{\\overline{X}-\\mu}{\\sigma\\sqrt{n}}$とする。正規母集団から無作為に標本を抽出する場合、標本平均の分布も正規分布に従う。その標本分布は平均$\\mu$、分散$\\frac{\\sigma^2}{n}$の正規分布になる$(\\overline{X}-N(\\mu,\\frac{\\sigma^2}{n}))$</p>\n",
    "これを標準化すると、$Z=\\frac{\\overline{X}-\\mu}{\\sigma\\sqrt{n}}~N(0,1)$となり、Zは標準正規分布に従う。"
   ]
  },
  {
   "cell_type": "markdown",
   "metadata": {},
   "source": [
    "<p><b>例題：過去のデータから「心理学テスト」の得点は平均12、分散10の正規分布に従うことが知られている。「指導法データ」の20人の心理学テスト得点はこの母集団からの無作為標本と考えて良いか？\n",
    "</p></b>"
   ]
  },
  {
   "cell_type": "code",
   "execution_count": 37,
   "metadata": {},
   "outputs": [],
   "source": [
    "import numpy as np\n",
    "test = np.array([13,14,7,12,10,6,8,15,4,14,9,6,10,12,5,12,8,8,12,15])"
   ]
  },
  {
   "cell_type": "markdown",
   "metadata": {},
   "source": [
    "### (1)帰無仮説と対立仮説の設定\n",
    "- 帰無仮説$H_0$：$\\mu=12$（心理学テストの母平均は12である）\n",
    "- 対立仮説$H_1$：$\\mu\\neq12$（心理学テストの母平均は12ではない）\n",
    "<p>対立仮説の設定より両側検定となる</p>"
   ]
  },
  {
   "cell_type": "markdown",
   "metadata": {},
   "source": [
    "### (2)検定統計量の選択\n",
    "$Z=\\frac{\\overline{X}-\\mu}{\\sigma\\sqrt{n}}$"
   ]
  },
  {
   "cell_type": "markdown",
   "metadata": {},
   "source": [
    "### (3)有意水準$\\alpha$の決定\n",
    "5%、つまり$\\alpha=0.05$とする両側検定である。"
   ]
  },
  {
   "cell_type": "markdown",
   "metadata": {},
   "source": [
    "### (4)検定統計量の実現値を求める\n",
    "母集団分布$X〜N(12,10)$より、平均点の標本分布は$\\overline{X}〜N(12, \\frac{10}{20})$となる。検定統計量を求める"
   ]
  },
  {
   "cell_type": "code",
   "execution_count": 23,
   "metadata": {},
   "outputs": [
    {
     "name": "stdout",
     "output_type": "stream",
     "text": [
      "-2.82842712474619\n"
     ]
    }
   ],
   "source": [
    "population_mean = 12 # 母平均\n",
    "population_var = 10  # 母分散\n",
    "a = test.mean() - population_mean\n",
    "b = np.sqrt(population_var/len(test))\n",
    "z = a/b\n",
    "print(z)"
   ]
  },
  {
   "cell_type": "markdown",
   "metadata": {},
   "source": [
    "### (5)帰無仮説の棄却 or 採択の決定\n",
    "標準正規分布の両側検定・有意水準5%の時の棄却域を求めよう。"
   ]
  },
  {
   "cell_type": "code",
   "execution_count": 16,
   "metadata": {},
   "outputs": [],
   "source": [
    "from scipy import stats\n",
    "alpha = 0.05\n",
    "under_p = stats.norm.ppf(alpha / 2)\n",
    "upper_p = stats.norm.ppf(1 - alpha / 2)"
   ]
  },
  {
   "cell_type": "code",
   "execution_count": 22,
   "metadata": {},
   "outputs": [
    {
     "data": {
      "text/plain": [
       "True"
      ]
     },
     "execution_count": 22,
     "metadata": {},
     "output_type": "execute_result"
    }
   ],
   "source": [
    "# 検定統計量の実現値は棄却域に入るのか？\n",
    "z < under_p or z > upper_p"
   ]
  },
  {
   "cell_type": "markdown",
   "metadata": {},
   "source": [
    "zは棄却域に入るため、帰無仮説は棄却される。検定の結果は5%水準で有意であったつまり指導法データの心理学テスト得点は母平均12であるとは言えない。もしくは平均12、分散10の正規母集団からの無作為標本とは言えない"
   ]
  },
  {
   "cell_type": "markdown",
   "metadata": {},
   "source": [
    "## t分布を用いた検定（１つの平均値の検定・母分散$\\sigma^2$が未知）\n",
    "正規母集団からの無作為標本であり、かつ母集団の分散$\\sigma^2$がわからない場合を考える。この場合は標準正規分布を使うことはできない。なぜなら$Z=\\frac{\\overline{X}-\\mu}{\\sigma\\sqrt{n}}$の検定統計量で$\\sigma$の値がわからないとZを計算できないからだ。そこで未知の$\\sigma$の代わりに、標本から求められる不偏分散の正の平方根である$\\hat{\\sigma}$を用いて計算される$t=\\frac{\\overline{X}-\\mu}{\\hat{\\sigma}\\sqrt{n}}$という検定統計量を利用する。この統計量は帰無仮説のもとで自由度$df=n-1$のt分布に従う。t分布とは統計学でよく利用される確率分布の一つ。形状は正規分布に似ていて、左右対称・山形の分布である。t分布は自由度(df:degrees of freedom)という数値によりその形状が決まる。自由度が小さいほど山の天辺が低く両裾が高い形状となる。"
   ]
  },
  {
   "cell_type": "code",
   "execution_count": 3,
   "metadata": {},
   "outputs": [
    {
     "data": {
      "image/png": "[encoded data removed]",
      "text/plain": [
       "<Figure size 432x288 with 1 Axes>"
      ]
     },
     "metadata": {
      "needs_background": "light"
     },
     "output_type": "display_data"
    }
   ],
   "source": [
    "import numpy as np\n",
    "import matplotlib.pyplot as plt\n",
    "from scipy import stats\n",
    "x = np.linspace(-6, 6, 1000)\n",
    "fig,ax = plt.subplots(1,1)\n",
    " \n",
    "linestyles = [':', '--', '-.', '-']\n",
    "deg_of_freedom = [1, 2, 4, 8]\n",
    "for k, ls in zip(deg_of_freedom, linestyles):\n",
    "  ax.plot(x, stats.t.pdf(x, k), linestyle=ls, label=r'$k=%i$' % k)\n",
    " \n",
    "ax.plot(x, stats.norm.pdf(x, 0, 1), linestyle='-', label=\"Standard Normal Distribution\")\n",
    " \n",
    "plt.xlim(-6, 6)\n",
    "plt.ylim(0, 0.4)\n",
    " \n",
    "plt.legend()\n",
    "plt.show()"
   ]
  },
  {
   "cell_type": "markdown",
   "metadata": {},
   "source": [
    "以下ではt分布を用いた検定（t検定）を行い、１つの平均値の検定を行う。\n",
    "<p><b>\n",
    "例題：過去のデータの蓄積から、「心理学テスト」の得点は平均12の正規分布に従うことが知られている。（心理学テストの母集団分布は$X~N(12, \\sigma^2)$「指導法データ」の20人の心理学テストの得点はこの母集団からの無作標本と考えて良いか？\n",
    "</p></b>"
   ]
  },
  {
   "cell_type": "markdown",
   "metadata": {},
   "source": [
    "### (1)帰無仮説と対立仮説の設定\n",
    "- 帰無仮説$H_0$：$\\mu=12$（心理学テストの母平均は12である）\n",
    "- 対立仮説$H_1$：$\\mu\\neq12$（心理学テストの母平均は12ではない）"
   ]
  },
  {
   "cell_type": "markdown",
   "metadata": {},
   "source": [
    "### (2)検定統計量の選択\n",
    "$t=\\frac{\\overline{X}-\\mu}{\\hat{\\sigma}\\sqrt{n}}$を検定統計量とする"
   ]
  },
  {
   "cell_type": "markdown",
   "metadata": {},
   "source": [
    "### (3)有意水準$\\alpha$の決定\n",
    "5%、つまり$\\alpha=0.05$とし、両側検定とする。"
   ]
  },
  {
   "cell_type": "markdown",
   "metadata": {},
   "source": [
    "### (4)検定統計量の実現値を求める\n",
    "検定統計量の実現値を求めよう。"
   ]
  },
  {
   "cell_type": "code",
   "execution_count": 7,
   "metadata": {},
   "outputs": [
    {
     "name": "stdout",
     "output_type": "stream",
     "text": [
      "t統計量= -2.6846242208560973\n"
     ]
    }
   ],
   "source": [
    "a = test.mean() - 12              #検定統計量の分子を計算\n",
    "b = np.sqrt(test.var()/len(test)) #検定統計量の分母の計算\n",
    "t = a/b\n",
    "print('t統計量=', t)"
   ]
  },
  {
   "cell_type": "markdown",
   "metadata": {},
   "source": [
    "### (5)帰無仮説の棄却or採択の決定\n",
    "この検定統計量は帰無仮説のもとで自由度$df=n-1=20-1=19$のt分布に従う。自由度がdfのt分布で下側確率がpとなるtの値を求める。有意水準5%、両側検定の時の棄却域を求める。"
   ]
  },
  {
   "cell_type": "code",
   "execution_count": 27,
   "metadata": {},
   "outputs": [],
   "source": [
    "under_p = stats.t.ppf(0.025,19)     # 自由度19のt分布で下側確率0.025となるtの値を求める\n",
    "upper_p = stats.t.ppf(1 - 0.025,19) # 自由度19のt分布で上側確率0.025となるtの値を求める"
   ]
  },
  {
   "cell_type": "code",
   "execution_count": 26,
   "metadata": {},
   "outputs": [
    {
     "data": {
      "text/plain": [
       "True"
      ]
     },
     "execution_count": 26,
     "metadata": {},
     "output_type": "execute_result"
    }
   ],
   "source": [
    "t < under_p or t > upper_p"
   ]
  },
  {
   "cell_type": "markdown",
   "metadata": {},
   "source": [
    "棄却域に入るので帰無仮説は棄却される"
   ]
  },
  {
   "cell_type": "markdown",
   "metadata": {},
   "source": [
    "## 相関係数の検定（無相関検定）\n",
    "この検定では帰無仮説を「母集団において相関が0である」と設定するため、無相関検定とも呼ばれる。母集団相関係数に関する検定を行う時には、標本相関係数rを次式に変換する。<br>\n",
    "$$t=\\frac{r\\sqrt{n-2}}{\\sqrt{1-r^2}}$$\n",
    "こうして変換されたtは帰無仮説のもとで自由度$df=n-2$のt分布に従う。統計テスト1と統計テスト2の間の相関について検定を行う。"
   ]
  },
  {
   "cell_type": "markdown",
   "metadata": {},
   "source": [
    "### (1)帰無仮説と対立仮説の設定\n",
    "- 帰無仮説$H_0$：$\\rho=0$（母相関は０である）\n",
    "- 対立仮説$H_1$：$\\rho\\neq0$（母相関は０ではない）\n",
    "<p>対立仮説より両側検定となる</p>\n"
   ]
  },
  {
   "cell_type": "markdown",
   "metadata": {},
   "source": [
    "### (2)検定統計量の選択\n",
    "$t=\\frac{r\\sqrt{n-2}}{\\sqrt{1-r^2}}$を検定統計量とする"
   ]
  },
  {
   "cell_type": "markdown",
   "metadata": {},
   "source": [
    "### (3)有意水準$\\alpha$の決定\n",
    "5%、つまり$\\alpha=0.05$とする（両側検定）"
   ]
  },
  {
   "cell_type": "markdown",
   "metadata": {},
   "source": [
    "### (4)検定統計量の実現値を求める"
   ]
  },
  {
   "cell_type": "code",
   "execution_count": 24,
   "metadata": {},
   "outputs": [],
   "source": [
    "import pandas as pd\n",
    "import numpy as np\n",
    "from scipy import stats\n",
    "data = pd.read_csv('../data/teaching_method.csv')"
   ]
  },
  {
   "cell_type": "code",
   "execution_count": 25,
   "metadata": {},
   "outputs": [],
   "source": [
    "corr_values = data.corr()"
   ]
  },
  {
   "cell_type": "code",
   "execution_count": 26,
   "metadata": {},
   "outputs": [],
   "source": [
    "corr_value = corr_values.loc['stats_test1', 'stats_test2']"
   ]
  },
  {
   "cell_type": "code",
   "execution_count": 27,
   "metadata": {},
   "outputs": [
    {
     "data": {
      "text/plain": [
       "0.7496589648242449"
      ]
     },
     "execution_count": 27,
     "metadata": {},
     "output_type": "execute_result"
    }
   ],
   "source": [
    "corr_value"
   ]
  },
  {
   "cell_type": "code",
   "execution_count": 28,
   "metadata": {},
   "outputs": [],
   "source": [
    "sample_size = len(data['stats_test1'])"
   ]
  },
  {
   "cell_type": "code",
   "execution_count": 29,
   "metadata": {},
   "outputs": [
    {
     "data": {
      "text/plain": [
       "20"
      ]
     },
     "execution_count": 29,
     "metadata": {},
     "output_type": "execute_result"
    }
   ],
   "source": [
    "sample_size"
   ]
  },
  {
   "cell_type": "code",
   "execution_count": 30,
   "metadata": {},
   "outputs": [
    {
     "data": {
      "text/plain": [
       "3.180533625627066"
      ]
     },
     "execution_count": 30,
     "metadata": {},
     "output_type": "execute_result"
    }
   ],
   "source": [
    "a = corr_value * np.sqrt(sample_size - 2)\n",
    "a"
   ]
  },
  {
   "cell_type": "code",
   "execution_count": 31,
   "metadata": {},
   "outputs": [
    {
     "data": {
      "text/plain": [
       "0.6618243244688439"
      ]
     },
     "execution_count": 31,
     "metadata": {},
     "output_type": "execute_result"
    }
   ],
   "source": [
    "b = np.sqrt(1 - corr_value**2)\n",
    "b"
   ]
  },
  {
   "cell_type": "code",
   "execution_count": 32,
   "metadata": {},
   "outputs": [
    {
     "data": {
      "text/plain": [
       "4.805706753343717"
      ]
     },
     "execution_count": 32,
     "metadata": {},
     "output_type": "execute_result"
    }
   ],
   "source": [
    "t = a/b\n",
    "t"
   ]
  },
  {
   "cell_type": "markdown",
   "metadata": {},
   "source": [
    "### (5)帰無仮説の棄却or採択の決定\n",
    "この検定統計量は帰無仮説のもとで自由度$df=n-2=20-2=18$のt分布に従う。"
   ]
  },
  {
   "cell_type": "code",
   "execution_count": 33,
   "metadata": {},
   "outputs": [],
   "source": [
    "under_p = stats.t.ppf(0.025, sample_size - 2)     # 自由度19のt分布で下側確率0.025となるtの値を求める\n",
    "upper_p = stats.t.ppf(1 - 0.025, sample_size - 2) # 自由度19のt分布で上側確率0.025となるtの値を求める"
   ]
  },
  {
   "cell_type": "code",
   "execution_count": 34,
   "metadata": {},
   "outputs": [
    {
     "data": {
      "text/plain": [
       "-2.10092204024096"
      ]
     },
     "execution_count": 34,
     "metadata": {},
     "output_type": "execute_result"
    }
   ],
   "source": [
    "under_p"
   ]
  },
  {
   "cell_type": "code",
   "execution_count": 35,
   "metadata": {},
   "outputs": [
    {
     "data": {
      "text/plain": [
       "2.10092204024096"
      ]
     },
     "execution_count": 35,
     "metadata": {},
     "output_type": "execute_result"
    }
   ],
   "source": [
    "upper_p"
   ]
  },
  {
   "cell_type": "code",
   "execution_count": 36,
   "metadata": {},
   "outputs": [
    {
     "data": {
      "text/plain": [
       "True"
      ]
     },
     "execution_count": 36,
     "metadata": {},
     "output_type": "execute_result"
    }
   ],
   "source": [
    "# 棄却域に入るかどうかのチェック\n",
    "t < under_p or t > upper_p"
   ]
  },
  {
   "cell_type": "markdown",
   "metadata": {},
   "source": [
    "棄却域に入るため帰無仮説は棄却されるため、統計学テスト1と統計学テスト2の得点の相関係数は5%水準で有意であるという判断ができる。"
   ]
  },
  {
   "cell_type": "markdown",
   "metadata": {},
   "source": [
    "## 独立性の検定（カイ二乗検定）\n",
    "独立性の検定とは、２つの質的変数が独立であるかどうかを確かめるために行う。<b>２つの質的変数が独立ということは連関がない</b>ということである。例として、数学の好き嫌いと統計学の好き嫌いの連関を考えてみる。"
   ]
  },
  {
   "cell_type": "code",
   "execution_count": 38,
   "metadata": {},
   "outputs": [],
   "source": [
    "import pandas as pd\n",
    "data = pd.read_csv('../data/teaching_method.csv')"
   ]
  },
  {
   "cell_type": "code",
   "execution_count": 52,
   "metadata": {},
   "outputs": [],
   "source": [
    "cross = pd.crosstab(data['math'], data['stats'], margins=True)"
   ]
  },
  {
   "cell_type": "code",
   "execution_count": 53,
   "metadata": {},
   "outputs": [
    {
     "data": {
      "text/html": [
       "<div>\n",
       "<style scoped>\n",
       "    .dataframe tbody tr th:only-of-type {\n",
       "        vertical-align: middle;\n",
       "    }\n",
       "\n",
       "    .dataframe tbody tr th {\n",
       "        vertical-align: top;\n",
       "    }\n",
       "\n",
       "    .dataframe thead th {\n",
       "        text-align: right;\n",
       "    }\n",
       "</style>\n",
       "<table border=\"1\" class=\"dataframe\">\n",
       "  <thead>\n",
       "    <tr style=\"text-align: right;\">\n",
       "      <th>stats</th>\n",
       "      <th>好き</th>\n",
       "      <th>嫌い</th>\n",
       "      <th>All</th>\n",
       "    </tr>\n",
       "    <tr>\n",
       "      <th>math</th>\n",
       "      <th></th>\n",
       "      <th></th>\n",
       "      <th></th>\n",
       "    </tr>\n",
       "  </thead>\n",
       "  <tbody>\n",
       "    <tr>\n",
       "      <th>好き</th>\n",
       "      <td>4</td>\n",
       "      <td>2</td>\n",
       "      <td>6</td>\n",
       "    </tr>\n",
       "    <tr>\n",
       "      <th>嫌い</th>\n",
       "      <td>4</td>\n",
       "      <td>10</td>\n",
       "      <td>14</td>\n",
       "    </tr>\n",
       "    <tr>\n",
       "      <th>All</th>\n",
       "      <td>8</td>\n",
       "      <td>12</td>\n",
       "      <td>20</td>\n",
       "    </tr>\n",
       "  </tbody>\n",
       "</table>\n",
       "</div>"
      ],
      "text/plain": [
       "stats  好き  嫌い  All\n",
       "math              \n",
       "好き      4   2    6\n",
       "嫌い      4  10   14\n",
       "All     8  12   20"
      ]
     },
     "execution_count": 53,
     "metadata": {},
     "output_type": "execute_result"
    }
   ],
   "source": [
    "cross"
   ]
  },
  {
   "cell_type": "markdown",
   "metadata": {},
   "source": [
    "<b>\n",
    "例題：上記の結果から数学の好き嫌いと統計の好き嫌いの間に有意な連関があると言えるのか？有意水準5%で答えよ。\n",
    "</b>"
   ]
  },
  {
   "cell_type": "markdown",
   "metadata": {},
   "source": [
    "こうした２つの質的変数間の連関の有意性を調べるために、独立性の検定を行う。独立性の検定における検定統計量は下記の式で与えられる。\n",
    "$$\n",
    "\\chi^2 = \\frac{(O_1 - E_1)^2}{E_1} + \\frac{(O_2 - E_2)^2}{E_1} + .... + \\frac{(O_k - E_k)^2}{E_k}\n",
    "$$\n",
    "<p>\n",
    "$\\chi^2$値によって、観測度数（$O_1,O_2.....O_k$）と期待度数（$E_1,E_2,....E_k$）の間のズレを評価する。観測度数はクロス集計における実際の度数であり、期待度数は２つの変数の間に連関がないという帰無仮説のもとで帰無仮説が正しければどれくらいの度数をとるだろうと期待される度数のことである。期待度数は周辺度数から計算することができる。例えば、数学が嫌い・統計が嫌いというセルについては観測度数は10、期待度数は$(12\\times14)\\div20=8.4$この観測度数10と期待度数8.4のズレを全てのセルについて考えるということである。\n",
    "</p>"
   ]
  },
  {
   "cell_type": "markdown",
   "metadata": {},
   "source": [
    "### (1)帰無仮説と対立仮説の設定\n",
    "- 帰無仮説$H_0$：２つの変数は独立である（数学と統計の間には連関がない）\n",
    "- 対立仮説$H_1$：２つの変数は独立ではない（数学と統計の間には連関がある）"
   ]
  },
  {
   "cell_type": "markdown",
   "metadata": {},
   "source": [
    "### (2)検定統計量の選択\n",
    "$$\n",
    "\\chi^2 = \\frac{(O_1 - E_1)^2}{E_1} + \\frac{(O_2 - E_2)^2}{E_1} + .... + \\frac{(O_k - E_k)^2}{E_k}\n",
    "$$\n",
    "<p>\n",
    "この検定統計量は帰無仮説のもとで自由度１のカイ二乗分布に従う\n",
    "</p>"
   ]
  },
  {
   "cell_type": "markdown",
   "metadata": {},
   "source": [
    "### (3)有意水準$\\alpha$の決定\n",
    "<p>5%つまり$\\alpha=0.05$とする。カイ二乗統計量は検定統計量の式からもわかるように正の値しか取らない。標準正規分布やt分布のように0を中心とした左右対称の分布にはならない。このためこの検定は片側検定になる。観測度数と期待度数とのズレが大きいほど検定統計量の実現値は大きな値をとる。</p>\n",
    "<p>\n",
    "ここでカイ二乗分布について説明する。カイ二乗分布もt分布と同様統計学でよく利用される確率分布の１つである。カイ二乗分布も自由度によりその形状が決まる。\n",
    "</p>"
   ]
  },
  {
   "cell_type": "code",
   "execution_count": 64,
   "metadata": {},
   "outputs": [
    {
     "data": {
      "image/png": "[encoded data removed]",
      "text/plain": [
       "<Figure size 432x288 with 1 Axes>"
      ]
     },
     "metadata": {
      "needs_background": "light"
     },
     "output_type": "display_data"
    }
   ],
   "source": [
    "%matplotlib inline\n",
    "from scipy import stats\n",
    "import numpy as np\n",
    "import matplotlib.pyplot as plt\n",
    "x = np.linspace(0, 20, 1000)\n",
    "fig,ax = plt.subplots(1,1)\n",
    " \n",
    "linestyles = [':', '--', '-.', '-']\n",
    "df_list = [1, 2, 4, 8]\n",
    "for df, ls in zip(df_list, linestyles):\n",
    "  ax.plot(x, stats.chi2.pdf(x, df), linestyle=ls, label=r'$df=%i$' % df)\n",
    " \n",
    "plt.xlim(0, 20)\n",
    "plt.ylim(0, 0.5)\n",
    " \n",
    "plt.legend()\n",
    "plt.show()\n"
   ]
  },
  {
   "cell_type": "markdown",
   "metadata": {},
   "source": [
    "### (4)検定統計量の実現値を求める"
   ]
  },
  {
   "cell_type": "code",
   "execution_count": 70,
   "metadata": {},
   "outputs": [
    {
     "data": {
      "text/html": [
       "<div>\n",
       "<style scoped>\n",
       "    .dataframe tbody tr th:only-of-type {\n",
       "        vertical-align: middle;\n",
       "    }\n",
       "\n",
       "    .dataframe tbody tr th {\n",
       "        vertical-align: top;\n",
       "    }\n",
       "\n",
       "    .dataframe thead th {\n",
       "        text-align: right;\n",
       "    }\n",
       "</style>\n",
       "<table border=\"1\" class=\"dataframe\">\n",
       "  <thead>\n",
       "    <tr style=\"text-align: right;\">\n",
       "      <th>stats</th>\n",
       "      <th>好き</th>\n",
       "      <th>嫌い</th>\n",
       "      <th>All</th>\n",
       "    </tr>\n",
       "    <tr>\n",
       "      <th>math</th>\n",
       "      <th></th>\n",
       "      <th></th>\n",
       "      <th></th>\n",
       "    </tr>\n",
       "  </thead>\n",
       "  <tbody>\n",
       "    <tr>\n",
       "      <th>好き</th>\n",
       "      <td>4</td>\n",
       "      <td>2</td>\n",
       "      <td>6</td>\n",
       "    </tr>\n",
       "    <tr>\n",
       "      <th>嫌い</th>\n",
       "      <td>4</td>\n",
       "      <td>10</td>\n",
       "      <td>14</td>\n",
       "    </tr>\n",
       "    <tr>\n",
       "      <th>All</th>\n",
       "      <td>8</td>\n",
       "      <td>12</td>\n",
       "      <td>20</td>\n",
       "    </tr>\n",
       "  </tbody>\n",
       "</table>\n",
       "</div>"
      ],
      "text/plain": [
       "stats  好き  嫌い  All\n",
       "math              \n",
       "好き      4   2    6\n",
       "嫌い      4  10   14\n",
       "All     8  12   20"
      ]
     },
     "execution_count": 70,
     "metadata": {},
     "output_type": "execute_result"
    }
   ],
   "source": [
    "cross"
   ]
  },
  {
   "cell_type": "code",
   "execution_count": 102,
   "metadata": {},
   "outputs": [
    {
     "name": "stdout",
     "output_type": "stream",
     "text": [
      "8\n",
      "6\n",
      "12\n",
      "14\n"
     ]
    }
   ],
   "source": [
    "print(cross.loc['All','好き'])\n",
    "print(cross.loc['好き','All'])\n",
    "print(cross.loc['All','嫌い'])\n",
    "print(cross.loc['嫌い','All'])"
   ]
  },
  {
   "cell_type": "code",
   "execution_count": 113,
   "metadata": {},
   "outputs": [],
   "source": [
    "a11 = cross.loc['All','好き'] * cross.loc['好き','All'] / cross.loc['All','All']\n",
    "a12 = cross.loc['好き','All'] * cross.loc['All','嫌い'] / cross.loc['All','All']\n",
    "a21 = cross.loc['All','好き'] * cross.loc['嫌い','All'] / cross.loc['All','All']\n",
    "a22 = cross.loc['All','嫌い'] * cross.loc['嫌い','All'] / cross.loc['All','All']"
   ]
  },
  {
   "cell_type": "code",
   "execution_count": 114,
   "metadata": {},
   "outputs": [],
   "source": [
    "e = np.array([a11, a12, a21, a22])\n",
    "o = np.array([cross.loc['好き','好き'],cross.loc['好き','嫌い'],cross.loc['嫌い','好き'],cross.loc['嫌い','嫌い']])"
   ]
  },
  {
   "cell_type": "code",
   "execution_count": 118,
   "metadata": {},
   "outputs": [
    {
     "data": {
      "text/plain": [
       "2.5396825396825395"
      ]
     },
     "execution_count": 118,
     "metadata": {},
     "output_type": "execute_result"
    }
   ],
   "source": [
    "chi = np.sum((o - e)**2/e)\n",
    "chi"
   ]
  },
  {
   "cell_type": "markdown",
   "metadata": {},
   "source": [
    "### (5)帰無仮説の棄却or採択の決定\n",
    "この検定統計量は帰無仮説のもとで自由度$df=1$のカイ二条分布に従う。棄却域を求めよう"
   ]
  },
  {
   "cell_type": "code",
   "execution_count": 122,
   "metadata": {},
   "outputs": [],
   "source": [
    "upper_p = stats.chi2.ppf(0.95, 1)"
   ]
  },
  {
   "cell_type": "code",
   "execution_count": 123,
   "metadata": {},
   "outputs": [
    {
     "data": {
      "text/plain": [
       "False"
      ]
     },
     "execution_count": 123,
     "metadata": {},
     "output_type": "execute_result"
    }
   ],
   "source": [
    "chi > upper_p"
   ]
  },
  {
   "cell_type": "markdown",
   "metadata": {},
   "source": [
    "棄却域に入らないため帰無仮説は棄却されない、つまり数学の好き嫌いと統計の好き嫌いは連関があるとは言えない。"
   ]
  },
  {
   "cell_type": "markdown",
   "metadata": {},
   "source": [
    "## サンプルサイズの検定結果の影響について\n",
    "カイ二乗検定を例にサンプルサイズが検定結果にどのような影響を及ぼすか考えてみよう。"
   ]
  },
  {
   "cell_type": "code",
   "execution_count": 30,
   "metadata": {},
   "outputs": [],
   "source": [
    "import pandas as pd\n",
    "import numpy as np\n",
    "from scipy import stats\n",
    "data = pd.DataFrame([[16, 4, 20],[12, 8, 20], [28, 12, 40]], columns=['履修した', '履修しない', 'All'], index=['文系', '理系','All'])"
   ]
  },
  {
   "cell_type": "code",
   "execution_count": 31,
   "metadata": {},
   "outputs": [
    {
     "data": {
      "text/html": [
       "<div>\n",
       "<style scoped>\n",
       "    .dataframe tbody tr th:only-of-type {\n",
       "        vertical-align: middle;\n",
       "    }\n",
       "\n",
       "    .dataframe tbody tr th {\n",
       "        vertical-align: top;\n",
       "    }\n",
       "\n",
       "    .dataframe thead th {\n",
       "        text-align: right;\n",
       "    }\n",
       "</style>\n",
       "<table border=\"1\" class=\"dataframe\">\n",
       "  <thead>\n",
       "    <tr style=\"text-align: right;\">\n",
       "      <th></th>\n",
       "      <th>履修した</th>\n",
       "      <th>履修しない</th>\n",
       "      <th>All</th>\n",
       "    </tr>\n",
       "  </thead>\n",
       "  <tbody>\n",
       "    <tr>\n",
       "      <th>文系</th>\n",
       "      <td>16</td>\n",
       "      <td>4</td>\n",
       "      <td>20</td>\n",
       "    </tr>\n",
       "    <tr>\n",
       "      <th>理系</th>\n",
       "      <td>12</td>\n",
       "      <td>8</td>\n",
       "      <td>20</td>\n",
       "    </tr>\n",
       "    <tr>\n",
       "      <th>All</th>\n",
       "      <td>28</td>\n",
       "      <td>12</td>\n",
       "      <td>40</td>\n",
       "    </tr>\n",
       "  </tbody>\n",
       "</table>\n",
       "</div>"
      ],
      "text/plain": [
       "     履修した  履修しない  All\n",
       "文系     16      4   20\n",
       "理系     12      8   20\n",
       "All    28     12   40"
      ]
     },
     "execution_count": 31,
     "metadata": {},
     "output_type": "execute_result"
    }
   ],
   "source": [
    "data"
   ]
  },
  {
   "cell_type": "code",
   "execution_count": 32,
   "metadata": {},
   "outputs": [
    {
     "data": {
      "text/plain": [
       "1.9047619047619047"
      ]
     },
     "execution_count": 32,
     "metadata": {},
     "output_type": "execute_result"
    }
   ],
   "source": [
    "a11 = data.loc['All','履修した'] * data.loc['文系','All'] / data.loc['All','All']\n",
    "a12 = data.loc['文系','All'] * data.loc['All','履修しない'] / data.loc['All','All']\n",
    "a21 = data.loc['All','履修した'] * data.loc['理系','All'] / data.loc['All','All']\n",
    "a22 = data.loc['All','履修しない'] * data.loc['理系','All'] / data.loc['All','All']\n",
    "e = np.array([a11, a12, a21, a22])\n",
    "o = np.array([data.loc['文系','履修した'],\n",
    "              data.loc['文系','履修しない'],\n",
    "              data.loc['理系','履修した'],\n",
    "              data.loc['理系','履修しない']])\n",
    "chi = np.sum((o - e)**2/e)\n",
    "chi"
   ]
  },
  {
   "cell_type": "code",
   "execution_count": 33,
   "metadata": {},
   "outputs": [
    {
     "data": {
      "text/plain": [
       "False"
      ]
     },
     "execution_count": 33,
     "metadata": {},
     "output_type": "execute_result"
    }
   ],
   "source": [
    "upper_p = stats.chi2.ppf(0.95, 1)\n",
    "chi > upper_p"
   ]
  },
  {
   "cell_type": "markdown",
   "metadata": {},
   "source": [
    "この場合はFalseとなって、帰無仮説は棄却せずに受け入れる。では各データを10倍にしたらどうか？"
   ]
  },
  {
   "cell_type": "code",
   "execution_count": 36,
   "metadata": {},
   "outputs": [
    {
     "data": {
      "text/html": [
       "<div>\n",
       "<style scoped>\n",
       "    .dataframe tbody tr th:only-of-type {\n",
       "        vertical-align: middle;\n",
       "    }\n",
       "\n",
       "    .dataframe tbody tr th {\n",
       "        vertical-align: top;\n",
       "    }\n",
       "\n",
       "    .dataframe thead th {\n",
       "        text-align: right;\n",
       "    }\n",
       "</style>\n",
       "<table border=\"1\" class=\"dataframe\">\n",
       "  <thead>\n",
       "    <tr style=\"text-align: right;\">\n",
       "      <th></th>\n",
       "      <th>履修した</th>\n",
       "      <th>履修しない</th>\n",
       "      <th>All</th>\n",
       "    </tr>\n",
       "  </thead>\n",
       "  <tbody>\n",
       "    <tr>\n",
       "      <th>文系</th>\n",
       "      <td>160</td>\n",
       "      <td>40</td>\n",
       "      <td>200</td>\n",
       "    </tr>\n",
       "    <tr>\n",
       "      <th>理系</th>\n",
       "      <td>120</td>\n",
       "      <td>80</td>\n",
       "      <td>200</td>\n",
       "    </tr>\n",
       "    <tr>\n",
       "      <th>All</th>\n",
       "      <td>280</td>\n",
       "      <td>120</td>\n",
       "      <td>400</td>\n",
       "    </tr>\n",
       "  </tbody>\n",
       "</table>\n",
       "</div>"
      ],
      "text/plain": [
       "     履修した  履修しない  All\n",
       "文系    160     40  200\n",
       "理系    120     80  200\n",
       "All   280    120  400"
      ]
     },
     "execution_count": 36,
     "metadata": {},
     "output_type": "execute_result"
    }
   ],
   "source": [
    "data = data*10\n",
    "data"
   ]
  },
  {
   "cell_type": "code",
   "execution_count": 37,
   "metadata": {},
   "outputs": [
    {
     "data": {
      "text/plain": [
       "19.047619047619047"
      ]
     },
     "execution_count": 37,
     "metadata": {},
     "output_type": "execute_result"
    }
   ],
   "source": [
    "a11 = data.loc['All','履修した'] * data.loc['文系','All'] / data.loc['All','All']\n",
    "a12 = data.loc['文系','All'] * data.loc['All','履修しない'] / data.loc['All','All']\n",
    "a21 = data.loc['All','履修した'] * data.loc['理系','All'] / data.loc['All','All']\n",
    "a22 = data.loc['All','履修しない'] * data.loc['理系','All'] / data.loc['All','All']\n",
    "e = np.array([a11, a12, a21, a22])\n",
    "o = np.array([data.loc['文系','履修した'],\n",
    "              data.loc['文系','履修しない'],\n",
    "              data.loc['理系','履修した'],\n",
    "              data.loc['理系','履修しない']])\n",
    "chi = np.sum((o - e)**2/e)\n",
    "chi"
   ]
  },
  {
   "cell_type": "code",
   "execution_count": 38,
   "metadata": {},
   "outputs": [
    {
     "data": {
      "text/plain": [
       "True"
      ]
     },
     "execution_count": 38,
     "metadata": {},
     "output_type": "execute_result"
    }
   ],
   "source": [
    "upper_p = stats.chi2.ppf(0.95, 1)\n",
    "chi > upper_p"
   ]
  },
  {
   "cell_type": "markdown",
   "metadata": {},
   "source": [
    "値を10倍にすると、実現値が$\\chi=19.0476$となって、有意水準5%を満たすことになるため帰無仮説を棄却し対立仮説を採用することになる。このように標本の連関の大きさが全く同じでもサンプルサイズが異なると結果が変わる。つまりサンプルサイズが大きいと検定の結果が有意になりやすい。この性質はカイ二乗検定だけでなく"
   ]
  }
 ],
 "metadata": {
  "kernelspec": {
   "display_name": "Python 3",
   "language": "python",
   "name": "python3"
  },
  "language_info": {
   "codemirror_mode": {
    "name": "ipython",
    "version": 3
   },
   "file_extension": ".py",
   "mimetype": "text/x-python",
   "name": "python",
   "nbconvert_exporter": "python",
   "pygments_lexer": "ipython3",
   "version": "3.7.3"
  }
 },
 "nbformat": 4,
 "nbformat_minor": 4
}
