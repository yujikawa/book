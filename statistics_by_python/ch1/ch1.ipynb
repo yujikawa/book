{
 "cells": [
  {
   "cell_type": "markdown",
   "metadata": {},
   "source": [
    "# １つの変数の記述統計\n",
    "１つの変数をどのように記述するかというのを学ぶ"
   ]
  },
  {
   "cell_type": "markdown",
   "metadata": {},
   "source": [
    "<hr>"
   ]
  },
  {
   "cell_type": "markdown",
   "metadata": {},
   "source": [
    "## １つの変数の予約\n",
    "### 数値要約\n",
    "「あるクラスの英語力はおおよそこんな感じ」 と記述するようなデータの持つ特徴を１つの数値にまとめること"
   ]
  },
  {
   "cell_type": "markdown",
   "metadata": {},
   "source": [
    "<hr>"
   ]
  },
  {
   "cell_type": "markdown",
   "metadata": {},
   "source": [
    "## データの説明\n",
    "ここではサンプルデータを用いて進める。各データの内容は下記。\n",
    "- id：通し番号\n",
    "- name：生徒の名前\n",
    "- sex：性別\n",
    "- math: 数学が好きかどうかの回答\n",
    "- stats：統計が好きかどうかの回答\n",
    "- psychology_test：心理学テストの点数（20点満点）\n",
    "- stats_test1：統計テスト１の事前点数（20点満点）\n",
    "    - 事前の意味はこの20人に統計学の力が向上するような指導法を行う前に実施したテストの点数\n",
    "- stats_test2：統計テスト２の事後点数（20点満点）\n",
    "    - 事後の意味はこの20人に統計学の力が向上するような指導法を行ったあとに実施したテストの点数\n",
    "- teaching_method：統計学の力を向上させることを目指して実施された指導法４種（A B C,D）"
   ]
  },
  {
   "cell_type": "code",
   "execution_count": 1,
   "metadata": {},
   "outputs": [
    {
     "data": {
      "text/html": [
       "<div>\n",
       "<style scoped>\n",
       "    .dataframe tbody tr th:only-of-type {\n",
       "        vertical-align: middle;\n",
       "    }\n",
       "\n",
       "    .dataframe tbody tr th {\n",
       "        vertical-align: top;\n",
       "    }\n",
       "\n",
       "    .dataframe thead th {\n",
       "        text-align: right;\n",
       "    }\n",
       "</style>\n",
       "<table border=\"1\" class=\"dataframe\">\n",
       "  <thead>\n",
       "    <tr style=\"text-align: right;\">\n",
       "      <th></th>\n",
       "      <th>id</th>\n",
       "      <th>name</th>\n",
       "      <th>sex</th>\n",
       "      <th>math</th>\n",
       "      <th>stats</th>\n",
       "      <th>psychology_test</th>\n",
       "      <th>stats_test1</th>\n",
       "      <th>stats_test2</th>\n",
       "      <th>teaching_method</th>\n",
       "    </tr>\n",
       "  </thead>\n",
       "  <tbody>\n",
       "    <tr>\n",
       "      <th>0</th>\n",
       "      <td>1</td>\n",
       "      <td>大村</td>\n",
       "      <td>男</td>\n",
       "      <td>嫌い</td>\n",
       "      <td>好き</td>\n",
       "      <td>13</td>\n",
       "      <td>6</td>\n",
       "      <td>10</td>\n",
       "      <td>C</td>\n",
       "    </tr>\n",
       "    <tr>\n",
       "      <th>1</th>\n",
       "      <td>2</td>\n",
       "      <td>本多</td>\n",
       "      <td>男</td>\n",
       "      <td>嫌い</td>\n",
       "      <td>好き</td>\n",
       "      <td>14</td>\n",
       "      <td>10</td>\n",
       "      <td>13</td>\n",
       "      <td>B</td>\n",
       "    </tr>\n",
       "    <tr>\n",
       "      <th>2</th>\n",
       "      <td>3</td>\n",
       "      <td>川崎</td>\n",
       "      <td>男</td>\n",
       "      <td>好き</td>\n",
       "      <td>好き</td>\n",
       "      <td>7</td>\n",
       "      <td>6</td>\n",
       "      <td>8</td>\n",
       "      <td>B</td>\n",
       "    </tr>\n",
       "    <tr>\n",
       "      <th>3</th>\n",
       "      <td>4</td>\n",
       "      <td>多村</td>\n",
       "      <td>男</td>\n",
       "      <td>好き</td>\n",
       "      <td>好き</td>\n",
       "      <td>12</td>\n",
       "      <td>10</td>\n",
       "      <td>15</td>\n",
       "      <td>A</td>\n",
       "    </tr>\n",
       "    <tr>\n",
       "      <th>4</th>\n",
       "      <td>5</td>\n",
       "      <td>松中</td>\n",
       "      <td>男</td>\n",
       "      <td>嫌い</td>\n",
       "      <td>嫌い</td>\n",
       "      <td>10</td>\n",
       "      <td>5</td>\n",
       "      <td>8</td>\n",
       "      <td>B</td>\n",
       "    </tr>\n",
       "    <tr>\n",
       "      <th>5</th>\n",
       "      <td>6</td>\n",
       "      <td>小久保</td>\n",
       "      <td>男</td>\n",
       "      <td>嫌い</td>\n",
       "      <td>嫌い</td>\n",
       "      <td>6</td>\n",
       "      <td>3</td>\n",
       "      <td>6</td>\n",
       "      <td>C</td>\n",
       "    </tr>\n",
       "    <tr>\n",
       "      <th>6</th>\n",
       "      <td>7</td>\n",
       "      <td>柴原</td>\n",
       "      <td>男</td>\n",
       "      <td>嫌い</td>\n",
       "      <td>嫌い</td>\n",
       "      <td>8</td>\n",
       "      <td>5</td>\n",
       "      <td>9</td>\n",
       "      <td>A</td>\n",
       "    </tr>\n",
       "    <tr>\n",
       "      <th>7</th>\n",
       "      <td>8</td>\n",
       "      <td>井手</td>\n",
       "      <td>男</td>\n",
       "      <td>嫌い</td>\n",
       "      <td>嫌い</td>\n",
       "      <td>15</td>\n",
       "      <td>9</td>\n",
       "      <td>10</td>\n",
       "      <td>D</td>\n",
       "    </tr>\n",
       "    <tr>\n",
       "      <th>8</th>\n",
       "      <td>9</td>\n",
       "      <td>田上</td>\n",
       "      <td>男</td>\n",
       "      <td>嫌い</td>\n",
       "      <td>嫌い</td>\n",
       "      <td>4</td>\n",
       "      <td>3</td>\n",
       "      <td>7</td>\n",
       "      <td>D</td>\n",
       "    </tr>\n",
       "    <tr>\n",
       "      <th>9</th>\n",
       "      <td>10</td>\n",
       "      <td>松田</td>\n",
       "      <td>男</td>\n",
       "      <td>好き</td>\n",
       "      <td>嫌い</td>\n",
       "      <td>14</td>\n",
       "      <td>3</td>\n",
       "      <td>3</td>\n",
       "      <td>D</td>\n",
       "    </tr>\n",
       "    <tr>\n",
       "      <th>10</th>\n",
       "      <td>11</td>\n",
       "      <td>高谷</td>\n",
       "      <td>女</td>\n",
       "      <td>好き</td>\n",
       "      <td>好き</td>\n",
       "      <td>9</td>\n",
       "      <td>11</td>\n",
       "      <td>18</td>\n",
       "      <td>A</td>\n",
       "    </tr>\n",
       "    <tr>\n",
       "      <th>11</th>\n",
       "      <td>12</td>\n",
       "      <td>杉内</td>\n",
       "      <td>女</td>\n",
       "      <td>嫌い</td>\n",
       "      <td>好き</td>\n",
       "      <td>6</td>\n",
       "      <td>6</td>\n",
       "      <td>14</td>\n",
       "      <td>A</td>\n",
       "    </tr>\n",
       "    <tr>\n",
       "      <th>12</th>\n",
       "      <td>13</td>\n",
       "      <td>和田</td>\n",
       "      <td>女</td>\n",
       "      <td>好き</td>\n",
       "      <td>好き</td>\n",
       "      <td>10</td>\n",
       "      <td>11</td>\n",
       "      <td>18</td>\n",
       "      <td>A</td>\n",
       "    </tr>\n",
       "    <tr>\n",
       "      <th>13</th>\n",
       "      <td>14</td>\n",
       "      <td>新垣</td>\n",
       "      <td>女</td>\n",
       "      <td>嫌い</td>\n",
       "      <td>嫌い</td>\n",
       "      <td>12</td>\n",
       "      <td>9</td>\n",
       "      <td>11</td>\n",
       "      <td>C</td>\n",
       "    </tr>\n",
       "    <tr>\n",
       "      <th>14</th>\n",
       "      <td>15</td>\n",
       "      <td>大隣</td>\n",
       "      <td>女</td>\n",
       "      <td>嫌い</td>\n",
       "      <td>好き</td>\n",
       "      <td>5</td>\n",
       "      <td>7</td>\n",
       "      <td>12</td>\n",
       "      <td>B</td>\n",
       "    </tr>\n",
       "    <tr>\n",
       "      <th>15</th>\n",
       "      <td>16</td>\n",
       "      <td>水田</td>\n",
       "      <td>女</td>\n",
       "      <td>好き</td>\n",
       "      <td>嫌い</td>\n",
       "      <td>12</td>\n",
       "      <td>5</td>\n",
       "      <td>5</td>\n",
       "      <td>D</td>\n",
       "    </tr>\n",
       "    <tr>\n",
       "      <th>16</th>\n",
       "      <td>17</td>\n",
       "      <td>斎藤</td>\n",
       "      <td>女</td>\n",
       "      <td>嫌い</td>\n",
       "      <td>嫌い</td>\n",
       "      <td>8</td>\n",
       "      <td>8</td>\n",
       "      <td>7</td>\n",
       "      <td>C</td>\n",
       "    </tr>\n",
       "    <tr>\n",
       "      <th>17</th>\n",
       "      <td>18</td>\n",
       "      <td>柳瀬</td>\n",
       "      <td>女</td>\n",
       "      <td>嫌い</td>\n",
       "      <td>嫌い</td>\n",
       "      <td>8</td>\n",
       "      <td>7</td>\n",
       "      <td>12</td>\n",
       "      <td>C</td>\n",
       "    </tr>\n",
       "    <tr>\n",
       "      <th>18</th>\n",
       "      <td>19</td>\n",
       "      <td>佐藤</td>\n",
       "      <td>女</td>\n",
       "      <td>嫌い</td>\n",
       "      <td>嫌い</td>\n",
       "      <td>12</td>\n",
       "      <td>7</td>\n",
       "      <td>7</td>\n",
       "      <td>B</td>\n",
       "    </tr>\n",
       "    <tr>\n",
       "      <th>19</th>\n",
       "      <td>20</td>\n",
       "      <td>馬原</td>\n",
       "      <td>女</td>\n",
       "      <td>嫌い</td>\n",
       "      <td>嫌い</td>\n",
       "      <td>15</td>\n",
       "      <td>9</td>\n",
       "      <td>7</td>\n",
       "      <td>D</td>\n",
       "    </tr>\n",
       "  </tbody>\n",
       "</table>\n",
       "</div>"
      ],
      "text/plain": [
       "    id name sex math stats  psychology_test  stats_test1  stats_test2  \\\n",
       "0    1   大村   男   嫌い    好き               13            6           10   \n",
       "1    2   本多   男   嫌い    好き               14           10           13   \n",
       "2    3   川崎   男   好き    好き                7            6            8   \n",
       "3    4   多村   男   好き    好き               12           10           15   \n",
       "4    5   松中   男   嫌い    嫌い               10            5            8   \n",
       "5    6  小久保   男   嫌い    嫌い                6            3            6   \n",
       "6    7   柴原   男   嫌い    嫌い                8            5            9   \n",
       "7    8   井手   男   嫌い    嫌い               15            9           10   \n",
       "8    9   田上   男   嫌い    嫌い                4            3            7   \n",
       "9   10   松田   男   好き    嫌い               14            3            3   \n",
       "10  11   高谷   女   好き    好き                9           11           18   \n",
       "11  12   杉内   女   嫌い    好き                6            6           14   \n",
       "12  13   和田   女   好き    好き               10           11           18   \n",
       "13  14   新垣   女   嫌い    嫌い               12            9           11   \n",
       "14  15   大隣   女   嫌い    好き                5            7           12   \n",
       "15  16   水田   女   好き    嫌い               12            5            5   \n",
       "16  17   斎藤   女   嫌い    嫌い                8            8            7   \n",
       "17  18   柳瀬   女   嫌い    嫌い                8            7           12   \n",
       "18  19   佐藤   女   嫌い    嫌い               12            7            7   \n",
       "19  20   馬原   女   嫌い    嫌い               15            9            7   \n",
       "\n",
       "   teaching_method  \n",
       "0                C  \n",
       "1                B  \n",
       "2                B  \n",
       "3                A  \n",
       "4                B  \n",
       "5                C  \n",
       "6                A  \n",
       "7                D  \n",
       "8                D  \n",
       "9                D  \n",
       "10               A  \n",
       "11               A  \n",
       "12               A  \n",
       "13               C  \n",
       "14               B  \n",
       "15               D  \n",
       "16               C  \n",
       "17               C  \n",
       "18               B  \n",
       "19               D  "
      ]
     },
     "execution_count": 1,
     "metadata": {},
     "output_type": "execute_result"
    }
   ],
   "source": [
    "import pandas as pd\n",
    "data = pd.read_csv('../data/teaching_method.csv')\n",
    "data"
   ]
  },
  {
   "cell_type": "markdown",
   "metadata": {},
   "source": [
    "<hr>"
   ]
  },
  {
   "cell_type": "markdown",
   "metadata": {},
   "source": [
    "## 変数の種類\n",
    "- 質的変数\n",
    "    - 名義尺度：他と区別し分類するための名称のようなもの（男女、血液型など）\n",
    "    - 順序尺度：順序や大小には意味があるが間隔には意味がないもの（１位、２位など）\n",
    "- 量的変数\n",
    "    - 間隔尺度：目盛が等間隔になっているもので、その間隔に意味があるもの（温度、西暦など）\n",
    "    - 比例尺度：0が原点であり、間隔と比率に意味があるもの（身長、速度など）\n",
    "    \n",
    "統計解析では質的変数と量的変数の区別が重要で、変数によって適用できる統計解析が変わる。"
   ]
  },
  {
   "cell_type": "markdown",
   "metadata": {},
   "source": [
    "<hr>"
   ]
  },
  {
   "cell_type": "markdown",
   "metadata": {},
   "source": [
    "## データの視覚的表現\n",
    "teaching_methodの指導法ごとにカウントを行ってみよう。\n",
    "各カテゴリーに含まれるデータの個数のことを統計学では<b>度数</b>という。またそれらをまとめたものを<b>度数分布</b>といい、それらを表にしたものを<b>度数分布表</b>という。"
   ]
  },
  {
   "cell_type": "code",
   "execution_count": 2,
   "metadata": {},
   "outputs": [
    {
     "data": {
      "text/html": [
       "<div>\n",
       "<style scoped>\n",
       "    .dataframe tbody tr th:only-of-type {\n",
       "        vertical-align: middle;\n",
       "    }\n",
       "\n",
       "    .dataframe tbody tr th {\n",
       "        vertical-align: top;\n",
       "    }\n",
       "\n",
       "    .dataframe thead th {\n",
       "        text-align: right;\n",
       "    }\n",
       "</style>\n",
       "<table border=\"1\" class=\"dataframe\">\n",
       "  <thead>\n",
       "    <tr style=\"text-align: right;\">\n",
       "      <th></th>\n",
       "      <th>id</th>\n",
       "      <th>name</th>\n",
       "      <th>sex</th>\n",
       "      <th>math</th>\n",
       "      <th>stats</th>\n",
       "      <th>psychology_test</th>\n",
       "      <th>stats_test1</th>\n",
       "      <th>stats_test2</th>\n",
       "    </tr>\n",
       "    <tr>\n",
       "      <th>teaching_method</th>\n",
       "      <th></th>\n",
       "      <th></th>\n",
       "      <th></th>\n",
       "      <th></th>\n",
       "      <th></th>\n",
       "      <th></th>\n",
       "      <th></th>\n",
       "      <th></th>\n",
       "    </tr>\n",
       "  </thead>\n",
       "  <tbody>\n",
       "    <tr>\n",
       "      <th>A</th>\n",
       "      <td>5</td>\n",
       "      <td>5</td>\n",
       "      <td>5</td>\n",
       "      <td>5</td>\n",
       "      <td>5</td>\n",
       "      <td>5</td>\n",
       "      <td>5</td>\n",
       "      <td>5</td>\n",
       "    </tr>\n",
       "    <tr>\n",
       "      <th>B</th>\n",
       "      <td>5</td>\n",
       "      <td>5</td>\n",
       "      <td>5</td>\n",
       "      <td>5</td>\n",
       "      <td>5</td>\n",
       "      <td>5</td>\n",
       "      <td>5</td>\n",
       "      <td>5</td>\n",
       "    </tr>\n",
       "    <tr>\n",
       "      <th>C</th>\n",
       "      <td>5</td>\n",
       "      <td>5</td>\n",
       "      <td>5</td>\n",
       "      <td>5</td>\n",
       "      <td>5</td>\n",
       "      <td>5</td>\n",
       "      <td>5</td>\n",
       "      <td>5</td>\n",
       "    </tr>\n",
       "    <tr>\n",
       "      <th>D</th>\n",
       "      <td>5</td>\n",
       "      <td>5</td>\n",
       "      <td>5</td>\n",
       "      <td>5</td>\n",
       "      <td>5</td>\n",
       "      <td>5</td>\n",
       "      <td>5</td>\n",
       "      <td>5</td>\n",
       "    </tr>\n",
       "  </tbody>\n",
       "</table>\n",
       "</div>"
      ],
      "text/plain": [
       "                 id  name  sex  math  stats  psychology_test  stats_test1  \\\n",
       "teaching_method                                                             \n",
       "A                 5     5    5     5      5                5            5   \n",
       "B                 5     5    5     5      5                5            5   \n",
       "C                 5     5    5     5      5                5            5   \n",
       "D                 5     5    5     5      5                5            5   \n",
       "\n",
       "                 stats_test2  \n",
       "teaching_method               \n",
       "A                          5  \n",
       "B                          5  \n",
       "C                          5  \n",
       "D                          5  "
      ]
     },
     "execution_count": 2,
     "metadata": {},
     "output_type": "execute_result"
    }
   ],
   "source": [
    "data.groupby('teaching_method').count()"
   ]
  },
  {
   "cell_type": "markdown",
   "metadata": {},
   "source": [
    "psychology_testをヒストグラム表示してみよう。\n",
    "何点から何点までの間に度数がどれくらいあるかというを棒と棒の隙間を開けずに図にしたものをヒストグラムという。"
   ]
  },
  {
   "cell_type": "code",
   "execution_count": 12,
   "metadata": {},
   "outputs": [],
   "source": [
    "import matplotlib.pyplot as plt # よく使われるツール\n",
    "import seaborn as sns # ちょっとお洒落に描いてくれる"
   ]
  },
  {
   "cell_type": "code",
   "execution_count": 13,
   "metadata": {},
   "outputs": [
    {
     "data": {
      "text/plain": [
       "(array([2., 2., 1., 3., 1., 2., 0., 4., 1., 4.]),\n",
       " array([ 4. ,  5.1,  6.2,  7.3,  8.4,  9.5, 10.6, 11.7, 12.8, 13.9, 15. ]),\n",
       " <a list of 10 Patch objects>)"
      ]
     },
     "execution_count": 13,
     "metadata": {},
     "output_type": "execute_result"
    },
    {
     "data": {
      "image/png": "[encoded data removed]",
      "text/plain": [
       "<Figure size 432x288 with 1 Axes>"
      ]
     },
     "metadata": {
      "needs_background": "light"
     },
     "output_type": "display_data"
    }
   ],
   "source": [
    "plt.hist(data.psychology_test)"
   ]
  },
  {
   "cell_type": "code",
   "execution_count": 14,
   "metadata": {},
   "outputs": [
    {
     "data": {
      "text/plain": [
       "<matplotlib.axes._subplots.AxesSubplot at 0x11592dac8>"
      ]
     },
     "execution_count": 14,
     "metadata": {},
     "output_type": "execute_result"
    },
    {
     "data": {
      "image/png": "[encoded data removed]",
      "text/plain": [
       "<Figure size 432x288 with 1 Axes>"
      ]
     },
     "metadata": {
      "needs_background": "light"
     },
     "output_type": "display_data"
    }
   ],
   "source": [
    "sns.distplot(data.psychology_test)"
   ]
  },
  {
   "cell_type": "markdown",
   "metadata": {},
   "source": [
    "<hr>"
   ]
  },
  {
   "cell_type": "markdown",
   "metadata": {},
   "source": [
    "## 平均とは\n",
    "あるデータの代表する代表値の一つ。「サンプルデータでいうところの心理学テストは全体的にみてどうだったか？」といった質問に答えるための数値要約。\n",
    "データ(x)がn個ある平均（μ：ミュー）の計算方法は\n",
    "$$\n",
    "\\mu = \\frac{1}{n}\\sum_{k=1}^{n}x_n \\\\\n",
    "平均 = \\frac{データ1＋データ2＋.....+データn}{n}\n",
    "$$"
   ]
  },
  {
   "cell_type": "code",
   "execution_count": 15,
   "metadata": {},
   "outputs": [
    {
     "data": {
      "text/plain": [
       "id                 10.5\n",
       "psychology_test    10.0\n",
       "stats_test1         7.0\n",
       "stats_test2        10.0\n",
       "dtype: float64"
      ]
     },
     "execution_count": 15,
     "metadata": {},
     "output_type": "execute_result"
    }
   ],
   "source": [
    "# 平均を算出する関数はmean\n",
    "data.mean()"
   ]
  },
  {
   "cell_type": "code",
   "execution_count": 17,
   "metadata": {},
   "outputs": [
    {
     "data": {
      "text/plain": [
       "10.0"
      ]
     },
     "execution_count": 17,
     "metadata": {},
     "output_type": "execute_result"
    }
   ],
   "source": [
    "# カラムを指定すると単体で平均も出せます\n",
    "data.psychology_test.mean()"
   ]
  },
  {
   "cell_type": "code",
   "execution_count": 19,
   "metadata": {},
   "outputs": [
    {
     "data": {
      "text/plain": [
       "10.0"
      ]
     },
     "execution_count": 19,
     "metadata": {},
     "output_type": "execute_result"
    }
   ],
   "source": [
    "# 合計出して個数で割る場合はこんな感じでできますが、基本はmean関数を使います\n",
    "data.psychology_test.sum()/len(data.psychology_test)"
   ]
  },
  {
   "cell_type": "markdown",
   "metadata": {},
   "source": [
    "<hr>"
   ]
  },
  {
   "cell_type": "markdown",
   "metadata": {},
   "source": [
    "## 平均以外の代表値\n",
    "代表値として平均を使うことは一般的だが、平均以外の代表値もある\n",
    "- <b>中央値</b>：データを大きさの順に並べた場合の真ん中の値。データの数が偶数の場合は真ん中がないため真ん中の２つの値の平均を中央値とすることが一般的。外れ値などを含むデータには中央値などが適している。よくある平均年収などは外れ値が多く存在するので中央値の方が良いとされている。\n",
    "- <b>最頻値</b>：その名の通り最も頻繁に観測された値のこと。必ず分布の中心になる値かというと違う。最頻値は質的変数の代表値として使われることが多い。"
   ]
  },
  {
   "cell_type": "code",
   "execution_count": 22,
   "metadata": {},
   "outputs": [
    {
     "data": {
      "text/plain": [
       "10.0"
      ]
     },
     "execution_count": 22,
     "metadata": {},
     "output_type": "execute_result"
    }
   ],
   "source": [
    "# 中央値を求める median\n",
    "data.psychology_test.median()"
   ]
  },
  {
   "cell_type": "code",
   "execution_count": 24,
   "metadata": {},
   "outputs": [
    {
     "data": {
      "text/plain": [
       "12"
      ]
     },
     "execution_count": 24,
     "metadata": {},
     "output_type": "execute_result"
    }
   ],
   "source": [
    "# 最頻値を求める mode\n",
    "data.psychology_test.mode()[0]"
   ]
  },
  {
   "cell_type": "markdown",
   "metadata": {},
   "source": [
    "<hr>"
   ]
  },
  {
   "cell_type": "markdown",
   "metadata": {},
   "source": [
    "## 散布度\n",
    "平均をはじめとする代表値を列挙したが、代表値は分布の中心的な位置を確認するものであって、分布の特徴を把握する場合には不十分である。分布がどのように散らばっているかを確認する必要がある。例えばある小学校のクラスAとクラスBがあってどちらも算数の平均値は同じでもデータの散らばりが異なる場合ある。それらの散らばりのこと<b>散布度</b>という。"
   ]
  },
  {
   "cell_type": "markdown",
   "metadata": {},
   "source": [
    "<hr>"
   ]
  },
  {
   "cell_type": "markdown",
   "metadata": {},
   "source": [
    "## 分散、標準偏差とは\n",
    "散布度としては分散を求める。n個のデータの分散の式は以下。各データの値から平均を引いたものを<b>平均からの偏差</b>という。\n",
    "$$\n",
    "\\sigma^2 = \\frac{1}{n}\\sum_{k=1}^{n}(x_n - \\mu)^2 \\\\\n",
    "分散 = \\frac{(データ1 - 平均)^2＋(データ2 - 平均)^2＋.....+(データn - 平均)^2}{n}\n",
    "$$\n",
    "分散の平方根をとったものが<b>標準偏差</b>となる。\n",
    "$$\n",
    "\\sigma = \\sqrt{\\sigma^2} \\\\\n",
    "標準偏差 = \\sqrt{分散}\n",
    "$$\n",
    "散布度の指標として使われるのが標準偏差で、標準偏差の値が大きいほどデータの散らばりが大きいことを意味する。また分散には<b>不偏分散</b>と<b>標本分散</b>がある。\n",
    "- 不偏分散：データの個数でn割る部分をn-1で計算する\n",
    "- 標本分散：データの個数をnで割る\n",
    "標本分散と不偏分散のどちらを使えばいいか、標本から母集団を推定する場合には不偏分散を。手元に全てのデータがある場合は標本分散を使う。なぜ不偏分散は母集団推定に使うのか気になる人は[こちら](https://mathtrain.jp/huhenbunsan)へ"
   ]
  },
  {
   "cell_type": "code",
   "execution_count": 29,
   "metadata": {},
   "outputs": [
    {
     "data": {
      "text/plain": [
       "11.1"
      ]
     },
     "execution_count": 29,
     "metadata": {},
     "output_type": "execute_result"
    }
   ],
   "source": [
    "# 標本分散を求める\n",
    "data.psychology_test.var(ddof=False)"
   ]
  },
  {
   "cell_type": "code",
   "execution_count": 30,
   "metadata": {},
   "outputs": [
    {
     "data": {
      "text/plain": [
       "11.68421052631579"
      ]
     },
     "execution_count": 30,
     "metadata": {},
     "output_type": "execute_result"
    }
   ],
   "source": [
    "# 不偏分散を求める\n",
    "data.psychology_test.var()"
   ]
  },
  {
   "cell_type": "code",
   "execution_count": 35,
   "metadata": {},
   "outputs": [
    {
     "data": {
      "text/plain": [
       "3.418217448658846"
      ]
     },
     "execution_count": 35,
     "metadata": {},
     "output_type": "execute_result"
    }
   ],
   "source": [
    "# 標準偏差を求める（不偏分散の平方根）\n",
    "data.psychology_test.std()"
   ]
  },
  {
   "cell_type": "code",
   "execution_count": 37,
   "metadata": {},
   "outputs": [
    {
     "data": {
      "text/html": [
       "<div>\n",
       "<style scoped>\n",
       "    .dataframe tbody tr th:only-of-type {\n",
       "        vertical-align: middle;\n",
       "    }\n",
       "\n",
       "    .dataframe tbody tr th {\n",
       "        vertical-align: top;\n",
       "    }\n",
       "\n",
       "    .dataframe thead th {\n",
       "        text-align: right;\n",
       "    }\n",
       "</style>\n",
       "<table border=\"1\" class=\"dataframe\">\n",
       "  <thead>\n",
       "    <tr style=\"text-align: right;\">\n",
       "      <th></th>\n",
       "      <th>id</th>\n",
       "      <th>psychology_test</th>\n",
       "      <th>stats_test1</th>\n",
       "      <th>stats_test2</th>\n",
       "    </tr>\n",
       "  </thead>\n",
       "  <tbody>\n",
       "    <tr>\n",
       "      <th>count</th>\n",
       "      <td>20.00000</td>\n",
       "      <td>20.000000</td>\n",
       "      <td>20.000000</td>\n",
       "      <td>20.000000</td>\n",
       "    </tr>\n",
       "    <tr>\n",
       "      <th>mean</th>\n",
       "      <td>10.50000</td>\n",
       "      <td>10.000000</td>\n",
       "      <td>7.000000</td>\n",
       "      <td>10.000000</td>\n",
       "    </tr>\n",
       "    <tr>\n",
       "      <th>std</th>\n",
       "      <td>5.91608</td>\n",
       "      <td>3.418217</td>\n",
       "      <td>2.575185</td>\n",
       "      <td>4.116718</td>\n",
       "    </tr>\n",
       "    <tr>\n",
       "      <th>min</th>\n",
       "      <td>1.00000</td>\n",
       "      <td>4.000000</td>\n",
       "      <td>3.000000</td>\n",
       "      <td>3.000000</td>\n",
       "    </tr>\n",
       "    <tr>\n",
       "      <th>25%</th>\n",
       "      <td>5.75000</td>\n",
       "      <td>7.750000</td>\n",
       "      <td>5.000000</td>\n",
       "      <td>7.000000</td>\n",
       "    </tr>\n",
       "    <tr>\n",
       "      <th>50%</th>\n",
       "      <td>10.50000</td>\n",
       "      <td>10.000000</td>\n",
       "      <td>7.000000</td>\n",
       "      <td>9.500000</td>\n",
       "    </tr>\n",
       "    <tr>\n",
       "      <th>75%</th>\n",
       "      <td>15.25000</td>\n",
       "      <td>12.250000</td>\n",
       "      <td>9.000000</td>\n",
       "      <td>12.250000</td>\n",
       "    </tr>\n",
       "    <tr>\n",
       "      <th>max</th>\n",
       "      <td>20.00000</td>\n",
       "      <td>15.000000</td>\n",
       "      <td>11.000000</td>\n",
       "      <td>18.000000</td>\n",
       "    </tr>\n",
       "  </tbody>\n",
       "</table>\n",
       "</div>"
      ],
      "text/plain": [
       "             id  psychology_test  stats_test1  stats_test2\n",
       "count  20.00000        20.000000    20.000000    20.000000\n",
       "mean   10.50000        10.000000     7.000000    10.000000\n",
       "std     5.91608         3.418217     2.575185     4.116718\n",
       "min     1.00000         4.000000     3.000000     3.000000\n",
       "25%     5.75000         7.750000     5.000000     7.000000\n",
       "50%    10.50000        10.000000     7.000000     9.500000\n",
       "75%    15.25000        12.250000     9.000000    12.250000\n",
       "max    20.00000        15.000000    11.000000    18.000000"
      ]
     },
     "execution_count": 37,
     "metadata": {},
     "output_type": "execute_result"
    }
   ],
   "source": [
    "# 実はdescribe関数を使えばいろんな統計量が算出してくる\n",
    "data.describe()"
   ]
  },
  {
   "cell_type": "markdown",
   "metadata": {},
   "source": [
    "<hr>"
   ]
  },
  {
   "cell_type": "markdown",
   "metadata": {},
   "source": [
    "## 標準化\n",
    "標準化とは平均と標準偏差が特定の値になるように、全てのデータの値を同じ式を使って変換すること。変換された得点を<b>標準得点</b>という。標準得点の中でも特に平均を0、標準偏差１となるように変換した標準得点が使われることが多い。これを<b>z得点</b>という。\n",
    "\n",
    "$$\n",
    "z = \\frac{x - \\mu}{\\sigma} \\\\\n",
    "z得点 = \\frac{データの値 - 平均}{標準偏差}\n",
    "$$"
   ]
  },
  {
   "cell_type": "code",
   "execution_count": 39,
   "metadata": {},
   "outputs": [],
   "source": [
    "psychology_test_mean = data.psychology_test.mean() # 平均値\n",
    "psychology_test_std = data.psychology_test.std()   # 標準偏差\n",
    "data['psychology_test_z'] = (data.psychology_test - psychology_test_mean)/psychology_test_std"
   ]
  },
  {
   "cell_type": "code",
   "execution_count": 43,
   "metadata": {},
   "outputs": [
    {
     "data": {
      "text/plain": [
       "1.1102230246251566e-17"
      ]
     },
     "execution_count": 43,
     "metadata": {},
     "output_type": "execute_result"
    }
   ],
   "source": [
    "data.psychology_test_z.mean() # 丸め誤差の影響で０にならないがほぼ０"
   ]
  },
  {
   "cell_type": "code",
   "execution_count": 44,
   "metadata": {},
   "outputs": [
    {
     "data": {
      "text/plain": [
       "1.0"
      ]
     },
     "execution_count": 44,
     "metadata": {},
     "output_type": "execute_result"
    }
   ],
   "source": [
    "data.psychology_test_z.std() # 標準偏差は1"
   ]
  },
  {
   "cell_type": "markdown",
   "metadata": {},
   "source": [
    "<hr>"
   ]
  },
  {
   "cell_type": "markdown",
   "metadata": {},
   "source": [
    "## 偏差値\n",
    "偏差値は以下の式で求められる。偏差値は平均を50、標準偏差を10になるように標準化した標準得点である。\n",
    "$$\n",
    "偏差値 = z得点 \\times 10 + 50\n",
    "$$"
   ]
  },
  {
   "cell_type": "code",
   "execution_count": 45,
   "metadata": {},
   "outputs": [],
   "source": [
    "data['psychology_test_deviation_value'] = data.psychology_test_z * 10 + 50"
   ]
  },
  {
   "cell_type": "code",
   "execution_count": 47,
   "metadata": {},
   "outputs": [
    {
     "data": {
      "text/plain": [
       "49.99999999999999"
      ]
     },
     "execution_count": 47,
     "metadata": {},
     "output_type": "execute_result"
    }
   ],
   "source": [
    "data.psychology_test_deviation_value.mean() # 平均値"
   ]
  },
  {
   "cell_type": "code",
   "execution_count": 48,
   "metadata": {},
   "outputs": [
    {
     "data": {
      "text/plain": [
       "10.000000000000002"
      ]
     },
     "execution_count": 48,
     "metadata": {},
     "output_type": "execute_result"
    }
   ],
   "source": [
    "data.psychology_test_deviation_value.std() # 標準偏差"
   ]
  },
  {
   "cell_type": "markdown",
   "metadata": {},
   "source": [
    "# 練習問題"
   ]
  },
  {
   "cell_type": "markdown",
   "metadata": {},
   "source": [
    "practice.csvにはA大学とB大学の学生の1日のテレビ試聴時間のデータである。\n",
    "1. 大学ごとのヒストグラムを描いてみよう\n",
    "2. 大学ごとの平均と標準偏差を求めてみよう\n",
    "3. 大学ごとに標準化してみよう"
   ]
  },
  {
   "cell_type": "code",
   "execution_count": null,
   "metadata": {},
   "outputs": [],
   "source": []
  }
 ],
 "metadata": {
  "kernelspec": {
   "display_name": "Python 3",
   "language": "python",
   "name": "python3"
  },
  "language_info": {
   "codemirror_mode": {
    "name": "ipython",
    "version": 3
   },
   "file_extension": ".py",
   "mimetype": "text/x-python",
   "name": "python",
   "nbconvert_exporter": "python",
   "pygments_lexer": "ipython3",
   "version": "3.8.0"
  }
 },
 "nbformat": 4,
 "nbformat_minor": 4
}
