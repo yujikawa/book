{
 "cells": [
  {
   "cell_type": "markdown",
   "metadata": {
    "slideshow": {
     "slide_type": "slide"
    }
   },
   "source": [
    "# 母集団と標本\n",
    "<pre>\n",
    "これまでは手元にあるデータの様子を記述するための方法を紹介した。この章では大きな集団から一部を取り出した少数のデータ情報を使って、元の大きな集団の性質について推測する推測統計の基本的な理論を学習する。\n",
    "</pre>"
   ]
  },
  {
   "cell_type": "markdown",
   "metadata": {
    "slideshow": {
     "slide_type": "slide"
    }
   },
   "source": [
    "## 母集団と標本\n",
    "<pre>\n",
    "推測統計では、非常に大きなデータ全体（例えば日本国民全体や、ある工場で生産される製品全体に関するデータ）の統計的性質（度数の比率、平均、分散、相関など）についてその対象の一部を取り出したデータから推測するということを行う。この時、元々関心の対象であったデータ全体を<b>母集団</b>、その一部を取り出したデータを<b>標本</b>、母集団から標本を取り出すことを<b>標本抽出（サンプリング）</b>という。また母集団の性質を表す統計的指標（比率、平均、分散、相関係数など）を<b>母数</b>という。\n",
    "例えば、日本全国の中学生全員が同じ実力テストを受けたときの平均点を知りたいとする。日本全国の中学生全員にテストを受けさせることができれば正確な平均点は出せるが、莫大な時間とお金がかかる。ある程度の正確さを犠牲にしても、一部の生徒のみを対象としたテストで事足りるならそちらの方が価値がある。日本の中学生全員のテストの得点データが母集団で、その平均が母数である。\n",
    "母集団から選ばれたものが標本である。\n",
    "</pre>"
   ]
  },
  {
   "cell_type": "markdown",
   "metadata": {
    "slideshow": {
     "slide_type": "slide"
    }
   },
   "source": [
    "## 推測統計の分類\n",
    "<pre>\n",
    "統計学でいう<b>推測</b>とは何か？\n",
    "推測統計は<b>推定</b>と<b>検定</b>に大きく分かれる。さらに推定は<b>点推定</b>と<b>区間推定</b>の２つに分類できる。\n",
    "\n",
    "推定とは具体的な値を用いて、母数の値はOOぐらいだろうという結論を導くもの。\n",
    "具体的な母数の値を考えるのが推定で、かつ推定の中でも平均が60点であるといった１つの値で推定の結果を表すものを点推定と呼ぶ。\n",
    "一方「50点から70点」というようなある程度の幅を持った区間で表すのが区間推定である。\n",
    "\n",
    "検定とは母集団について述べた異なる立場の２つの主張（仮説と呼ばれる）のうちどちらを採択するのかを決めるもの。\n",
    "\n",
    "先ほどの実力テストを5年後に実施したとして、「平均的な学力は5年前から変化していない」という主張と「平均的な学力は5年前から変化した」という主張のうち、標本を使ってどちらか一方を採択するのが検定である。\n",
    "</pre>"
   ]
  },
  {
   "cell_type": "markdown",
   "metadata": {},
   "source": [
    "## 点推定"
   ]
  },
  {
   "cell_type": "markdown",
   "metadata": {},
   "source": [
    "### 点推定の手順\n",
    "<pre>\n",
    "まず母集団から抽出した標本を用いて、母数の点推定を行うにはどのようにすれば良いのか見る。\n",
    "例えば17歳の日本人男性の平均身長を推定するために10人の17歳男性を標本として抽出したとする。\n",
    "標本に含まれるデータの個数をサンプルサイズといい、nという記号を使って表現する。n=10の標本から\n",
    "得られた身長データは下記である。\n",
    "</pre>"
   ]
  },
  {
   "cell_type": "code",
   "execution_count": 7,
   "metadata": {},
   "outputs": [],
   "source": [
    "import pandas as pd\n",
    "japanese_man = pd.DataFrame([165.2, 175.9, 161.7, 174.2, 172.1,163.3, 170.9, 170.6, 168.4, 171.3], columns=['height'])"
   ]
  },
  {
   "cell_type": "code",
   "execution_count": 8,
   "metadata": {},
   "outputs": [
    {
     "data": {
      "text/html": [
       "<div>\n",
       "<style scoped>\n",
       "    .dataframe tbody tr th:only-of-type {\n",
       "        vertical-align: middle;\n",
       "    }\n",
       "\n",
       "    .dataframe tbody tr th {\n",
       "        vertical-align: top;\n",
       "    }\n",
       "\n",
       "    .dataframe thead th {\n",
       "        text-align: right;\n",
       "    }\n",
       "</style>\n",
       "<table border=\"1\" class=\"dataframe\">\n",
       "  <thead>\n",
       "    <tr style=\"text-align: right;\">\n",
       "      <th></th>\n",
       "      <th>height</th>\n",
       "    </tr>\n",
       "  </thead>\n",
       "  <tbody>\n",
       "    <tr>\n",
       "      <th>0</th>\n",
       "      <td>165.2</td>\n",
       "    </tr>\n",
       "    <tr>\n",
       "      <th>1</th>\n",
       "      <td>175.9</td>\n",
       "    </tr>\n",
       "    <tr>\n",
       "      <th>2</th>\n",
       "      <td>161.7</td>\n",
       "    </tr>\n",
       "    <tr>\n",
       "      <th>3</th>\n",
       "      <td>174.2</td>\n",
       "    </tr>\n",
       "    <tr>\n",
       "      <th>4</th>\n",
       "      <td>172.1</td>\n",
       "    </tr>\n",
       "  </tbody>\n",
       "</table>\n",
       "</div>"
      ],
      "text/plain": [
       "   height\n",
       "0   165.2\n",
       "1   175.9\n",
       "2   161.7\n",
       "3   174.2\n",
       "4   172.1"
      ]
     },
     "execution_count": 8,
     "metadata": {},
     "output_type": "execute_result"
    }
   ],
   "source": [
    "japanese_man.head()"
   ]
  },
  {
   "cell_type": "code",
   "execution_count": 9,
   "metadata": {},
   "outputs": [
    {
     "data": {
      "text/plain": [
       "height    169.36\n",
       "dtype: float64"
      ]
     },
     "execution_count": 9,
     "metadata": {},
     "output_type": "execute_result"
    }
   ],
   "source": [
    "japanese_man.mean() # 平均を出す関数 mean()"
   ]
  },
  {
   "cell_type": "markdown",
   "metadata": {},
   "source": [
    "<pre>\n",
    "これにより、日本人の17歳男性全体の平均身長は169.36cmであると推定された。点推定の手順はこれだけである。\n",
    "データの平均値を計算するということは\n",
    "記述統計：データの数値要約するための代表値を求める\n",
    "推測統計：母平均の点推定を行う\n",
    "という２つの意味をもつ。\n",
    "</pre>"
   ]
  },
  {
   "cell_type": "code",
   "execution_count": null,
   "metadata": {},
   "outputs": [],
   "source": []
  }
 ],
 "metadata": {
  "celltoolbar": "Slideshow",
  "kernelspec": {
   "display_name": "Python 3",
   "language": "python",
   "name": "python3"
  },
  "language_info": {
   "codemirror_mode": {
    "name": "ipython",
    "version": 3
   },
   "file_extension": ".py",
   "mimetype": "text/x-python",
   "name": "python",
   "nbconvert_exporter": "python",
   "pygments_lexer": "ipython3",
   "version": "3.7.3"
  }
 },
 "nbformat": 4,
 "nbformat_minor": 4
}
