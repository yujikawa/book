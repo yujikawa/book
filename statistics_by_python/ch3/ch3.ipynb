{
 "cells": [
  {
   "cell_type": "markdown",
   "metadata": {
    "slideshow": {
     "slide_type": "slide"
    }
   },
   "source": [
    "# 母集団と標本\n",
    "<pre>\n",
    "これまでは手元にあるデータの様子を記述するための方法を紹介した。この章では大きな集団から一部を取り出した少数のデータ情報を使って、元の大きな集団の性質について推測する推測統計の基本的な理論を学習する。\n",
    "</pre>"
   ]
  },
  {
   "cell_type": "markdown",
   "metadata": {
    "slideshow": {
     "slide_type": "slide"
    }
   },
   "source": [
    "## 母集団と標本\n",
    "<pre>\n",
    "推測統計では、非常に大きなデータ全体（例えば日本国民全体や、ある工場で生産される製品全体に関するデータ）の統計的性質（度数の比率、平均、分散、相関など）についてその対象の一部を取り出したデータから推測するということを行う。この時、元々関心の対象であったデータ全体を<b>母集団</b>、その一部を取り出したデータを<b>標本</b>、母集団から標本を取り出すことを<b>標本抽出（サンプリング）</b>という。また母集団の性質を表す統計的指標（比率、平均、分散、相関係数など）を<b>母数</b>という。\n",
    "例えば、日本全国の中学生全員が同じ実力テストを受けたときの平均点を知りたいとする。日本全国の中学生全員にテストを受けさせることができれば正確な平均点は出せるが、莫大な時間とお金がかかる。ある程度の正確さを犠牲にしても、一部の生徒のみを対象としたテストで事足りるならそちらの方が価値がある。日本の中学生全員のテストの得点データが母集団で、その平均が母数である。\n",
    "母集団から選ばれたものが標本である。\n",
    "</pre>"
   ]
  },
  {
   "cell_type": "markdown",
   "metadata": {
    "slideshow": {
     "slide_type": "slide"
    }
   },
   "source": [
    "## 推測統計の分類\n",
    "<pre>\n",
    "統計学でいう<b>推測</b>とは何か？\n",
    "推測統計は<b>推定</b>と<b>検定</b>に大きく分かれる。さらに推定は<b>点推定</b>と<b>区間推定</b>の２つに分類できる。\n",
    "\n",
    "推定とは具体的な値を用いて、母数の値はOOぐらいだろうという結論を導くもの。\n",
    "具体的な母数の値を考えるのが推定で、かつ推定の中でも平均が60点であるといった１つの値で推定の結果を表すものを点推定と呼ぶ。\n",
    "一方「50点から70点」というようなある程度の幅を持った区間で表すのが区間推定である。\n",
    "\n",
    "検定とは母集団について述べた異なる立場の２つの主張（仮説と呼ばれる）のうちどちらを採択するのかを決めるもの。\n",
    "\n",
    "先ほどの実力テストを5年後に実施したとして、「平均的な学力は5年前から変化していない」という主張と「平均的な学力は5年前から変化した」という主張のうち、標本を使ってどちらか一方を採択するのが検定である。\n",
    "</pre>"
   ]
  },
  {
   "cell_type": "markdown",
   "metadata": {},
   "source": [
    "## 点推定"
   ]
  },
  {
   "cell_type": "markdown",
   "metadata": {},
   "source": [
    "### 点推定の手順\n",
    "<pre>\n",
    "まず母集団から抽出した標本を用いて、母数の点推定を行うにはどのようにすれば良いのか見る。\n",
    "例えば17歳の日本人男性の平均身長を推定するために10人の17歳男性を標本として抽出したとする。\n",
    "標本に含まれるデータの個数をサンプルサイズといい、nという記号を使って表現する。n=10の標本から\n",
    "得られた身長データは下記である。\n",
    "</pre>"
   ]
  },
  {
   "cell_type": "code",
   "execution_count": 2,
   "metadata": {},
   "outputs": [],
   "source": [
    "import pandas as pd\n",
    "japanese_man = pd.DataFrame([165.2, 175.9, 161.7, 174.2, 172.1,163.3, 170.9, 170.6, 168.4, 171.3], columns=['height'])"
   ]
  },
  {
   "cell_type": "code",
   "execution_count": 3,
   "metadata": {},
   "outputs": [
    {
     "data": {
      "text/html": [
       "<div>\n",
       "<style scoped>\n",
       "    .dataframe tbody tr th:only-of-type {\n",
       "        vertical-align: middle;\n",
       "    }\n",
       "\n",
       "    .dataframe tbody tr th {\n",
       "        vertical-align: top;\n",
       "    }\n",
       "\n",
       "    .dataframe thead th {\n",
       "        text-align: right;\n",
       "    }\n",
       "</style>\n",
       "<table border=\"1\" class=\"dataframe\">\n",
       "  <thead>\n",
       "    <tr style=\"text-align: right;\">\n",
       "      <th></th>\n",
       "      <th>height</th>\n",
       "    </tr>\n",
       "  </thead>\n",
       "  <tbody>\n",
       "    <tr>\n",
       "      <th>0</th>\n",
       "      <td>165.2</td>\n",
       "    </tr>\n",
       "    <tr>\n",
       "      <th>1</th>\n",
       "      <td>175.9</td>\n",
       "    </tr>\n",
       "    <tr>\n",
       "      <th>2</th>\n",
       "      <td>161.7</td>\n",
       "    </tr>\n",
       "    <tr>\n",
       "      <th>3</th>\n",
       "      <td>174.2</td>\n",
       "    </tr>\n",
       "    <tr>\n",
       "      <th>4</th>\n",
       "      <td>172.1</td>\n",
       "    </tr>\n",
       "  </tbody>\n",
       "</table>\n",
       "</div>"
      ],
      "text/plain": [
       "   height\n",
       "0   165.2\n",
       "1   175.9\n",
       "2   161.7\n",
       "3   174.2\n",
       "4   172.1"
      ]
     },
     "execution_count": 3,
     "metadata": {},
     "output_type": "execute_result"
    }
   ],
   "source": [
    "japanese_man.head()"
   ]
  },
  {
   "cell_type": "code",
   "execution_count": 4,
   "metadata": {},
   "outputs": [
    {
     "data": {
      "text/plain": [
       "height    169.36\n",
       "dtype: float64"
      ]
     },
     "execution_count": 4,
     "metadata": {},
     "output_type": "execute_result"
    }
   ],
   "source": [
    "japanese_man.mean() # 平均を出す関数 mean()"
   ]
  },
  {
   "cell_type": "markdown",
   "metadata": {},
   "source": [
    "<pre>\n",
    "これにより、日本人の17歳男性全体の平均身長は169.36cmであると推定された。点推定の手順はこれだけである。\n",
    "データの平均値を計算するということは\n",
    "記述統計：データの数値要約するための代表値を求める\n",
    "推測統計：母平均の点推定を行う\n",
    "という２つの意味をもつ。\n",
    "</pre>"
   ]
  },
  {
   "cell_type": "markdown",
   "metadata": {},
   "source": [
    "## 推定量と推定値\n",
    "<pre>\n",
    "一般に標本データから計算されるものを<b>標本統計量</b>（平均や分散など）という。母集団と標本との区別をするために例えば平均だと母平均や標本平均という。\n",
    "先ほどあげた平均身長を点推定する例では、母平均を推定するために標本平均を計算した。母数を推定するために用いられる標本統計量を、母数の推定量という。標本データを用いて計算された推定量の値を推定値という。\n",
    "</pre>\n",
    "\n",
    "|母数|推定量|推定値|\n",
    "|:---|:--|:--|\n",
    "|母平均|標本平均|標本データから計算された標本平均の値|\n",
    "|母分散|不偏分散|標本データから計算された不偏分散の値|\n",
    "|母標準偏差|不偏分散の正の平方根|標本データから計算された不偏分散の正の平方根の値|\n",
    "|母相関係数|標本相関係数|標本データから計算された標本相関係数の値|\n",
    "|母比率|標本比率|標本データから計算された標本比率の値|\n"
   ]
  },
  {
   "cell_type": "markdown",
   "metadata": {},
   "source": [
    "## 標本抽出に伴う誤差\n",
    "<pre>「実際の母数の値にどのくらい近い推定値を得られること」ができるのか、もしくは「推定結果はどのくらい信用できるのか」というのが重要になってくる。例えば母平均を推定するために標本平均を求める。ただ標本は母集団の一部を抽出したものなので母集団の平均と一致するとは限らない。\n",
    "（1, 2, 6）という３つのデータが含まれている集団からn=2の標本を抽出する場合、組み合わせは全部３つである（下記の表）。\n",
    "</pre>\n",
    "\n",
    "|標本|(1, 2)|(1, 6)|(2, 6)|\n",
    "|:---|:--|:--|:---|\n",
    "|標本平均の値（推定値）|1.5|3.5|4.0|\n",
    "|母平均（3.0）とのずれ（標本誤差）|-1.5|0.5|1.0|\n",
    "\n",
    "<pre>\n",
    "誤差における許容はケースバイケースであり、大雑把に把握するものは良くても、人命に関わるような重大なものは誤差が少ない方が良い。そのためにもどのような推定値が得られる可能性があるのかということを知る必要がある。この章ではその問いに答えるために重要な概念の<b>標本分布</b>を理解する</pre>"
   ]
  },
  {
   "cell_type": "markdown",
   "metadata": {},
   "source": [
    "## 推定値がどれくらいあてになるのか調べる方法\n",
    "1. 標本抽出の方法としての単純無作為抽出\n",
    "2. 単純無作為抽出によって得られるデータの性質としての確率変数\n",
    "3. 確率変数がどのような値をとるのかを示す確率分布\n",
    "4. 確率分布を用いた母集団の表現としての母集団分布\n",
    "5. 代表的な母集団分布である正規分布\n",
    "6. Pythonを使って正規分布の母集団から標本を抽出する方法"
   ]
  },
  {
   "cell_type": "markdown",
   "metadata": {},
   "source": [
    "## 標本抽出の方法 -- 単純無作為抽出\n",
    "<pre>\n",
    "単純無作為抽出というのは母集団の中のどのデータも平等に選ばれる可能性を持っているような標本抽出方法である。\n",
    "（例えば、男女混合から女性ばかりを選ぶなどは単純無作為抽出ではない）たまたま、データが偏る場合はあるが単純無作為抽出であるかぎりは結果については問わない。単純無作為抽出によって得られた標本を<b>無作為標本</b>という。\n",
    "</pre>"
   ]
  },
  {
   "cell_type": "markdown",
   "metadata": {},
   "source": [
    "## 確率変数\n",
    "<pre>\n",
    "サイコロのように実際に結果が得られるまでどのような値が得られるか決まっていない変数を<b>確率変数</b>という。確率変数は同じ手続きを行ってもデータの結果に再現性がなく異なる値が得られるもの。\n",
    "例えば、中学生の実力テストのデータについて考える（母集団は日本全国の中学生）。\n",
    "母集団のメンバー全員に対して実力テストがすでに実施済みであるとする。もし、母集団から得点データを集めるとしたら、テストは実施ずみで各生徒のテスト得点は確定しているので、どのようなデータが得られるかということが完全に決まってしまう。\n",
    "次のように考えて問題ない。母集団のメンバーである各生徒はそれぞれの実力に応じて、テストを受けるたびにいつも同じ得点をとるとする。このとき、もし同じ実力テストを実施して、全員のデータを取り直したとしても１回目と全く同一なデータが得られるはずである。どちらの考え方でも母集団に含まれている全てのデータが得られる場合はテスト得点は確率変数とは言えない。母集団から抽出する集団を固定する場合もデータが得られる内容が固定されるため確率変数ではない。しかし単純無作為抽出の場合は、標本抽出されるまでテストの得点はわからない。標本抽出を繰り返す場合も、同じ生徒が選ばれるとは限らないため結果の再現性はない。このような場合は確率変数といえる。\n",
    "</pre>"
   ]
  },
  {
   "cell_type": "markdown",
   "metadata": {},
   "source": [
    "## 確率分布\n",
    "<pre>\n",
    "確率変数は実際に値が得られるのかはわからない。しかし、確率分布を用いるとどのような値を取りやすいのかがわかる。確率分布はある確率変数がどのような値をどのような確率でとるのかということを表した分布である。例えばサイコロの場合を考える。サイコロの出る目というのは、サイコロを振るまで値がわからないため確率変数となる。そのサイコロの出る目である確率変数とその確率をまとめると以下のような表となる。\n",
    "</pre>\n",
    "\n",
    "|サイコロの出る目|1|2|3|4|5|6|\n",
    "|:---|:--|:--|:---|:--|:---|:---|\n",
    "|確率|$$\\frac{1}{6}$$|$$\\frac{1}{6}$$|$$\\frac{1}{6}$$|$$\\frac{1}{6}$$|$$\\frac{1}{6}$$|$$\\frac{1}{6}$$|\n",
    "\n",
    "<pre>\n",
    "またこのとき「サイコロの出る目」という確率変数は、上記表で表される確率分布に「したがう」という言い方をする。ある確率変数Xの実現値がある確率分布Aに基づいて決まる場合に「確率変数Xは確率分布Aにしたがう」という言い方をする。一般的にX~Aと表す。確率分布というのは得られたデータから作成するものではなく、理論的に決めるものであるということに注意する必要がある。確率変数の実現値を見ただけではどのような確率分布にしたがっているかはわからないからだ。しかし非常に多くの実現値を得られるとしたら、実現値の度数分布は確率変数がしたがう確率分布に非常に近くなる。サイコロの例で実験しよう。６回しか振らない場合と６００万回振った場合の度数分布を見てみる。\n",
    "</pre>"
   ]
  },
  {
   "cell_type": "code",
   "execution_count": 33,
   "metadata": {},
   "outputs": [],
   "source": [
    "import pandas as pd\n",
    "import numpy as np"
   ]
  },
  {
   "cell_type": "code",
   "execution_count": 2,
   "metadata": {},
   "outputs": [],
   "source": [
    "ex1 = np.random.randint(1,7,6)       # １〜６の数字をランダムに6回振る\n",
    "ex2 = np.random.randint(1,7,6000000) # １〜６の数字をランダムに600万回振る"
   ]
  },
  {
   "cell_type": "code",
   "execution_count": 29,
   "metadata": {},
   "outputs": [],
   "source": [
    "# 各サイコロの目の出現数をカウントする（度数）\n",
    "# np.arrayを使うと計算が楽にできる\n",
    "# [false, true, false].sum()とすると[0, 1, 0].sum()というのと同値\n",
    "ex1_sum_list = np.array([(ex1 == 1).sum(),\n",
    "                (ex1 == 2).sum(),\n",
    "                (ex1 == 3).sum(),\n",
    "                (ex1 == 4).sum(),\n",
    "                (ex1 == 5).sum(),\n",
    "                (ex1 == 6).sum()]) \n",
    "\n",
    "ex2_sum_list = np.array([(ex2 == 1).sum(),\n",
    "                (ex2 == 2).sum(),\n",
    "                (ex2 == 3).sum(),\n",
    "                (ex2 == 4).sum(),\n",
    "                (ex2 == 5).sum(),\n",
    "                (ex2 == 6).sum()])"
   ]
  },
  {
   "cell_type": "code",
   "execution_count": 44,
   "metadata": {},
   "outputs": [],
   "source": [
    "# 見た目のためにpandasを使って表形式に直す\n",
    "d1 = pd.DataFrame([\n",
    "    ex1_sum_list,\n",
    "    ex1_sum_list / len(ex1)\n",
    "], columns=[1,2,3,4,5,6], index=['度数', '相対度数'])\n",
    "\n",
    "d2 = pd.DataFrame([\n",
    "    ex2_sum_list,\n",
    "    ex2_sum_list / len(ex2)\n",
    "], columns=[1,2,3,4,5,6], index=['度数', '相対度数'])"
   ]
  },
  {
   "cell_type": "code",
   "execution_count": 45,
   "metadata": {},
   "outputs": [
    {
     "data": {
      "text/html": [
       "<div>\n",
       "<style scoped>\n",
       "    .dataframe tbody tr th:only-of-type {\n",
       "        vertical-align: middle;\n",
       "    }\n",
       "\n",
       "    .dataframe tbody tr th {\n",
       "        vertical-align: top;\n",
       "    }\n",
       "\n",
       "    .dataframe thead th {\n",
       "        text-align: right;\n",
       "    }\n",
       "</style>\n",
       "<table border=\"1\" class=\"dataframe\">\n",
       "  <thead>\n",
       "    <tr style=\"text-align: right;\">\n",
       "      <th></th>\n",
       "      <th>1</th>\n",
       "      <th>2</th>\n",
       "      <th>3</th>\n",
       "      <th>4</th>\n",
       "      <th>5</th>\n",
       "      <th>6</th>\n",
       "    </tr>\n",
       "  </thead>\n",
       "  <tbody>\n",
       "    <tr>\n",
       "      <th>度数</th>\n",
       "      <td>1.000000</td>\n",
       "      <td>0.0</td>\n",
       "      <td>1.000000</td>\n",
       "      <td>3.0</td>\n",
       "      <td>1.000000</td>\n",
       "      <td>0.0</td>\n",
       "    </tr>\n",
       "    <tr>\n",
       "      <th>相対度数</th>\n",
       "      <td>0.166667</td>\n",
       "      <td>0.0</td>\n",
       "      <td>0.166667</td>\n",
       "      <td>0.5</td>\n",
       "      <td>0.166667</td>\n",
       "      <td>0.0</td>\n",
       "    </tr>\n",
       "  </tbody>\n",
       "</table>\n",
       "</div>"
      ],
      "text/plain": [
       "             1    2         3    4         5    6\n",
       "度数    1.000000  0.0  1.000000  3.0  1.000000  0.0\n",
       "相対度数  0.166667  0.0  0.166667  0.5  0.166667  0.0"
      ]
     },
     "execution_count": 45,
     "metadata": {},
     "output_type": "execute_result"
    }
   ],
   "source": [
    "d1"
   ]
  },
  {
   "cell_type": "code",
   "execution_count": 46,
   "metadata": {},
   "outputs": [
    {
     "data": {
      "text/html": [
       "<div>\n",
       "<style scoped>\n",
       "    .dataframe tbody tr th:only-of-type {\n",
       "        vertical-align: middle;\n",
       "    }\n",
       "\n",
       "    .dataframe tbody tr th {\n",
       "        vertical-align: top;\n",
       "    }\n",
       "\n",
       "    .dataframe thead th {\n",
       "        text-align: right;\n",
       "    }\n",
       "</style>\n",
       "<table border=\"1\" class=\"dataframe\">\n",
       "  <thead>\n",
       "    <tr style=\"text-align: right;\">\n",
       "      <th></th>\n",
       "      <th>1</th>\n",
       "      <th>2</th>\n",
       "      <th>3</th>\n",
       "      <th>4</th>\n",
       "      <th>5</th>\n",
       "      <th>6</th>\n",
       "    </tr>\n",
       "  </thead>\n",
       "  <tbody>\n",
       "    <tr>\n",
       "      <th>度数</th>\n",
       "      <td>999845.000000</td>\n",
       "      <td>999804.000000</td>\n",
       "      <td>999269.000000</td>\n",
       "      <td>1.001226e+06</td>\n",
       "      <td>999719.00000</td>\n",
       "      <td>1.000137e+06</td>\n",
       "    </tr>\n",
       "    <tr>\n",
       "      <th>相対度数</th>\n",
       "      <td>0.166641</td>\n",
       "      <td>0.166634</td>\n",
       "      <td>0.166545</td>\n",
       "      <td>1.668710e-01</td>\n",
       "      <td>0.16662</td>\n",
       "      <td>1.666895e-01</td>\n",
       "    </tr>\n",
       "  </tbody>\n",
       "</table>\n",
       "</div>"
      ],
      "text/plain": [
       "                  1              2              3             4             5  \\\n",
       "度数    999845.000000  999804.000000  999269.000000  1.001226e+06  999719.00000   \n",
       "相対度数       0.166641       0.166634       0.166545  1.668710e-01       0.16662   \n",
       "\n",
       "                 6  \n",
       "度数    1.000137e+06  \n",
       "相対度数  1.666895e-01  "
      ]
     },
     "execution_count": 46,
     "metadata": {},
     "output_type": "execute_result"
    }
   ],
   "source": [
    "d2"
   ]
  },
  {
   "cell_type": "code",
   "execution_count": 47,
   "metadata": {},
   "outputs": [
    {
     "data": {
      "text/plain": [
       "0.16666666666666666"
      ]
     },
     "execution_count": 47,
     "metadata": {},
     "output_type": "execute_result"
    }
   ],
   "source": [
    "1/6"
   ]
  },
  {
   "cell_type": "markdown",
   "metadata": {},
   "source": [
    "以上のように回数が大きくなればなるほど、全ての確率が1/6の確率分布に近いものとなる。"
   ]
  },
  {
   "cell_type": "code",
   "execution_count": null,
   "metadata": {},
   "outputs": [],
   "source": []
  }
 ],
 "metadata": {
  "celltoolbar": "Slideshow",
  "kernelspec": {
   "display_name": "Python 3",
   "language": "python",
   "name": "python3"
  },
  "language_info": {
   "codemirror_mode": {
    "name": "ipython",
    "version": 3
   },
   "file_extension": ".py",
   "mimetype": "text/x-python",
   "name": "python",
   "nbconvert_exporter": "python",
   "pygments_lexer": "ipython3",
   "version": "3.7.3"
  }
 },
 "nbformat": 4,
 "nbformat_minor": 4
}
