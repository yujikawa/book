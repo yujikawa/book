{
 "cells": [
  {
   "cell_type": "markdown",
   "metadata": {},
   "source": [
    "# 分散分析\n",
    "ここでは３つ以上の平均値を比較するための統計的方法として、分散分析を紹介する。"
   ]
  },
  {
   "cell_type": "code",
   "execution_count": 243,
   "metadata": {},
   "outputs": [],
   "source": [
    "import pandas as pd\n",
    "import numpy as np"
   ]
  },
  {
   "cell_type": "code",
   "execution_count": 244,
   "metadata": {},
   "outputs": [],
   "source": [
    "data = pd.read_csv('../data/teaching_method.csv')"
   ]
  },
  {
   "cell_type": "code",
   "execution_count": 245,
   "metadata": {},
   "outputs": [
    {
     "data": {
      "text/html": [
       "<div>\n",
       "<style scoped>\n",
       "    .dataframe tbody tr th:only-of-type {\n",
       "        vertical-align: middle;\n",
       "    }\n",
       "\n",
       "    .dataframe tbody tr th {\n",
       "        vertical-align: top;\n",
       "    }\n",
       "\n",
       "    .dataframe thead th {\n",
       "        text-align: right;\n",
       "    }\n",
       "</style>\n",
       "<table border=\"1\" class=\"dataframe\">\n",
       "  <thead>\n",
       "    <tr style=\"text-align: right;\">\n",
       "      <th></th>\n",
       "      <th>id</th>\n",
       "      <th>name</th>\n",
       "      <th>sex</th>\n",
       "      <th>math</th>\n",
       "      <th>stats</th>\n",
       "      <th>psychology_test</th>\n",
       "      <th>stats_test1</th>\n",
       "      <th>stats_test2</th>\n",
       "      <th>teaching_method</th>\n",
       "    </tr>\n",
       "  </thead>\n",
       "  <tbody>\n",
       "    <tr>\n",
       "      <th>0</th>\n",
       "      <td>1</td>\n",
       "      <td>大村</td>\n",
       "      <td>男</td>\n",
       "      <td>嫌い</td>\n",
       "      <td>好き</td>\n",
       "      <td>13</td>\n",
       "      <td>6</td>\n",
       "      <td>10</td>\n",
       "      <td>C</td>\n",
       "    </tr>\n",
       "    <tr>\n",
       "      <th>1</th>\n",
       "      <td>2</td>\n",
       "      <td>本多</td>\n",
       "      <td>男</td>\n",
       "      <td>嫌い</td>\n",
       "      <td>好き</td>\n",
       "      <td>14</td>\n",
       "      <td>10</td>\n",
       "      <td>13</td>\n",
       "      <td>B</td>\n",
       "    </tr>\n",
       "    <tr>\n",
       "      <th>2</th>\n",
       "      <td>3</td>\n",
       "      <td>川崎</td>\n",
       "      <td>男</td>\n",
       "      <td>好き</td>\n",
       "      <td>好き</td>\n",
       "      <td>7</td>\n",
       "      <td>6</td>\n",
       "      <td>8</td>\n",
       "      <td>B</td>\n",
       "    </tr>\n",
       "    <tr>\n",
       "      <th>3</th>\n",
       "      <td>4</td>\n",
       "      <td>多村</td>\n",
       "      <td>男</td>\n",
       "      <td>好き</td>\n",
       "      <td>好き</td>\n",
       "      <td>12</td>\n",
       "      <td>10</td>\n",
       "      <td>15</td>\n",
       "      <td>A</td>\n",
       "    </tr>\n",
       "    <tr>\n",
       "      <th>4</th>\n",
       "      <td>5</td>\n",
       "      <td>松中</td>\n",
       "      <td>男</td>\n",
       "      <td>嫌い</td>\n",
       "      <td>嫌い</td>\n",
       "      <td>10</td>\n",
       "      <td>5</td>\n",
       "      <td>8</td>\n",
       "      <td>B</td>\n",
       "    </tr>\n",
       "  </tbody>\n",
       "</table>\n",
       "</div>"
      ],
      "text/plain": [
       "   id name sex math stats  psychology_test  stats_test1  stats_test2  \\\n",
       "0   1   大村   男   嫌い    好き               13            6           10   \n",
       "1   2   本多   男   嫌い    好き               14           10           13   \n",
       "2   3   川崎   男   好き    好き                7            6            8   \n",
       "3   4   多村   男   好き    好き               12           10           15   \n",
       "4   5   松中   男   嫌い    嫌い               10            5            8   \n",
       "\n",
       "  teaching_method  \n",
       "0               C  \n",
       "1               B  \n",
       "2               B  \n",
       "3               A  \n",
       "4               B  "
      ]
     },
     "execution_count": 245,
     "metadata": {},
     "output_type": "execute_result"
    }
   ],
   "source": [
    "data.head()"
   ]
  },
  {
   "cell_type": "code",
   "execution_count": 246,
   "metadata": {},
   "outputs": [],
   "source": [
    "A = data[data.teaching_method == 'A']\n",
    "B = data[data.teaching_method == 'B']\n",
    "C = data[data.teaching_method == 'C']\n",
    "D = data[data.teaching_method == 'D']"
   ]
  },
  {
   "cell_type": "code",
   "execution_count": 247,
   "metadata": {},
   "outputs": [
    {
     "data": {
      "text/html": [
       "<div>\n",
       "<style scoped>\n",
       "    .dataframe tbody tr th:only-of-type {\n",
       "        vertical-align: middle;\n",
       "    }\n",
       "\n",
       "    .dataframe tbody tr th {\n",
       "        vertical-align: top;\n",
       "    }\n",
       "\n",
       "    .dataframe thead th {\n",
       "        text-align: right;\n",
       "    }\n",
       "</style>\n",
       "<table border=\"1\" class=\"dataframe\">\n",
       "  <thead>\n",
       "    <tr style=\"text-align: right;\">\n",
       "      <th></th>\n",
       "      <th>id</th>\n",
       "      <th>name</th>\n",
       "      <th>sex</th>\n",
       "      <th>math</th>\n",
       "      <th>stats</th>\n",
       "      <th>psychology_test</th>\n",
       "      <th>stats_test1</th>\n",
       "      <th>stats_test2</th>\n",
       "      <th>teaching_method</th>\n",
       "    </tr>\n",
       "  </thead>\n",
       "  <tbody>\n",
       "    <tr>\n",
       "      <th>3</th>\n",
       "      <td>4</td>\n",
       "      <td>多村</td>\n",
       "      <td>男</td>\n",
       "      <td>好き</td>\n",
       "      <td>好き</td>\n",
       "      <td>12</td>\n",
       "      <td>10</td>\n",
       "      <td>15</td>\n",
       "      <td>A</td>\n",
       "    </tr>\n",
       "    <tr>\n",
       "      <th>6</th>\n",
       "      <td>7</td>\n",
       "      <td>柴原</td>\n",
       "      <td>男</td>\n",
       "      <td>嫌い</td>\n",
       "      <td>嫌い</td>\n",
       "      <td>8</td>\n",
       "      <td>5</td>\n",
       "      <td>9</td>\n",
       "      <td>A</td>\n",
       "    </tr>\n",
       "    <tr>\n",
       "      <th>10</th>\n",
       "      <td>11</td>\n",
       "      <td>高谷</td>\n",
       "      <td>女</td>\n",
       "      <td>好き</td>\n",
       "      <td>好き</td>\n",
       "      <td>9</td>\n",
       "      <td>11</td>\n",
       "      <td>18</td>\n",
       "      <td>A</td>\n",
       "    </tr>\n",
       "    <tr>\n",
       "      <th>11</th>\n",
       "      <td>12</td>\n",
       "      <td>杉内</td>\n",
       "      <td>女</td>\n",
       "      <td>嫌い</td>\n",
       "      <td>好き</td>\n",
       "      <td>6</td>\n",
       "      <td>6</td>\n",
       "      <td>14</td>\n",
       "      <td>A</td>\n",
       "    </tr>\n",
       "    <tr>\n",
       "      <th>12</th>\n",
       "      <td>13</td>\n",
       "      <td>和田</td>\n",
       "      <td>女</td>\n",
       "      <td>好き</td>\n",
       "      <td>好き</td>\n",
       "      <td>10</td>\n",
       "      <td>11</td>\n",
       "      <td>18</td>\n",
       "      <td>A</td>\n",
       "    </tr>\n",
       "  </tbody>\n",
       "</table>\n",
       "</div>"
      ],
      "text/plain": [
       "    id name sex math stats  psychology_test  stats_test1  stats_test2  \\\n",
       "3    4   多村   男   好き    好き               12           10           15   \n",
       "6    7   柴原   男   嫌い    嫌い                8            5            9   \n",
       "10  11   高谷   女   好き    好き                9           11           18   \n",
       "11  12   杉内   女   嫌い    好き                6            6           14   \n",
       "12  13   和田   女   好き    好き               10           11           18   \n",
       "\n",
       "   teaching_method  \n",
       "3                A  \n",
       "6                A  \n",
       "10               A  \n",
       "11               A  \n",
       "12               A  "
      ]
     },
     "execution_count": 247,
     "metadata": {},
     "output_type": "execute_result"
    }
   ],
   "source": [
    "A"
   ]
  },
  {
   "cell_type": "code",
   "execution_count": 248,
   "metadata": {},
   "outputs": [
    {
     "data": {
      "text/html": [
       "<div>\n",
       "<style scoped>\n",
       "    .dataframe tbody tr th:only-of-type {\n",
       "        vertical-align: middle;\n",
       "    }\n",
       "\n",
       "    .dataframe tbody tr th {\n",
       "        vertical-align: top;\n",
       "    }\n",
       "\n",
       "    .dataframe thead th {\n",
       "        text-align: right;\n",
       "    }\n",
       "</style>\n",
       "<table border=\"1\" class=\"dataframe\">\n",
       "  <thead>\n",
       "    <tr style=\"text-align: right;\">\n",
       "      <th></th>\n",
       "      <th>id</th>\n",
       "      <th>name</th>\n",
       "      <th>sex</th>\n",
       "      <th>math</th>\n",
       "      <th>stats</th>\n",
       "      <th>psychology_test</th>\n",
       "      <th>stats_test1</th>\n",
       "      <th>stats_test2</th>\n",
       "      <th>teaching_method</th>\n",
       "    </tr>\n",
       "  </thead>\n",
       "  <tbody>\n",
       "    <tr>\n",
       "      <th>1</th>\n",
       "      <td>2</td>\n",
       "      <td>本多</td>\n",
       "      <td>男</td>\n",
       "      <td>嫌い</td>\n",
       "      <td>好き</td>\n",
       "      <td>14</td>\n",
       "      <td>10</td>\n",
       "      <td>13</td>\n",
       "      <td>B</td>\n",
       "    </tr>\n",
       "    <tr>\n",
       "      <th>2</th>\n",
       "      <td>3</td>\n",
       "      <td>川崎</td>\n",
       "      <td>男</td>\n",
       "      <td>好き</td>\n",
       "      <td>好き</td>\n",
       "      <td>7</td>\n",
       "      <td>6</td>\n",
       "      <td>8</td>\n",
       "      <td>B</td>\n",
       "    </tr>\n",
       "    <tr>\n",
       "      <th>4</th>\n",
       "      <td>5</td>\n",
       "      <td>松中</td>\n",
       "      <td>男</td>\n",
       "      <td>嫌い</td>\n",
       "      <td>嫌い</td>\n",
       "      <td>10</td>\n",
       "      <td>5</td>\n",
       "      <td>8</td>\n",
       "      <td>B</td>\n",
       "    </tr>\n",
       "    <tr>\n",
       "      <th>14</th>\n",
       "      <td>15</td>\n",
       "      <td>大隣</td>\n",
       "      <td>女</td>\n",
       "      <td>嫌い</td>\n",
       "      <td>好き</td>\n",
       "      <td>5</td>\n",
       "      <td>7</td>\n",
       "      <td>12</td>\n",
       "      <td>B</td>\n",
       "    </tr>\n",
       "    <tr>\n",
       "      <th>18</th>\n",
       "      <td>19</td>\n",
       "      <td>佐藤</td>\n",
       "      <td>女</td>\n",
       "      <td>嫌い</td>\n",
       "      <td>嫌い</td>\n",
       "      <td>12</td>\n",
       "      <td>7</td>\n",
       "      <td>7</td>\n",
       "      <td>B</td>\n",
       "    </tr>\n",
       "  </tbody>\n",
       "</table>\n",
       "</div>"
      ],
      "text/plain": [
       "    id name sex math stats  psychology_test  stats_test1  stats_test2  \\\n",
       "1    2   本多   男   嫌い    好き               14           10           13   \n",
       "2    3   川崎   男   好き    好き                7            6            8   \n",
       "4    5   松中   男   嫌い    嫌い               10            5            8   \n",
       "14  15   大隣   女   嫌い    好き                5            7           12   \n",
       "18  19   佐藤   女   嫌い    嫌い               12            7            7   \n",
       "\n",
       "   teaching_method  \n",
       "1                B  \n",
       "2                B  \n",
       "4                B  \n",
       "14               B  \n",
       "18               B  "
      ]
     },
     "execution_count": 248,
     "metadata": {},
     "output_type": "execute_result"
    }
   ],
   "source": [
    "B"
   ]
  },
  {
   "cell_type": "code",
   "execution_count": 249,
   "metadata": {},
   "outputs": [
    {
     "data": {
      "text/html": [
       "<div>\n",
       "<style scoped>\n",
       "    .dataframe tbody tr th:only-of-type {\n",
       "        vertical-align: middle;\n",
       "    }\n",
       "\n",
       "    .dataframe tbody tr th {\n",
       "        vertical-align: top;\n",
       "    }\n",
       "\n",
       "    .dataframe thead th {\n",
       "        text-align: right;\n",
       "    }\n",
       "</style>\n",
       "<table border=\"1\" class=\"dataframe\">\n",
       "  <thead>\n",
       "    <tr style=\"text-align: right;\">\n",
       "      <th></th>\n",
       "      <th>id</th>\n",
       "      <th>name</th>\n",
       "      <th>sex</th>\n",
       "      <th>math</th>\n",
       "      <th>stats</th>\n",
       "      <th>psychology_test</th>\n",
       "      <th>stats_test1</th>\n",
       "      <th>stats_test2</th>\n",
       "      <th>teaching_method</th>\n",
       "    </tr>\n",
       "  </thead>\n",
       "  <tbody>\n",
       "    <tr>\n",
       "      <th>0</th>\n",
       "      <td>1</td>\n",
       "      <td>大村</td>\n",
       "      <td>男</td>\n",
       "      <td>嫌い</td>\n",
       "      <td>好き</td>\n",
       "      <td>13</td>\n",
       "      <td>6</td>\n",
       "      <td>10</td>\n",
       "      <td>C</td>\n",
       "    </tr>\n",
       "    <tr>\n",
       "      <th>5</th>\n",
       "      <td>6</td>\n",
       "      <td>小久保</td>\n",
       "      <td>男</td>\n",
       "      <td>嫌い</td>\n",
       "      <td>嫌い</td>\n",
       "      <td>6</td>\n",
       "      <td>3</td>\n",
       "      <td>6</td>\n",
       "      <td>C</td>\n",
       "    </tr>\n",
       "    <tr>\n",
       "      <th>13</th>\n",
       "      <td>14</td>\n",
       "      <td>新垣</td>\n",
       "      <td>女</td>\n",
       "      <td>嫌い</td>\n",
       "      <td>嫌い</td>\n",
       "      <td>12</td>\n",
       "      <td>9</td>\n",
       "      <td>11</td>\n",
       "      <td>C</td>\n",
       "    </tr>\n",
       "    <tr>\n",
       "      <th>16</th>\n",
       "      <td>17</td>\n",
       "      <td>斎藤</td>\n",
       "      <td>女</td>\n",
       "      <td>嫌い</td>\n",
       "      <td>嫌い</td>\n",
       "      <td>8</td>\n",
       "      <td>8</td>\n",
       "      <td>7</td>\n",
       "      <td>C</td>\n",
       "    </tr>\n",
       "    <tr>\n",
       "      <th>17</th>\n",
       "      <td>18</td>\n",
       "      <td>柳瀬</td>\n",
       "      <td>女</td>\n",
       "      <td>嫌い</td>\n",
       "      <td>嫌い</td>\n",
       "      <td>8</td>\n",
       "      <td>7</td>\n",
       "      <td>12</td>\n",
       "      <td>C</td>\n",
       "    </tr>\n",
       "  </tbody>\n",
       "</table>\n",
       "</div>"
      ],
      "text/plain": [
       "    id name sex math stats  psychology_test  stats_test1  stats_test2  \\\n",
       "0    1   大村   男   嫌い    好き               13            6           10   \n",
       "5    6  小久保   男   嫌い    嫌い                6            3            6   \n",
       "13  14   新垣   女   嫌い    嫌い               12            9           11   \n",
       "16  17   斎藤   女   嫌い    嫌い                8            8            7   \n",
       "17  18   柳瀬   女   嫌い    嫌い                8            7           12   \n",
       "\n",
       "   teaching_method  \n",
       "0                C  \n",
       "5                C  \n",
       "13               C  \n",
       "16               C  \n",
       "17               C  "
      ]
     },
     "execution_count": 249,
     "metadata": {},
     "output_type": "execute_result"
    }
   ],
   "source": [
    "C"
   ]
  },
  {
   "cell_type": "code",
   "execution_count": 250,
   "metadata": {},
   "outputs": [
    {
     "data": {
      "text/html": [
       "<div>\n",
       "<style scoped>\n",
       "    .dataframe tbody tr th:only-of-type {\n",
       "        vertical-align: middle;\n",
       "    }\n",
       "\n",
       "    .dataframe tbody tr th {\n",
       "        vertical-align: top;\n",
       "    }\n",
       "\n",
       "    .dataframe thead th {\n",
       "        text-align: right;\n",
       "    }\n",
       "</style>\n",
       "<table border=\"1\" class=\"dataframe\">\n",
       "  <thead>\n",
       "    <tr style=\"text-align: right;\">\n",
       "      <th></th>\n",
       "      <th>id</th>\n",
       "      <th>name</th>\n",
       "      <th>sex</th>\n",
       "      <th>math</th>\n",
       "      <th>stats</th>\n",
       "      <th>psychology_test</th>\n",
       "      <th>stats_test1</th>\n",
       "      <th>stats_test2</th>\n",
       "      <th>teaching_method</th>\n",
       "    </tr>\n",
       "  </thead>\n",
       "  <tbody>\n",
       "    <tr>\n",
       "      <th>7</th>\n",
       "      <td>8</td>\n",
       "      <td>井手</td>\n",
       "      <td>男</td>\n",
       "      <td>嫌い</td>\n",
       "      <td>嫌い</td>\n",
       "      <td>15</td>\n",
       "      <td>9</td>\n",
       "      <td>10</td>\n",
       "      <td>D</td>\n",
       "    </tr>\n",
       "    <tr>\n",
       "      <th>8</th>\n",
       "      <td>9</td>\n",
       "      <td>田上</td>\n",
       "      <td>男</td>\n",
       "      <td>嫌い</td>\n",
       "      <td>嫌い</td>\n",
       "      <td>4</td>\n",
       "      <td>3</td>\n",
       "      <td>7</td>\n",
       "      <td>D</td>\n",
       "    </tr>\n",
       "    <tr>\n",
       "      <th>9</th>\n",
       "      <td>10</td>\n",
       "      <td>松田</td>\n",
       "      <td>男</td>\n",
       "      <td>好き</td>\n",
       "      <td>嫌い</td>\n",
       "      <td>14</td>\n",
       "      <td>3</td>\n",
       "      <td>3</td>\n",
       "      <td>D</td>\n",
       "    </tr>\n",
       "    <tr>\n",
       "      <th>15</th>\n",
       "      <td>16</td>\n",
       "      <td>水田</td>\n",
       "      <td>女</td>\n",
       "      <td>好き</td>\n",
       "      <td>嫌い</td>\n",
       "      <td>12</td>\n",
       "      <td>5</td>\n",
       "      <td>5</td>\n",
       "      <td>D</td>\n",
       "    </tr>\n",
       "    <tr>\n",
       "      <th>19</th>\n",
       "      <td>20</td>\n",
       "      <td>馬原</td>\n",
       "      <td>女</td>\n",
       "      <td>嫌い</td>\n",
       "      <td>嫌い</td>\n",
       "      <td>15</td>\n",
       "      <td>9</td>\n",
       "      <td>7</td>\n",
       "      <td>D</td>\n",
       "    </tr>\n",
       "  </tbody>\n",
       "</table>\n",
       "</div>"
      ],
      "text/plain": [
       "    id name sex math stats  psychology_test  stats_test1  stats_test2  \\\n",
       "7    8   井手   男   嫌い    嫌い               15            9           10   \n",
       "8    9   田上   男   嫌い    嫌い                4            3            7   \n",
       "9   10   松田   男   好き    嫌い               14            3            3   \n",
       "15  16   水田   女   好き    嫌い               12            5            5   \n",
       "19  20   馬原   女   嫌い    嫌い               15            9            7   \n",
       "\n",
       "   teaching_method  \n",
       "7                D  \n",
       "8                D  \n",
       "9                D  \n",
       "15               D  \n",
       "19               D  "
      ]
     },
     "execution_count": 250,
     "metadata": {},
     "output_type": "execute_result"
    }
   ],
   "source": [
    "D"
   ]
  },
  {
   "cell_type": "markdown",
   "metadata": {},
   "source": [
    "上記の表は指導法（４つの指導法で計20人）ごとの点数を表示してる。 ここでは20人の得点そのものではなく、それぞれの指導法をうける全ての母集団としたときに、その母集団において、それぞれの指導法ごとに求めたテスト得点の平均値に違いがあるかどうかということに関心があるとする。母集団ではこれら４つの指導法の間に平均値の差はあるのか？標本の群間で平均値の差はあると言っても、母集団で平均値に差があるとは必ずしも言えない。<b>この得られた標本が母平均の等しい4群から抽出される可能性が高いかどうかを検討するための検定が分散分析である。</b>分散分析という名前だが、平均値差の検定である（t検定は３つ以上の平均値差の検定には使えない）。"
   ]
  },
  {
   "cell_type": "markdown",
   "metadata": {},
   "source": [
    "## 一元配置分散分析（対応なし）を実行する\n",
    "統計的仮説検定の一般的な手順の通りに分散分析を実行する。分散分析は今まで検定とは複雑な計算のためライブラリを使って計算する。"
   ]
  },
  {
   "cell_type": "markdown",
   "metadata": {},
   "source": [
    "### (1)帰無仮説と対立仮説の設定\n",
    "- 帰無仮説$H_0$：4群の母平均は等しい（指導法の違いによる統計学の学習効果に差はない）\n",
    "- 対立仮説$H_1$：4群の母平均は等しくない（指導法の違いによる統計学の学習効果に差がある）\n",
    "<p>\n",
    "ここで注意しなければならないのは、例えば4群のうち一つだけ母平均と異なる（その他３つは母平均と等しい）ような場合でも対立仮説が成立することである。\n",
    "</p>"
   ]
  },
  {
   "cell_type": "markdown",
   "metadata": {},
   "source": [
    "### (2)検定統計量の選択\n",
    "分散分析では検定統計量として次のFを利用する\n",
    "$$\n",
    "F = \\frac{群間平方和/群間の自由度}{群内平方和/群内の自由度}\n",
    "$$\n",
    "この検定統計量は帰無仮説のもとで、すなわち全ての群の母平均が等しいときにはF分布という確率分布に従う。F分布は自由度を２つ持つ。これは$df_1$と$df_2$と書かれたり、分子の自由度、分母の自由度と呼ばれたりする。F分布を書いてみる。下記は分子の自由度を3、分母の自由度を16のF分布を描いたものである。"
   ]
  },
  {
   "cell_type": "code",
   "execution_count": 251,
   "metadata": {},
   "outputs": [
    {
     "data": {
      "text/plain": [
       "[<matplotlib.lines.Line2D at 0x12ad7bb70>]"
      ]
     },
     "execution_count": 251,
     "metadata": {},
     "output_type": "execute_result"
    },
    {
     "data": {
      "image/png": "[encoded data removed]",
      "text/plain": [
       "<Figure size 432x288 with 1 Axes>"
      ]
     },
     "metadata": {
      "needs_background": "light"
     },
     "output_type": "display_data"
    }
   ],
   "source": [
    "import numpy as np\n",
    "import matplotlib.pyplot as plt\n",
    "from scipy import stats\n",
    "dfn = 3  #　分子の自由度\n",
    "dfd = 16 # 分母の自由度 \n",
    "x = np.linspace(stats.f.ppf(1e-10, dfn, dfd),stats.f.ppf(0.99, dfn, dfd), 100)\n",
    "plt.plot(x, stats.f.pdf(x, dfn, dfd), 'r-', lw=2, alpha=0.6, label='f pdf')"
   ]
  },
  {
   "cell_type": "markdown",
   "metadata": {},
   "source": [
    "### (3)有意水準$\\alpha$の決定\n",
    "ここでは有意水準は5%、つまり$\\alpha=0.05$とする。上図のようF分布は正の値しか取らないため分散分析は常に片側検定となる。"
   ]
  },
  {
   "cell_type": "markdown",
   "metadata": {},
   "source": [
    "### (4)検定統計量の実現値を求める\n",
    "Pythonによる分散分析の関数は以下である。"
   ]
  },
  {
   "cell_type": "code",
   "execution_count": 10,
   "metadata": {},
   "outputs": [],
   "source": [
    "from scipy import stats"
   ]
  },
  {
   "cell_type": "code",
   "execution_count": 11,
   "metadata": {},
   "outputs": [
    {
     "name": "stdout",
     "output_type": "stream",
     "text": [
      "F=7.111111, p-value = 0.002988\n"
     ]
    }
   ],
   "source": [
    "f, p = stats.f_oneway(A.stats_test2,B.stats_test2,C.stats_test2,D.stats_test2)\n",
    "print(\"F=%f, p-value = %f\"%(f,p))"
   ]
  },
  {
   "cell_type": "markdown",
   "metadata": {},
   "source": [
    "### (5)帰無仮説の棄却or採択の決定\n",
    "p値が5%以下のため帰無仮説は棄却される。"
   ]
  },
  {
   "cell_type": "markdown",
   "metadata": {},
   "source": [
    "## 平方和の分解\n",
    "ここでは平方和の分解について説明する。"
   ]
  },
  {
   "cell_type": "code",
   "execution_count": 12,
   "metadata": {},
   "outputs": [],
   "source": [
    "data = pd.DataFrame([A.stats_test2.values, B.stats_test2.values, C.stats_test2.values, D.stats_test2.values]).T.values"
   ]
  },
  {
   "cell_type": "code",
   "execution_count": 13,
   "metadata": {},
   "outputs": [
    {
     "data": {
      "text/plain": [
       "array([[15, 13, 10, 10],\n",
       "       [ 9,  8,  6,  7],\n",
       "       [18,  8, 11,  3],\n",
       "       [14, 12,  7,  5],\n",
       "       [18,  7, 12,  7]])"
      ]
     },
     "execution_count": 13,
     "metadata": {},
     "output_type": "execute_result"
    }
   ],
   "source": [
    "data"
   ]
  },
  {
   "cell_type": "code",
   "execution_count": 14,
   "metadata": {},
   "outputs": [],
   "source": [
    "group_mean = data.mean(axis=0) # 群平均"
   ]
  },
  {
   "cell_type": "code",
   "execution_count": 15,
   "metadata": {},
   "outputs": [],
   "source": [
    "all_mean = data.mean() #全平均"
   ]
  },
  {
   "cell_type": "code",
   "execution_count": 16,
   "metadata": {},
   "outputs": [],
   "source": [
    "all_mean_matrix = np.full((5,4), 10) # 全平均行列"
   ]
  },
  {
   "cell_type": "code",
   "execution_count": 17,
   "metadata": {},
   "outputs": [],
   "source": [
    "group_mean_matrix = np.tile(group_mean, (5, 1)) # 群平均行列"
   ]
  },
  {
   "cell_type": "code",
   "execution_count": 18,
   "metadata": {},
   "outputs": [],
   "source": [
    "# 全体 = データ - 全平均行列\n",
    "a = data - all_mean_matrix"
   ]
  },
  {
   "cell_type": "code",
   "execution_count": 19,
   "metadata": {},
   "outputs": [],
   "source": [
    "# 群間 = 群平均行列 - 全平均行列\n",
    "# 各群ごとに全平均からどの程度離れているかを出す\n",
    "g = group_mean_matrix - all_mean_matrix"
   ]
  },
  {
   "cell_type": "code",
   "execution_count": 20,
   "metadata": {},
   "outputs": [
    {
     "data": {
      "text/plain": [
       "array([[ 4.8, -0.4, -0.8, -3.6],\n",
       "       [ 4.8, -0.4, -0.8, -3.6],\n",
       "       [ 4.8, -0.4, -0.8, -3.6],\n",
       "       [ 4.8, -0.4, -0.8, -3.6],\n",
       "       [ 4.8, -0.4, -0.8, -3.6]])"
      ]
     },
     "execution_count": 20,
     "metadata": {},
     "output_type": "execute_result"
    }
   ],
   "source": [
    "g"
   ]
  },
  {
   "cell_type": "markdown",
   "metadata": {},
   "source": [
    "上記は平均からの差なので指導法Aと使うと平均より4.8点押し上げられたと解釈できる。逆に指導法Bは平均点より-0.4のため引き下げられたとみることができる。このように条件の違いで平均点を押し上げたり引き下げたりする力を効果という。どの群も平均が同じであれば、この群間の値は全て0になるが、その場合は群の違いによって効果がないということである。したがって分散分析は母集団において群の違いによる効果の有無を検定する手法であるという見方ができる。"
   ]
  },
  {
   "cell_type": "code",
   "execution_count": 21,
   "metadata": {},
   "outputs": [],
   "source": [
    "# 郡内 = 全データ - 群平均行列\n",
    "g_in = data - group_mean_matrix"
   ]
  },
  {
   "cell_type": "code",
   "execution_count": 22,
   "metadata": {},
   "outputs": [
    {
     "data": {
      "text/plain": [
       "array([[ 0.2,  3.4,  0.8,  3.6],\n",
       "       [-5.8, -1.6, -3.2,  0.6],\n",
       "       [ 3.2, -1.6,  1.8, -3.4],\n",
       "       [-0.8,  2.4, -2.2, -1.4],\n",
       "       [ 3.2, -2.6,  2.8,  0.6]])"
      ]
     },
     "execution_count": 22,
     "metadata": {},
     "output_type": "execute_result"
    }
   ],
   "source": [
    "g_in"
   ]
  },
  {
   "cell_type": "markdown",
   "metadata": {},
   "source": [
    "郡内という行列は全データのここの要素からその要素が属する群の平均を引いたもの。それぞれのデータがその群の平均からどれくらい離れているかを示している。もし、同じ群の中のデータが全て同じであれば、郡内は0になる。全員の得点が全平均から「群間」で見られた効果によって一律に押し上げられたり引き下げられたりしたあとで、「郡内」の値は指導法との相性やテストのときの体調など様々な要因によって生じた変動の大きさと見なすことができる。"
   ]
  },
  {
   "cell_type": "code",
   "execution_count": 23,
   "metadata": {},
   "outputs": [
    {
     "data": {
      "text/plain": [
       "array([[25,  9,  0,  0],\n",
       "       [ 1,  4, 16,  9],\n",
       "       [64,  4,  1, 49],\n",
       "       [16,  4,  9, 25],\n",
       "       [64,  9,  4,  9]])"
      ]
     },
     "execution_count": 23,
     "metadata": {},
     "output_type": "execute_result"
    }
   ],
   "source": [
    "a**2 # 各データが全平均に近いほど小さく、遠いほど大きくなる"
   ]
  },
  {
   "cell_type": "code",
   "execution_count": 24,
   "metadata": {},
   "outputs": [
    {
     "data": {
      "text/plain": [
       "array([[23.04,  0.16,  0.64, 12.96],\n",
       "       [23.04,  0.16,  0.64, 12.96],\n",
       "       [23.04,  0.16,  0.64, 12.96],\n",
       "       [23.04,  0.16,  0.64, 12.96],\n",
       "       [23.04,  0.16,  0.64, 12.96]])"
      ]
     },
     "execution_count": 24,
     "metadata": {},
     "output_type": "execute_result"
    }
   ],
   "source": [
    "g**2"
   ]
  },
  {
   "cell_type": "code",
   "execution_count": 25,
   "metadata": {},
   "outputs": [
    {
     "data": {
      "text/plain": [
       "array([[ 0.04, 11.56,  0.64, 12.96],\n",
       "       [33.64,  2.56, 10.24,  0.36],\n",
       "       [10.24,  2.56,  3.24, 11.56],\n",
       "       [ 0.64,  5.76,  4.84,  1.96],\n",
       "       [10.24,  6.76,  7.84,  0.36]])"
      ]
     },
     "execution_count": 25,
     "metadata": {},
     "output_type": "execute_result"
    }
   ],
   "source": [
    "g_in**2"
   ]
  },
  {
   "cell_type": "code",
   "execution_count": 26,
   "metadata": {},
   "outputs": [],
   "source": [
    "a_sum = np.sum(a**2)\n",
    "g_sum = np.sum(g**2)\n",
    "g_in_sum = np.sum(g_in**2)"
   ]
  },
  {
   "cell_type": "code",
   "execution_count": 27,
   "metadata": {},
   "outputs": [
    {
     "data": {
      "text/plain": [
       "322"
      ]
     },
     "execution_count": 27,
     "metadata": {},
     "output_type": "execute_result"
    }
   ],
   "source": [
    "a_sum # データ全体のばらつき"
   ]
  },
  {
   "cell_type": "code",
   "execution_count": 28,
   "metadata": {},
   "outputs": [
    {
     "data": {
      "text/plain": [
       "184.00000000000003"
      ]
     },
     "execution_count": 28,
     "metadata": {},
     "output_type": "execute_result"
    }
   ],
   "source": [
    "g_sum # 群の平均値のばらつきが大きいほど大きい値になる。群の違いによって生じるばらつき"
   ]
  },
  {
   "cell_type": "code",
   "execution_count": 29,
   "metadata": {},
   "outputs": [
    {
     "data": {
      "text/plain": [
       "138.0"
      ]
     },
     "execution_count": 29,
     "metadata": {},
     "output_type": "execute_result"
    }
   ],
   "source": [
    "g_in_sum # 同じ群の中の個人差の大きさを表す"
   ]
  },
  {
   "cell_type": "markdown",
   "metadata": {},
   "source": [
    "群の平均値の違いをデータのばらつきによって説明しようとするのが分散分析である。\n",
    "* 群間の自由度=群の数-1\n",
    "* 郡内の自由度=(各群のデータ数-1)を全ての群について合計したもの\n",
    "* 全体の自由度=全データ数-1"
   ]
  },
  {
   "cell_type": "code",
   "execution_count": 30,
   "metadata": {},
   "outputs": [],
   "source": [
    "g_df = data.shape[1] - 1 # 群間自由度\n",
    "g_in_df = (data.shape[0] - 1)*data.shape[1] # 郡内自由度\n",
    "a_df = data.shape[0]*data.shape[1] - 1 # 全体自由度"
   ]
  },
  {
   "cell_type": "code",
   "execution_count": 31,
   "metadata": {},
   "outputs": [
    {
     "name": "stdout",
     "output_type": "stream",
     "text": [
      "3\n",
      "16\n",
      "19\n"
     ]
    }
   ],
   "source": [
    "print(g_df)\n",
    "print(g_in_df)\n",
    "print(a_df)"
   ]
  },
  {
   "cell_type": "code",
   "execution_count": 32,
   "metadata": {},
   "outputs": [],
   "source": [
    "g_mean = g_sum / g_df # 群間平均平方\n",
    "g_in_mean = g_in_sum / g_in_df # 群間平均平方\n",
    "a_mean = a_sum / a_df"
   ]
  },
  {
   "cell_type": "code",
   "execution_count": 33,
   "metadata": {},
   "outputs": [
    {
     "name": "stdout",
     "output_type": "stream",
     "text": [
      "61.33333333333334\n",
      "8.625\n",
      "16.94736842105263\n"
     ]
    }
   ],
   "source": [
    "print(g_mean)\n",
    "print(g_in_mean)\n",
    "print(a_mean)"
   ]
  },
  {
   "cell_type": "markdown",
   "metadata": {},
   "source": [
    "検定統計量Fを求める\n",
    "* 分子=（群間平方和）/（群間の自由度）=群間の平均平方\n",
    "* 分母=（群内平方和）/（群内の自由度）=群内の平均平方"
   ]
  },
  {
   "cell_type": "code",
   "execution_count": 34,
   "metadata": {},
   "outputs": [
    {
     "data": {
      "text/plain": [
       "7.1111111111111125"
      ]
     },
     "execution_count": 34,
     "metadata": {},
     "output_type": "execute_result"
    }
   ],
   "source": [
    "F = g_mean / g_in_mean\n",
    "F"
   ]
  },
  {
   "cell_type": "markdown",
   "metadata": {},
   "source": [
    "## 多重比較（Tukeyの方法）\n",
    "<p>一元配置分散分析（対応なし）で行った検定では「４つの指導法の母平均は等しくない」ということが分かったが、具体的にどの指導法とどの指導法の間に差があるかまではわからない。このために多重比較という方法を用いる必要がある。ここではTukey(テューキー)の方法と呼ばれる多重比較の方法を示す。</p>\n",
    "<p>各群におけるデータ数nが等しく、各群の母分散も等しいと仮定して次式により検定統計量qを求める</p>\n",
    "$$\n",
    "q = \\frac{|比較する群の平均値差|}{\\sqrt{郡内の平均平方/各群のデータ数}}\n",
    "$$\n",
    "指導法データの例で、比較してみよう。"
   ]
  },
  {
   "cell_type": "code",
   "execution_count": 35,
   "metadata": {},
   "outputs": [],
   "source": [
    "q = np.abs(A.stats_test2.mean() - D.stats_test2.mean()) / np.sqrt(g_in_mean/ len(data))"
   ]
  },
  {
   "cell_type": "code",
   "execution_count": 36,
   "metadata": {},
   "outputs": [
    {
     "data": {
      "text/plain": [
       "6.3956506960658"
      ]
     },
     "execution_count": 36,
     "metadata": {},
     "output_type": "execute_result"
    }
   ],
   "source": [
    "q"
   ]
  },
  {
   "cell_type": "markdown",
   "metadata": {},
   "source": [
    "こうして検定統計量qの実現値が6.395と求められた、続いてpairwise_tukeyhsd関数を利用する。"
   ]
  },
  {
   "cell_type": "code",
   "execution_count": 37,
   "metadata": {},
   "outputs": [],
   "source": [
    "from statsmodels.stats.multicomp import pairwise_tukeyhsd"
   ]
  },
  {
   "cell_type": "code",
   "execution_count": 126,
   "metadata": {},
   "outputs": [
    {
     "name": "stdout",
     "output_type": "stream",
     "text": [
      "[15  9 18 14 18 13  8  8 12  7 10  6 11  7 12 10  7  3  5  7]\n",
      "['A' 'A' 'A' 'A' 'A' 'B' 'B' 'B' 'B' 'B' 'C' 'C' 'C' 'C' 'C' 'D' 'D' 'D'\n",
      " 'D' 'D']\n"
     ]
    }
   ],
   "source": [
    "data_arr = np.hstack( (A.stats_test2,B.stats_test2,C.stats_test2,D.stats_test2) ) # すべてのデータを結合\n",
    "ind_arr = np.repeat(list('ABCD'),len(A))   # 名称をリスト\n",
    "\n",
    "print(data_arr)\n",
    "print(ind_arr)\n"
   ]
  },
  {
   "cell_type": "code",
   "execution_count": 116,
   "metadata": {},
   "outputs": [
    {
     "name": "stdout",
     "output_type": "stream",
     "text": [
      " Multiple Comparison of Means - Tukey HSD, FWER=0.05 \n",
      "=====================================================\n",
      "group1 group2 meandiff p-adj   lower    upper  reject\n",
      "-----------------------------------------------------\n",
      "     A      B     -5.2 0.0563 -10.5145  0.1145  False\n",
      "     A      C     -5.6 0.0371 -10.9145 -0.2855   True\n",
      "     A      D     -8.4 0.0018 -13.7145 -3.0855   True\n",
      "     B      C     -0.4    0.9  -5.7145  4.9145  False\n",
      "     B      D     -3.2  0.345  -8.5145  2.1145  False\n",
      "     C      D     -2.8 0.4574  -8.1145  2.5145  False\n",
      "-----------------------------------------------------\n"
     ]
    }
   ],
   "source": [
    "print(pairwise_tukeyhsd(data_arr,ind_arr))   # 結果を出力する"
   ]
  },
  {
   "cell_type": "markdown",
   "metadata": {},
   "source": [
    "上の表をみると、AとDの0.0018であり有意水準0.05よりも小さいことから有意差ありと判断できる。同様にみるとAとCも有意差がある。"
   ]
  },
  {
   "cell_type": "markdown",
   "metadata": {},
   "source": [
    "## 一元配置分散分析（対応あり）\n",
    "一元配置分散分析（対応あり）を適用するのは、以下の例題のようなデータである。5人の学生それぞれについて３つの測定値がある。このように同じ被験者が複数の条件を経験するようなデータ（被験者内計画データ）は対応あるデータとなる。"
   ]
  },
  {
   "cell_type": "code",
   "execution_count": 167,
   "metadata": {},
   "outputs": [
    {
     "data": {
      "text/html": [
       "<div>\n",
       "<style scoped>\n",
       "    .dataframe tbody tr th:only-of-type {\n",
       "        vertical-align: middle;\n",
       "    }\n",
       "\n",
       "    .dataframe tbody tr th {\n",
       "        vertical-align: top;\n",
       "    }\n",
       "\n",
       "    .dataframe thead th {\n",
       "        text-align: right;\n",
       "    }\n",
       "</style>\n",
       "<table border=\"1\" class=\"dataframe\">\n",
       "  <thead>\n",
       "    <tr style=\"text-align: right;\">\n",
       "      <th></th>\n",
       "      <th>学生</th>\n",
       "      <th>線形代数</th>\n",
       "      <th>微分積分</th>\n",
       "      <th>確率統計</th>\n",
       "    </tr>\n",
       "  </thead>\n",
       "  <tbody>\n",
       "    <tr>\n",
       "      <th>0</th>\n",
       "      <td>田中</td>\n",
       "      <td>7</td>\n",
       "      <td>5</td>\n",
       "      <td>8</td>\n",
       "    </tr>\n",
       "    <tr>\n",
       "      <th>1</th>\n",
       "      <td>岸</td>\n",
       "      <td>8</td>\n",
       "      <td>4</td>\n",
       "      <td>6</td>\n",
       "    </tr>\n",
       "    <tr>\n",
       "      <th>2</th>\n",
       "      <td>大引</td>\n",
       "      <td>9</td>\n",
       "      <td>7</td>\n",
       "      <td>7</td>\n",
       "    </tr>\n",
       "    <tr>\n",
       "      <th>3</th>\n",
       "      <td>吉川</td>\n",
       "      <td>5</td>\n",
       "      <td>1</td>\n",
       "      <td>2</td>\n",
       "    </tr>\n",
       "    <tr>\n",
       "      <th>4</th>\n",
       "      <td>萩野</td>\n",
       "      <td>6</td>\n",
       "      <td>3</td>\n",
       "      <td>5</td>\n",
       "    </tr>\n",
       "  </tbody>\n",
       "</table>\n",
       "</div>"
      ],
      "text/plain": [
       "   学生  線形代数  微分積分  確率統計\n",
       "0  田中     7     5     8\n",
       "1   岸     8     4     6\n",
       "2  大引     9     7     7\n",
       "3  吉川     5     1     2\n",
       "4  萩野     6     3     5"
      ]
     },
     "execution_count": 167,
     "metadata": {},
     "output_type": "execute_result"
    }
   ],
   "source": [
    "import pandas as pd\n",
    "plan_data = pd.DataFrame(\n",
    "    [\n",
    "        ['田中', 7, 5, 8],\n",
    "        ['岸', 8, 4, 6],\n",
    "        ['大引', 9, 7, 7],\n",
    "        ['吉川', 5, 1, 2],\n",
    "        ['萩野', 6, 3, 5],\n",
    "    ],\n",
    "    columns=['学生','線形代数','微分積分','確率統計']\n",
    ")\n",
    "plan_data\n",
    "# 大学の理工学系学部の1年生5人に線形代数、微分積分、確率統計に対する好感度を評定してもらったデータ。\n",
    "#３つの数学科目に対する好意度について有意な差があると言えるか？分散分析により確認しよう（有意水準は5%）"
   ]
  },
  {
   "cell_type": "markdown",
   "metadata": {},
   "source": [
    "## 対応がないものとみなして分散分析をしてみる\n",
    "一元配置分散分析（対応なし）で扱った指導法の違いによるテスト得点のデータは２０個のデータは全て異なる人から得られたものであった。\n",
    "一方今回のデータは、データの横の並びは同じ学生が回答したものである。同じ人から３科目のデータが得られていることは気にせず、対応のない一元配置分散分析を行ってみる。\n",
    "* 帰無仮説$H_0$:３科目の好感度の母平均は等しい\n",
    "* 対立仮説$H_1$:３科目の好感度の母平均は等しくない"
   ]
  },
  {
   "cell_type": "code",
   "execution_count": 43,
   "metadata": {},
   "outputs": [],
   "source": [
    "import numpy as np\n",
    "from scipy import stats"
   ]
  },
  {
   "cell_type": "code",
   "execution_count": 139,
   "metadata": {},
   "outputs": [
    {
     "data": {
      "text/plain": [
       "F_onewayResult(statistic=2.6406250000000004, pvalue=0.11210798800331405)"
      ]
     },
     "execution_count": 139,
     "metadata": {},
     "output_type": "execute_result"
    }
   ],
   "source": [
    "stats.f_oneway(plan_data['線形代数'], plan_data['微分積分'], plan_data['確率統計'])"
   ]
  },
  {
   "cell_type": "markdown",
   "metadata": {},
   "source": [
    "分散分析の結果をみるとFが2.64でp値が0.1121 > 0.05なので有意水準5％より有意な差がない。一般に対応のあるデータで対応あることを考慮せずに検定を行うと検定力が低下して、有意な結果が得られにくくなる。そこで次は対応を考慮した分析を行う。"
   ]
  },
  {
   "cell_type": "markdown",
   "metadata": {},
   "source": [
    "## 一元配置分散分析（対応あり）を実行する"
   ]
  },
  {
   "cell_type": "markdown",
   "metadata": {},
   "source": [
    "### (1)帰無仮説と対立仮説の設定\n",
    "* 帰無仮説$H_0$:３科目の好感度の母平均は等しい\n",
    "* 対立仮説$H_1$:３科目の好感度の母平均は等しくない"
   ]
  },
  {
   "cell_type": "markdown",
   "metadata": {},
   "source": [
    "## (2)検定統計量の選択\n",
    "分散分析では検定統計量としてFを利用する\n",
    "$$\n",
    "F = \\frac{条件平方和/条件の自由度}{残差平方和/残差の自由度}\n",
    "$$\n",
    "分子の条件平方和、条件の自由度は対応のない一元配置分散分析の群間平方和、群間の自由度と全く同じものである。この例ではそれぞれの評定者が比較したい３科目全てに回答しているので、「群」の比較ではなく「条件」の比較となっているため呼び名を変えている"
   ]
  },
  {
   "cell_type": "markdown",
   "metadata": {},
   "source": [
    "## (3)有意水準$\\alpha$の決定\n",
    "ここでは有意水準は5%、つまり$\\alpha=0.05$とする。F分布は正の値しか取らないため分散分析は常に片側検定となる。"
   ]
  },
  {
   "cell_type": "markdown",
   "metadata": {},
   "source": [
    "### (4)検定統計量の実現値を求める"
   ]
  },
  {
   "cell_type": "code",
   "execution_count": 140,
   "metadata": {},
   "outputs": [
    {
     "data": {
      "text/html": [
       "<div>\n",
       "<style scoped>\n",
       "    .dataframe tbody tr th:only-of-type {\n",
       "        vertical-align: middle;\n",
       "    }\n",
       "\n",
       "    .dataframe tbody tr th {\n",
       "        vertical-align: top;\n",
       "    }\n",
       "\n",
       "    .dataframe thead th {\n",
       "        text-align: right;\n",
       "    }\n",
       "</style>\n",
       "<table border=\"1\" class=\"dataframe\">\n",
       "  <thead>\n",
       "    <tr style=\"text-align: right;\">\n",
       "      <th></th>\n",
       "      <th>学生</th>\n",
       "      <th>線形代数</th>\n",
       "      <th>微分積分</th>\n",
       "      <th>確率統計</th>\n",
       "    </tr>\n",
       "  </thead>\n",
       "  <tbody>\n",
       "    <tr>\n",
       "      <th>0</th>\n",
       "      <td>田中</td>\n",
       "      <td>7</td>\n",
       "      <td>5</td>\n",
       "      <td>8</td>\n",
       "    </tr>\n",
       "    <tr>\n",
       "      <th>1</th>\n",
       "      <td>岸</td>\n",
       "      <td>8</td>\n",
       "      <td>4</td>\n",
       "      <td>6</td>\n",
       "    </tr>\n",
       "    <tr>\n",
       "      <th>2</th>\n",
       "      <td>大引</td>\n",
       "      <td>9</td>\n",
       "      <td>7</td>\n",
       "      <td>7</td>\n",
       "    </tr>\n",
       "    <tr>\n",
       "      <th>3</th>\n",
       "      <td>吉川</td>\n",
       "      <td>5</td>\n",
       "      <td>1</td>\n",
       "      <td>2</td>\n",
       "    </tr>\n",
       "    <tr>\n",
       "      <th>4</th>\n",
       "      <td>萩野</td>\n",
       "      <td>6</td>\n",
       "      <td>3</td>\n",
       "      <td>5</td>\n",
       "    </tr>\n",
       "  </tbody>\n",
       "</table>\n",
       "</div>"
      ],
      "text/plain": [
       "   学生  線形代数  微分積分  確率統計\n",
       "0  田中     7     5     8\n",
       "1   岸     8     4     6\n",
       "2  大引     9     7     7\n",
       "3  吉川     5     1     2\n",
       "4  萩野     6     3     5"
      ]
     },
     "execution_count": 140,
     "metadata": {},
     "output_type": "execute_result"
    }
   ],
   "source": [
    "plan_data"
   ]
  },
  {
   "cell_type": "code",
   "execution_count": 239,
   "metadata": {},
   "outputs": [],
   "source": [
    "import statsmodels.api as sm\n",
    "from statsmodels.formula.api import ols\n",
    "import pandas as pd\n",
    "\n",
    "algebra=plan_data['線形代数'].to_list()\n",
    "calculus = plan_data['微分積分'].to_list()\n",
    "statistics=plan_data['確率統計'].to_list()\n",
    "students=plan_data['学生'].to_list()\n",
    "favorness = np.array(algebra+calculus+statistics)\n",
    "condition = np.repeat(['線形代数','微分積分','確率統計'],len(algebra))\n",
    "subjects = np.array(students+students+students)\n",
    "df = pd.DataFrame({'好意度':favorness,'科目':condition,'人':subjects})"
   ]
  },
  {
   "cell_type": "code",
   "execution_count": 240,
   "metadata": {},
   "outputs": [
    {
     "data": {
      "text/html": [
       "<div>\n",
       "<style scoped>\n",
       "    .dataframe tbody tr th:only-of-type {\n",
       "        vertical-align: middle;\n",
       "    }\n",
       "\n",
       "    .dataframe tbody tr th {\n",
       "        vertical-align: top;\n",
       "    }\n",
       "\n",
       "    .dataframe thead th {\n",
       "        text-align: right;\n",
       "    }\n",
       "</style>\n",
       "<table border=\"1\" class=\"dataframe\">\n",
       "  <thead>\n",
       "    <tr style=\"text-align: right;\">\n",
       "      <th></th>\n",
       "      <th>好意度</th>\n",
       "      <th>科目</th>\n",
       "      <th>人</th>\n",
       "    </tr>\n",
       "  </thead>\n",
       "  <tbody>\n",
       "    <tr>\n",
       "      <th>0</th>\n",
       "      <td>7</td>\n",
       "      <td>線形代数</td>\n",
       "      <td>田中</td>\n",
       "    </tr>\n",
       "    <tr>\n",
       "      <th>1</th>\n",
       "      <td>8</td>\n",
       "      <td>線形代数</td>\n",
       "      <td>岸</td>\n",
       "    </tr>\n",
       "    <tr>\n",
       "      <th>2</th>\n",
       "      <td>9</td>\n",
       "      <td>線形代数</td>\n",
       "      <td>大引</td>\n",
       "    </tr>\n",
       "    <tr>\n",
       "      <th>3</th>\n",
       "      <td>5</td>\n",
       "      <td>線形代数</td>\n",
       "      <td>吉川</td>\n",
       "    </tr>\n",
       "    <tr>\n",
       "      <th>4</th>\n",
       "      <td>6</td>\n",
       "      <td>線形代数</td>\n",
       "      <td>萩野</td>\n",
       "    </tr>\n",
       "    <tr>\n",
       "      <th>5</th>\n",
       "      <td>5</td>\n",
       "      <td>微分積分</td>\n",
       "      <td>田中</td>\n",
       "    </tr>\n",
       "    <tr>\n",
       "      <th>6</th>\n",
       "      <td>4</td>\n",
       "      <td>微分積分</td>\n",
       "      <td>岸</td>\n",
       "    </tr>\n",
       "    <tr>\n",
       "      <th>7</th>\n",
       "      <td>7</td>\n",
       "      <td>微分積分</td>\n",
       "      <td>大引</td>\n",
       "    </tr>\n",
       "    <tr>\n",
       "      <th>8</th>\n",
       "      <td>1</td>\n",
       "      <td>微分積分</td>\n",
       "      <td>吉川</td>\n",
       "    </tr>\n",
       "    <tr>\n",
       "      <th>9</th>\n",
       "      <td>3</td>\n",
       "      <td>微分積分</td>\n",
       "      <td>萩野</td>\n",
       "    </tr>\n",
       "    <tr>\n",
       "      <th>10</th>\n",
       "      <td>8</td>\n",
       "      <td>確率統計</td>\n",
       "      <td>田中</td>\n",
       "    </tr>\n",
       "    <tr>\n",
       "      <th>11</th>\n",
       "      <td>6</td>\n",
       "      <td>確率統計</td>\n",
       "      <td>岸</td>\n",
       "    </tr>\n",
       "    <tr>\n",
       "      <th>12</th>\n",
       "      <td>7</td>\n",
       "      <td>確率統計</td>\n",
       "      <td>大引</td>\n",
       "    </tr>\n",
       "    <tr>\n",
       "      <th>13</th>\n",
       "      <td>2</td>\n",
       "      <td>確率統計</td>\n",
       "      <td>吉川</td>\n",
       "    </tr>\n",
       "    <tr>\n",
       "      <th>14</th>\n",
       "      <td>5</td>\n",
       "      <td>確率統計</td>\n",
       "      <td>萩野</td>\n",
       "    </tr>\n",
       "  </tbody>\n",
       "</table>\n",
       "</div>"
      ],
      "text/plain": [
       "    好意度    科目   人\n",
       "0     7  線形代数  田中\n",
       "1     8  線形代数   岸\n",
       "2     9  線形代数  大引\n",
       "3     5  線形代数  吉川\n",
       "4     6  線形代数  萩野\n",
       "5     5  微分積分  田中\n",
       "6     4  微分積分   岸\n",
       "7     7  微分積分  大引\n",
       "8     1  微分積分  吉川\n",
       "9     3  微分積分  萩野\n",
       "10    8  確率統計  田中\n",
       "11    6  確率統計   岸\n",
       "12    7  確率統計  大引\n",
       "13    2  確率統計  吉川\n",
       "14    5  確率統計  萩野"
      ]
     },
     "execution_count": 240,
     "metadata": {},
     "output_type": "execute_result"
    }
   ],
   "source": [
    "df"
   ]
  },
  {
   "cell_type": "code",
   "execution_count": 241,
   "metadata": {},
   "outputs": [
    {
     "name": "stdout",
     "output_type": "stream",
     "text": [
      "             Anova\n",
      "===============================\n",
      "   F Value Num DF Den DF Pr > F\n",
      "-------------------------------\n",
      "科目 14.6957 2.0000 8.0000 0.0021\n",
      "===============================\n",
      "\n"
     ]
    }
   ],
   "source": [
    "import statsmodels.stats.anova as anova\n",
    "# 科目による好感度の差をみる\n",
    "aov=anova.AnovaRM(df, '好意度','人',['科目'])\n",
    "result=aov.fit()\n",
    "print(result)"
   ]
  },
  {
   "cell_type": "code",
   "execution_count": 242,
   "metadata": {},
   "outputs": [
    {
     "name": "stdout",
     "output_type": "stream",
     "text": [
      "            Anova\n",
      "==============================\n",
      "  F Value Num DF Den DF Pr > F\n",
      "------------------------------\n",
      "人 14.6957 4.0000 8.0000 0.0009\n",
      "==============================\n",
      "\n"
     ]
    }
   ],
   "source": [
    "# 人による好感度の差をみる\n",
    "aov=anova.AnovaRM(df, '好意度','科目',['人'])\n",
    "result=aov.fit()\n",
    "print(result)"
   ]
  },
  {
   "cell_type": "markdown",
   "metadata": {},
   "source": [
    "## (5)帰無仮説の棄却 or 採択の決定\n",
    "p値をみると0.0021のため5%水準で有意差があることがわかる。"
   ]
  },
  {
   "cell_type": "markdown",
   "metadata": {},
   "source": [
    "対応を考慮するとFの分母である残差の平均平方の値が小さくなるため、Fの値は大きくなり結果として有意になりやすい。なぜ対応を考慮すると残差の平均平方が小さくなるかというと、対応を無視したときの残差のばらつきから個人差によるばらつきを取り除くことができるから。"
   ]
  },
  {
   "cell_type": "markdown",
   "metadata": {},
   "source": [
    "## 平方和の分解と自由度の計算\n",
    "* 一元配置分析（対応なし）\n",
    "    - 全体平方和=群間平方和+郡内平方和\n",
    "* 一元配置分析（対応あり）\n",
    "    - 全体平方和=条件平方和+個人差平方和+残差平方和\n",
    "    \n",
    "対応なしの郡内平方和が対応ありでは個人差平方和と残差平方和に分解される。個人差平方和とは個人の違いにより説明できる平方和のことである。同じ人が複数の条件で測定されることでデータには個人の特徴が反映されることがある。具体的にはある人からは一貫して高い値が得られ、また別の人は一貫して低い値が得られるというものである。そういった個人差によって生じるばらつきが個人平方和ということである。以下では対応のない場合と同様、平方和の分解の手順を説明する。"
   ]
  },
  {
   "cell_type": "code",
   "execution_count": 290,
   "metadata": {},
   "outputs": [],
   "source": [
    "all_num_data = plan_data.drop('学生', axis=1).values"
   ]
  },
  {
   "cell_type": "code",
   "execution_count": 291,
   "metadata": {},
   "outputs": [
    {
     "data": {
      "text/plain": [
       "array([7. , 4. , 5.6])"
      ]
     },
     "execution_count": 291,
     "metadata": {},
     "output_type": "execute_result"
    }
   ],
   "source": [
    "subject_mean = all_num_data.mean(axis=0)\n",
    "subject_mean"
   ]
  },
  {
   "cell_type": "code",
   "execution_count": 292,
   "metadata": {},
   "outputs": [
    {
     "data": {
      "text/plain": [
       "array([6.66666667, 6.        , 7.66666667, 2.66666667, 4.66666667])"
      ]
     },
     "execution_count": 292,
     "metadata": {},
     "output_type": "execute_result"
    }
   ],
   "source": [
    "person_mean = all_num_data.mean(axis=1)\n",
    "person_mean"
   ]
  },
  {
   "cell_type": "code",
   "execution_count": 294,
   "metadata": {},
   "outputs": [
    {
     "data": {
      "text/plain": [
       "5.533333333333333"
      ]
     },
     "execution_count": 294,
     "metadata": {},
     "output_type": "execute_result"
    }
   ],
   "source": [
    "all_mean = all_num_data.mean()\n",
    "all_mean"
   ]
  },
  {
   "cell_type": "code",
   "execution_count": 306,
   "metadata": {},
   "outputs": [
    {
     "data": {
      "text/plain": [
       "array([[5.53333333, 5.53333333, 5.53333333],\n",
       "       [5.53333333, 5.53333333, 5.53333333],\n",
       "       [5.53333333, 5.53333333, 5.53333333],\n",
       "       [5.53333333, 5.53333333, 5.53333333],\n",
       "       [5.53333333, 5.53333333, 5.53333333]])"
      ]
     },
     "execution_count": 306,
     "metadata": {},
     "output_type": "execute_result"
    }
   ],
   "source": [
    "# 全平均行列\n",
    "all_mean_matrix = np.full(all_num_data.shape, all_mean) \n",
    "all_mean_matrix"
   ]
  },
  {
   "cell_type": "code",
   "execution_count": 316,
   "metadata": {},
   "outputs": [
    {
     "data": {
      "text/plain": [
       "array([[7. , 4. , 5.6],\n",
       "       [7. , 4. , 5.6],\n",
       "       [7. , 4. , 5.6],\n",
       "       [7. , 4. , 5.6],\n",
       "       [7. , 4. , 5.6]])"
      ]
     },
     "execution_count": 316,
     "metadata": {},
     "output_type": "execute_result"
    }
   ],
   "source": [
    "# 科目平均行列\n",
    "subject_mean_matrix = np.tile(subject_mean, (len(all_num_data), 1)) # 群平均行列\n",
    "subject_mean_matrix"
   ]
  },
  {
   "cell_type": "code",
   "execution_count": 328,
   "metadata": {},
   "outputs": [
    {
     "data": {
      "text/plain": [
       "array([[6.66666667, 6.66666667, 6.66666667],\n",
       "       [6.        , 6.        , 6.        ],\n",
       "       [7.66666667, 7.66666667, 7.66666667],\n",
       "       [2.66666667, 2.66666667, 2.66666667],\n",
       "       [4.66666667, 4.66666667, 4.66666667]])"
      ]
     },
     "execution_count": 328,
     "metadata": {},
     "output_type": "execute_result"
    }
   ],
   "source": [
    "# 人平均行列\n",
    "person_mean_matrix = np.tile(person_mean, (3, 1)).T\n",
    "person_mean_matrix"
   ]
  },
  {
   "cell_type": "code",
   "execution_count": 332,
   "metadata": {},
   "outputs": [
    {
     "data": {
      "text/plain": [
       "array([[ 1.46666667, -0.53333333,  2.46666667],\n",
       "       [ 2.46666667, -1.53333333,  0.46666667],\n",
       "       [ 3.46666667,  1.46666667,  1.46666667],\n",
       "       [-0.53333333, -4.53333333, -3.53333333],\n",
       "       [ 0.46666667, -2.53333333, -0.53333333]])"
      ]
     },
     "execution_count": 332,
     "metadata": {},
     "output_type": "execute_result"
    }
   ],
   "source": [
    "# データ全体のばらつきを把握するために各データから全平均をひく\n",
    "all_data = all_num_data - all_mean\n",
    "all_data"
   ]
  },
  {
   "cell_type": "code",
   "execution_count": 338,
   "metadata": {},
   "outputs": [
    {
     "data": {
      "text/plain": [
       "array([[ 1.46666667, -1.53333333,  0.06666667],\n",
       "       [ 1.46666667, -1.53333333,  0.06666667],\n",
       "       [ 1.46666667, -1.53333333,  0.06666667],\n",
       "       [ 1.46666667, -1.53333333,  0.06666667],\n",
       "       [ 1.46666667, -1.53333333,  0.06666667]])"
      ]
     },
     "execution_count": 338,
     "metadata": {},
     "output_type": "execute_result"
    }
   ],
   "source": [
    "# 条件として科目の違いによる効果\n",
    "condition = subject_mean_matrix - all_mean\n",
    "condition"
   ]
  },
  {
   "cell_type": "markdown",
   "metadata": {},
   "source": [
    "評定者の違いによる効果を求める。元々数学が好きな人は３科目とも好感度が高めなので、そういう人が回答することによってその人の回答は全体に押し上げられて平均値が高くなる。逆に数学が嫌いな人が回答するとその人の回答の平均値は全体に引き下げられ平均値が低くなる。これが個人差による効果である。"
   ]
  },
  {
   "cell_type": "code",
   "execution_count": 340,
   "metadata": {},
   "outputs": [
    {
     "data": {
      "text/plain": [
       "array([[ 1.13333333,  1.13333333,  1.13333333],\n",
       "       [ 0.46666667,  0.46666667,  0.46666667],\n",
       "       [ 2.13333333,  2.13333333,  2.13333333],\n",
       "       [-2.86666667, -2.86666667, -2.86666667],\n",
       "       [-0.86666667, -0.86666667, -0.86666667]])"
      ]
     },
     "execution_count": 340,
     "metadata": {},
     "output_type": "execute_result"
    }
   ],
   "source": [
    "# 個人差\n",
    "person_diff = person_mean_matrix - all_mean\n",
    "person_diff"
   ]
  },
  {
   "cell_type": "markdown",
   "metadata": {},
   "source": [
    "条件（科目）の効果、個人差の効果がそれぞれで求められた。データの各値から全平均、条件の効果、個人差の効果を全部引いて残ったものが条件の効果でも個人差の効果でも説明できない（人による科目との相性などの）<b>残差</b>である。"
   ]
  },
  {
   "cell_type": "code",
   "execution_count": 342,
   "metadata": {},
   "outputs": [
    {
     "data": {
      "text/plain": [
       "array([[-1.13333333, -0.13333333,  1.26666667],\n",
       "       [ 0.53333333, -0.46666667, -0.06666667],\n",
       "       [-0.13333333,  0.86666667, -0.73333333],\n",
       "       [ 0.86666667, -0.13333333, -0.73333333],\n",
       "       [-0.13333333, -0.13333333,  0.26666667]])"
      ]
     },
     "execution_count": 342,
     "metadata": {},
     "output_type": "execute_result"
    }
   ],
   "source": [
    "# 残差\n",
    "residual = all_num_data - all_mean - condition - person_diff\n",
    "residual"
   ]
  },
  {
   "cell_type": "markdown",
   "metadata": {},
   "source": [
    "対応なしの場合と同様、各行列の各要素を二乗した行列について、それぞれ要素の和を求める。そして「全体」行列の要素の二乗和を「全体平方和」、「条件」行列の要素の二乗和を「条件平方和」、「個人差」行列の要素の二乗和を「個人差平方和」、「残差」行列の要素の二乗和を「残差平方和」と名付ける。"
   ]
  },
  {
   "cell_type": "code",
   "execution_count": 348,
   "metadata": {},
   "outputs": [
    {
     "data": {
      "text/plain": [
       "73.73333333333333"
      ]
     },
     "execution_count": 348,
     "metadata": {},
     "output_type": "execute_result"
    }
   ],
   "source": [
    "all_heihowa = (all_data**2).sum()\n",
    "all_heihowa    "
   ]
  },
  {
   "cell_type": "code",
   "execution_count": 349,
   "metadata": {},
   "outputs": [
    {
     "data": {
      "text/plain": [
       "22.53333333333334"
      ]
     },
     "execution_count": 349,
     "metadata": {},
     "output_type": "execute_result"
    }
   ],
   "source": [
    "condition_heihowa = (condition**2).sum()\n",
    "condition_heihowa"
   ]
  },
  {
   "cell_type": "code",
   "execution_count": 350,
   "metadata": {},
   "outputs": [
    {
     "data": {
      "text/plain": [
       "45.06666666666667"
      ]
     },
     "execution_count": 350,
     "metadata": {},
     "output_type": "execute_result"
    }
   ],
   "source": [
    "person_heihowa = (person_diff**2).sum()\n",
    "person_heihowa"
   ]
  },
  {
   "cell_type": "code",
   "execution_count": 352,
   "metadata": {},
   "outputs": [
    {
     "data": {
      "text/plain": [
       "6.133333333333334"
      ]
     },
     "execution_count": 352,
     "metadata": {},
     "output_type": "execute_result"
    }
   ],
   "source": [
    "residual_heihowa = (residual**2).sum()\n",
    "residual_heihowa"
   ]
  },
  {
   "cell_type": "code",
   "execution_count": 355,
   "metadata": {},
   "outputs": [
    {
     "data": {
      "text/plain": [
       "73.73333333333335"
      ]
     },
     "execution_count": 355,
     "metadata": {},
     "output_type": "execute_result"
    }
   ],
   "source": [
    "# 条件平方和 + 個人差平方和 + 残差平方和 \n",
    "condition_heihowa + person_heihowa + residual_heihowa"
   ]
  },
  {
   "cell_type": "code",
   "execution_count": 354,
   "metadata": {},
   "outputs": [
    {
     "data": {
      "text/plain": [
       "73.73333333333333"
      ]
     },
     "execution_count": 354,
     "metadata": {},
     "output_type": "execute_result"
    }
   ],
   "source": [
    "# 全体平方和\n",
    "all_heihowa"
   ]
  },
  {
   "cell_type": "markdown",
   "metadata": {},
   "source": [
    "以上により、一元配置分散分析（対応あり）では、\n",
    "<p>全体平方和 = 条件平方和 + 個人差平方和 + 残差平方和</p>\n",
    "と、平方和が分解されることが確認できた。自由度に関しては次のように求める.\n",
    "<pre>\n",
    "条件の自由度 = 条件の数 - 1 = 3 - 1 = 2\n",
    "個人差の自由度 = 人の数 - 1 = 5 - 1 = 4\n",
    "残差の自由度 = 条件の自由度x個人差の自由度 = 2 x 4 = 8\n",
    "全体の自由度 = 全データ数 - 1 = 15 - 1 = 14\n",
    "</pre>\n",
    "ここでも平方和と同様に\n",
    "<p>全体自由度 = 条件自由度 + 個人差自由度 + 残差自由度</p>\n",
    "という関係が成り立つ"
   ]
  },
  {
   "cell_type": "markdown",
   "metadata": {},
   "source": [
    "## 二元配置分散分析（対応なし）\n",
    "一元配置分散分析では「指導法の違い」によるテストの平均点の差、「科目の違い」による好感度の平均値の差などのように、ある１つの条件の違いによって母平均が異なるかどうかについて検定した。ここでは２つの条件の組み合わせによって母平均が異なるかどうかを検定する二元配置分散分析を扱う。\n",
    "<pre>\n",
    "例題：３種類の銘柄のミネラルウォーター（イカアン、ボスビッグ、ビビッテル）のおいしさについて、２種類の温度（冷蔵庫で冷やす、常温）のもとで評定してもらったデータ。銘柄と温度を組み合わせると、全部で６通りの条件がある。それぞれの条件に5人ずつ評定者を割り当てて、計30人の評定者に水のおいしさの点数を付けてもらった。銘柄の違いや温度の違いによっておいしさの評定の母平均は異なると言えるか。分散分析を行って確認する。ただし、有意水準は5%とする。\n",
    "</pre>"
   ]
  },
  {
   "cell_type": "code",
   "execution_count": 1,
   "metadata": {},
   "outputs": [],
   "source": [
    "import pandas as pd"
   ]
  },
  {
   "cell_type": "code",
   "execution_count": 2,
   "metadata": {},
   "outputs": [],
   "source": [
    "data = pd.DataFrame([\n",
    "    [6,10,11,5,7,12],\n",
    "    [4,8,12,4,6,8],\n",
    "    [5,8,12,4,6,8],\n",
    "    [3,8,10,2,4,6],\n",
    "    [2,9,10,2,3,4],\n",
    "], columns=['a_ikan', 'a_bosbic', 'a_bibiteru', 'b_ikan', 'b_bosbic', 'b_bibiteru'])"
   ]
  },
  {
   "cell_type": "code",
   "execution_count": 3,
   "metadata": {},
   "outputs": [
    {
     "data": {
      "text/html": [
       "<div>\n",
       "<style scoped>\n",
       "    .dataframe tbody tr th:only-of-type {\n",
       "        vertical-align: middle;\n",
       "    }\n",
       "\n",
       "    .dataframe tbody tr th {\n",
       "        vertical-align: top;\n",
       "    }\n",
       "\n",
       "    .dataframe thead th {\n",
       "        text-align: right;\n",
       "    }\n",
       "</style>\n",
       "<table border=\"1\" class=\"dataframe\">\n",
       "  <thead>\n",
       "    <tr style=\"text-align: right;\">\n",
       "      <th></th>\n",
       "      <th>a_ikan</th>\n",
       "      <th>a_bosbic</th>\n",
       "      <th>a_bibiteru</th>\n",
       "      <th>b_ikan</th>\n",
       "      <th>b_bosbic</th>\n",
       "      <th>b_bibiteru</th>\n",
       "    </tr>\n",
       "  </thead>\n",
       "  <tbody>\n",
       "    <tr>\n",
       "      <th>0</th>\n",
       "      <td>6</td>\n",
       "      <td>10</td>\n",
       "      <td>11</td>\n",
       "      <td>5</td>\n",
       "      <td>7</td>\n",
       "      <td>12</td>\n",
       "    </tr>\n",
       "    <tr>\n",
       "      <th>1</th>\n",
       "      <td>4</td>\n",
       "      <td>8</td>\n",
       "      <td>12</td>\n",
       "      <td>4</td>\n",
       "      <td>6</td>\n",
       "      <td>8</td>\n",
       "    </tr>\n",
       "    <tr>\n",
       "      <th>2</th>\n",
       "      <td>5</td>\n",
       "      <td>8</td>\n",
       "      <td>12</td>\n",
       "      <td>4</td>\n",
       "      <td>6</td>\n",
       "      <td>8</td>\n",
       "    </tr>\n",
       "    <tr>\n",
       "      <th>3</th>\n",
       "      <td>3</td>\n",
       "      <td>8</td>\n",
       "      <td>10</td>\n",
       "      <td>2</td>\n",
       "      <td>4</td>\n",
       "      <td>6</td>\n",
       "    </tr>\n",
       "    <tr>\n",
       "      <th>4</th>\n",
       "      <td>2</td>\n",
       "      <td>9</td>\n",
       "      <td>10</td>\n",
       "      <td>2</td>\n",
       "      <td>3</td>\n",
       "      <td>4</td>\n",
       "    </tr>\n",
       "  </tbody>\n",
       "</table>\n",
       "</div>"
      ],
      "text/plain": [
       "   a_ikan  a_bosbic  a_bibiteru  b_ikan  b_bosbic  b_bibiteru\n",
       "0       6        10          11       5         7          12\n",
       "1       4         8          12       4         6           8\n",
       "2       5         8          12       4         6           8\n",
       "3       3         8          10       2         4           6\n",
       "4       2         9          10       2         3           4"
      ]
     },
     "execution_count": 3,
     "metadata": {},
     "output_type": "execute_result"
    }
   ],
   "source": [
    "data"
   ]
  },
  {
   "cell_type": "markdown",
   "metadata": {},
   "source": [
    "## 主効果と交互作用効果\n",
    "ミネラルウォーターの味の評定の実験において、「温度の違い」と「銘柄の違い」はどちらも母平均に違いをもたらしえるものと考えられる。このように母平均に違いをもたらす原因と考えているものを要因という。つまり、ミネラルウォーターの例では、おいしさの評定の母平均は「温度の違い」と「銘柄の違い」という２つの要因によって変化すると考えている。そしてある要因の中に含まれるここの条件を水準という。例えば「温度の違い」という要因には「冷蔵」と「常温」という２つの水準が、また「銘柄の違い」という要因には「イカアン」「ボスビッグ」「ビビッテル」という水準があることになる。\n",
    "\n",
    "|要因|水準|\n",
    "|:--|:---|\n",
    "|温度の違い|冷蔵、常温|\n",
    "|銘柄の違い|イカアン、ボスビッグ、ビビッテル|\n",
    "\n",
    "一元配置分散分析では、検定の対象となる「効果」（条件ごとに平均値を上下させる力）は１種類しかなかった。しかし、二元配置分散分析では主効果と交互作用効果という２種類の効果を考える必要がある。まず主効果だが、これはそれぞれの要因ごとの効果で、一元配置分散分析のときに考えていた効果と同じものである。例えば、上記の例では水の温度が違うと平均値が異なるのであれば「温度の違い」という要因の主効果があるということである。また、水の銘柄が違うと平均値が異なるのであれば、「銘柄の違い」という要因の主効果がある。それに対して、交互作用効果とは２つ以上の要因が組み合わされたときに生じる効果で、２つの要因の効果の単純な足し算では説明できない効果である。交互作用効果はいわば、組み合わせる条件の相性の良し悪しによって生じる効果と考えることができる。"
   ]
  },
  {
   "cell_type": "code",
   "execution_count": null,
   "metadata": {},
   "outputs": [],
   "source": []
  }
 ],
 "metadata": {
  "kernelspec": {
   "display_name": "Python 3",
   "language": "python",
   "name": "python3"
  },
  "language_info": {
   "codemirror_mode": {
    "name": "ipython",
    "version": 3
   },
   "file_extension": ".py",
   "mimetype": "text/x-python",
   "name": "python",
   "nbconvert_exporter": "python",
   "pygments_lexer": "ipython3",
   "version": "3.7.3"
  }
 },
 "nbformat": 4,
 "nbformat_minor": 4
}
