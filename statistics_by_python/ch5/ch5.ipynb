{
 "cells": [
  {
   "cell_type": "markdown",
   "metadata": {},
   "source": [
    "# ２つの平均値を比較する\n",
    "この章では、２つの平均値を比較するための方法を学ぶ"
   ]
  },
  {
   "cell_type": "markdown",
   "metadata": {},
   "source": [
    "## ２つの平均値を比較するケース\n",
    "２つの平均値を比較することが必要となるのはどんな場合か。\n",
    "- 男女で心理学テストの平均値に差があるかを検討したい\n",
    "- 統計が好き・嫌いで統計テストの平均値に差があるかを検定したい\n",
    "- 統計の指導を受けたことにより成績が向上するかを検討したい\n",
    "\n",
    "<p>などがあるが、こうした疑問に答えるために検定を行う。独立な2群のt検定を取り上げる。上記の例では最初の２つがこの方法で分析できるケースになる。最後の一つは対応のあるt検定である</p>"
   ]
  },
  {
   "cell_type": "markdown",
   "metadata": {},
   "source": [
    "## 独立な2群のt検定\n",
    "まず独立な2群のt検定のための検定統計量から考えていく。平均誤差の標本分布は\n",
    "$$\n",
    "\\overline{X_1} - \\overline{X_2}〜N(\\mu_1 - \\mu_2, \\sigma^2(\\frac{1}{n_1} + \\frac{1}{n_2}))\n",
    "$$\n",
    "となる。これを標準化すると以下のようになる\n",
    "$$\n",
    "\\frac{\\overline{X_1} - \\overline{X_2} - (\\mu_1 - \\mu_2)}{\\sigma\\sqrt{(\\frac{1}{n_1} + \\frac{1}{n_2})}}〜N(0, 1)\n",
    "$$\n",
    "\n",
    "標準化を行うことにより、標準正規分布N(0,1)に従うようになった。検定統計量の分母に未知の値である母標準偏差$\\sigma$が含まれているが、この値は直接求められないため、次式で推定する。\n",
    "$$\n",
    "\\hat{\\sigma}_{pooled}^2=\\frac{(n_1 - 1)\\hat{\\sigma_1}^2+(n_2 - 1)\\hat{\\sigma_2}^2}{n_1 + n_2 - 2}\n",
    "$$\n",
    "この式は、$\\hat{\\sigma_1}^2$と$\\hat{\\sigma_2}^2$はそれぞれの群の不偏分散を$n_1$と$n_2$はそれぞれの群のサンプルサイズを示している。この母分散の推定量$\\hat{\\sigma}_{pooled}$のことを、２群をプールした分散という。これは2群に共通の母分散$\\sigma^2$の不偏推定量である。検定統計量の分母にある未知の$\\sigma$を$\\hat{\\sigma}_{pooled}$によって推定したものが下記の検定統計量となる。\n",
    "$$\n",
    "t = \\frac{\\overline{X_1} - \\overline{X_2} - (\\mu_1 - \\mu_2)}{\\sqrt{\\frac{(n_1 - 1)\\hat{\\sigma_1}^2+(n_2 - 1)\\hat{\\sigma_2}^2}{n_1 + n_2 - 2}(\\frac{1}{n_1} + \\frac{1}{n_2})}}$$\n",
    "となるが、ここで帰無仮説は$\\mu_1 = \\mu_2$となるため、$\\mu_1 - \\mu_2=0$となるため最終的は下記の式となる。\n",
    "$$\n",
    "t = \\frac{\\overline{X_1} - \\overline{X_2}}{\\sqrt{\\frac{(n_1 - 1)\\hat{\\sigma_1}^2+(n_2 - 1)\\hat{\\sigma_2}^2}{n_1 + n_2 - 2}(\\frac{1}{n_1} + \\frac{1}{n_2})}}$$\n",
    "となる。こうして導かれた検定統計量tの標本分布は帰無仮説$\\mu_1=\\mu_2$のもとで、自由度$df=n_1 + n_2 - 2$のt分布に従うことが知られている。この検定統計量を用いて、２つの平均値の差に関する検定を行うことができる。"
   ]
  },
  {
   "cell_type": "markdown",
   "metadata": {},
   "source": [
    "<b>\n",
    "例題：「統計テスト1」の得点の平均値に男女で有意な差があるか有意水準5%両側検定で検定しよう\n",
    "</b>"
   ]
  },
  {
   "cell_type": "code",
   "execution_count": 19,
   "metadata": {},
   "outputs": [],
   "source": [
    "import pandas as pd\n",
    "import numpy as np\n",
    "from scipy import stats\n",
    "data = pd.read_csv('../data/teaching_method.csv')"
   ]
  },
  {
   "cell_type": "code",
   "execution_count": 3,
   "metadata": {},
   "outputs": [
    {
     "data": {
      "text/html": [
       "<div>\n",
       "<style scoped>\n",
       "    .dataframe tbody tr th:only-of-type {\n",
       "        vertical-align: middle;\n",
       "    }\n",
       "\n",
       "    .dataframe tbody tr th {\n",
       "        vertical-align: top;\n",
       "    }\n",
       "\n",
       "    .dataframe thead th {\n",
       "        text-align: right;\n",
       "    }\n",
       "</style>\n",
       "<table border=\"1\" class=\"dataframe\">\n",
       "  <thead>\n",
       "    <tr style=\"text-align: right;\">\n",
       "      <th></th>\n",
       "      <th>id</th>\n",
       "      <th>name</th>\n",
       "      <th>sex</th>\n",
       "      <th>math</th>\n",
       "      <th>stats</th>\n",
       "      <th>psychology_test</th>\n",
       "      <th>stats_test1</th>\n",
       "      <th>stats_test2</th>\n",
       "      <th>teaching_method</th>\n",
       "    </tr>\n",
       "  </thead>\n",
       "  <tbody>\n",
       "    <tr>\n",
       "      <th>0</th>\n",
       "      <td>1</td>\n",
       "      <td>大村</td>\n",
       "      <td>男</td>\n",
       "      <td>嫌い</td>\n",
       "      <td>好き</td>\n",
       "      <td>13</td>\n",
       "      <td>6</td>\n",
       "      <td>10</td>\n",
       "      <td>C</td>\n",
       "    </tr>\n",
       "    <tr>\n",
       "      <th>1</th>\n",
       "      <td>2</td>\n",
       "      <td>本多</td>\n",
       "      <td>男</td>\n",
       "      <td>嫌い</td>\n",
       "      <td>好き</td>\n",
       "      <td>14</td>\n",
       "      <td>10</td>\n",
       "      <td>13</td>\n",
       "      <td>B</td>\n",
       "    </tr>\n",
       "    <tr>\n",
       "      <th>2</th>\n",
       "      <td>3</td>\n",
       "      <td>川崎</td>\n",
       "      <td>男</td>\n",
       "      <td>好き</td>\n",
       "      <td>好き</td>\n",
       "      <td>7</td>\n",
       "      <td>6</td>\n",
       "      <td>8</td>\n",
       "      <td>B</td>\n",
       "    </tr>\n",
       "    <tr>\n",
       "      <th>3</th>\n",
       "      <td>4</td>\n",
       "      <td>多村</td>\n",
       "      <td>男</td>\n",
       "      <td>好き</td>\n",
       "      <td>好き</td>\n",
       "      <td>12</td>\n",
       "      <td>10</td>\n",
       "      <td>15</td>\n",
       "      <td>A</td>\n",
       "    </tr>\n",
       "    <tr>\n",
       "      <th>4</th>\n",
       "      <td>5</td>\n",
       "      <td>松中</td>\n",
       "      <td>男</td>\n",
       "      <td>嫌い</td>\n",
       "      <td>嫌い</td>\n",
       "      <td>10</td>\n",
       "      <td>5</td>\n",
       "      <td>8</td>\n",
       "      <td>B</td>\n",
       "    </tr>\n",
       "  </tbody>\n",
       "</table>\n",
       "</div>"
      ],
      "text/plain": [
       "   id name sex math stats  psychology_test  stats_test1  stats_test2  \\\n",
       "0   1   大村   男   嫌い    好き               13            6           10   \n",
       "1   2   本多   男   嫌い    好き               14           10           13   \n",
       "2   3   川崎   男   好き    好き                7            6            8   \n",
       "3   4   多村   男   好き    好き               12           10           15   \n",
       "4   5   松中   男   嫌い    嫌い               10            5            8   \n",
       "\n",
       "  teaching_method  \n",
       "0               C  \n",
       "1               B  \n",
       "2               B  \n",
       "3               A  \n",
       "4               B  "
      ]
     },
     "execution_count": 3,
     "metadata": {},
     "output_type": "execute_result"
    }
   ],
   "source": [
    "data.head()"
   ]
  },
  {
   "cell_type": "code",
   "execution_count": 4,
   "metadata": {},
   "outputs": [],
   "source": [
    "mens = data[data.sex == '男']['stats_test1']\n",
    "womens = data[data.sex == '女']['stats_test1']"
   ]
  },
  {
   "cell_type": "markdown",
   "metadata": {},
   "source": [
    "### (1)帰無仮説と対立仮説の設定\n",
    "- 帰無仮説$H_0$：$\\mu_1 = \\mu_2$（２つの母平均は等しい）\n",
    "- 帰無仮説$H_1$：$\\mu_1 \\neq \\mu_2$（２つの母平均は等しくない）\n",
    "<p>対立仮説よりこの検定は両側検定で行う</p>"
   ]
  },
  {
   "cell_type": "markdown",
   "metadata": {},
   "source": [
    "### (2)検定統計量の選択\n",
    "$$\n",
    "t = \\frac{\\overline{X_1} - \\overline{X_2}}{\\sqrt{\\frac{(n_1 - 1)\\hat{\\sigma_1}^2+(n_2 - 1)\\hat{\\sigma_2}^2}{n_1 + n_2 - 2}(\\frac{1}{n_1} + \\frac{1}{n_2})}}$$\n",
    "を検定統計量をする。そして、この検定統計量は帰無仮説のもとで自由度$df=n_1+n_2-2$のt分布に従う。"
   ]
  },
  {
   "cell_type": "markdown",
   "metadata": {},
   "source": [
    "### (3)有意水準$\\alpha$の決定\n",
    "有意水準は5%、つまり$\\alpha=0.05$とする、両側検定である。"
   ]
  },
  {
   "cell_type": "markdown",
   "metadata": {},
   "source": [
    "### (4)検定統計量の実現値を求める\n",
    "まずは平均と不偏分散を求めてみよう。"
   ]
  },
  {
   "cell_type": "code",
   "execution_count": 7,
   "metadata": {},
   "outputs": [
    {
     "name": "stdout",
     "output_type": "stream",
     "text": [
      "6.0\n",
      "8.0\n",
      "7.777777777777778\n",
      "4.0\n"
     ]
    }
   ],
   "source": [
    "print(mens.mean())\n",
    "print(womens.mean())\n",
    "print(mens.var())\n",
    "print(womens.var())"
   ]
  },
  {
   "cell_type": "markdown",
   "metadata": {},
   "source": [
    "$$\n",
    "\\hat{\\sigma}_{pooled}=\\sqrt{\\frac{(n_1 - 1)\\hat{\\sigma_1}^2+(n_2 - 1)\\hat{\\sigma_2}^2}{n_1 + n_2 - 2}}\n",
    "$$\n",
    "こちらを求める。"
   ]
  },
  {
   "cell_type": "code",
   "execution_count": 11,
   "metadata": {},
   "outputs": [
    {
     "data": {
      "text/plain": [
       "2.4267032964268394"
      ]
     },
     "execution_count": 11,
     "metadata": {},
     "output_type": "execute_result"
    }
   ],
   "source": [
    "sigma_bool = np.sqrt(\n",
    "( (len(mens) - 1)* mens.var() + (len(womens) - 1)* womens.var() ) / ( len(mens) + len(womens) - 2 )\n",
    ")\n",
    "sigma_bool"
   ]
  },
  {
   "cell_type": "markdown",
   "metadata": {},
   "source": [
    "検定統計量tの分母を求める"
   ]
  },
  {
   "cell_type": "code",
   "execution_count": 14,
   "metadata": {},
   "outputs": [
    {
     "data": {
      "text/plain": [
       "1.0852547064066471"
      ]
     },
     "execution_count": 14,
     "metadata": {},
     "output_type": "execute_result"
    }
   ],
   "source": [
    "t_denominator = sigma_bool * np.sqrt( ( 1/len(mens) ) + ( 1/len(womens) ) )\n",
    "t_denominator"
   ]
  },
  {
   "cell_type": "code",
   "execution_count": 16,
   "metadata": {},
   "outputs": [
    {
     "data": {
      "text/plain": [
       "-2.0"
      ]
     },
     "execution_count": 16,
     "metadata": {},
     "output_type": "execute_result"
    }
   ],
   "source": [
    "t_numerator = mens.mean() - womens.mean()\n",
    "t_numerator"
   ]
  },
  {
   "cell_type": "code",
   "execution_count": 18,
   "metadata": {},
   "outputs": [
    {
     "data": {
      "text/plain": [
       "-1.8428853505018534"
      ]
     },
     "execution_count": 18,
     "metadata": {},
     "output_type": "execute_result"
    }
   ],
   "source": [
    "t = t_numerator / t_denominator\n",
    "t"
   ]
  },
  {
   "cell_type": "markdown",
   "metadata": {},
   "source": [
    "検定統計量の実現値が$t=-1.842885$と求まった。"
   ]
  },
  {
   "cell_type": "markdown",
   "metadata": {},
   "source": [
    "### (5)帰無仮説の棄却 or 採択の決定"
   ]
  },
  {
   "cell_type": "code",
   "execution_count": 24,
   "metadata": {},
   "outputs": [],
   "source": [
    "df = len(mens) + len(womens) - 2\n",
    "under_p = stats.t.ppf(0.025,df)     # 自由度18のt分布で下側確率0.025となるtの値を求める\n",
    "upper_p = stats.t.ppf(1 - 0.025,df) # 自由度18のt分布で上側確率0.025となるtの値を求める"
   ]
  },
  {
   "cell_type": "code",
   "execution_count": 26,
   "metadata": {},
   "outputs": [
    {
     "data": {
      "text/plain": [
       "False"
      ]
     },
     "execution_count": 26,
     "metadata": {},
     "output_type": "execute_result"
    }
   ],
   "source": [
    "# 棄却域に入るかどうかのチェック\n",
    "t < under_p or t > upper_p"
   ]
  },
  {
   "cell_type": "markdown",
   "metadata": {},
   "source": [
    "棄却域に入らないので、帰無仮説は棄却されない（5%の水準で有意差は見られなかった）。つまり男女で有意な差はないとなる。"
   ]
  },
  {
   "cell_type": "markdown",
   "metadata": {},
   "source": [
    "## t検定の前提条件\n",
    "下記の項目を満たしている必要がある\n",
    "- 標本抽出が無作為に行われていること\n",
    "- 母集団分布が正規分布にしたがっていること\n",
    "- ２つの母集団の分散が等質であること"
   ]
  },
  {
   "cell_type": "markdown",
   "metadata": {},
   "source": [
    "### 分散の等質性の検定（F検定）\n",
    "<p>分散の等質性の検定を行う(２つの群の分散が等しいこと)。この検定では、分散は等質であるという帰無仮説が採択されることにより、２つの母分散は等質である。つまり分散の等質性の過程が満たされていると判断することになり、t検定を行うことができる。</p>\n",
    "<p>\n",
    "これらを検定する方法をF検定と呼ぶ。検定統計量Fを求める式は以下である。\n",
    "    $$\n",
    "    F = \\frac{\\hat{\\sigma_1}^2}{\\hat{\\sigma_2}^2} (\\hat{\\sigma_1}^2 < \\hat{\\sigma_2}^2)\n",
    "     $$\n",
    "    各群の不偏分散を求め、値が大きい方が分母に来るようにして、F値を求める。F分布は各群の自由度が必要となる。各群のデータ数を$n_1、n_2$とすると自由度${df}_1、{df}_2$は\n",
    "    $$\n",
    "    {df}_1 = n_1 - 1 \\\\\n",
    "    {df}_2 = n_2 - 1\n",
    "    $$\n",
    "    あとはこれらの値をF分布を使って棄却域に入るかどうかを調べる形となる。\n",
    "</p>\n",
    "<p>F検定の帰無仮説は「２つの母分散が等しい」という仮説である。</p>\n",
    "<b>例題：統計学の授業にクラスAとクラスBという２つのクラスがあり、テストを実施した。クラスAとクラスBの平均点に有意な差があると言えるか。有意水準5%で答えよ</b>"
   ]
  },
  {
   "cell_type": "code",
   "execution_count": 28,
   "metadata": {},
   "outputs": [
    {
     "name": "stdout",
     "output_type": "stream",
     "text": [
      "35.809999999999995 166.04000000000002\n"
     ]
    }
   ],
   "source": [
    "class_a = np.array([54, 55, 52, 48, 50, 38, 41, 40, 53, 52])\n",
    "class_b = np.array([67, 63, 50, 60, 61, 69, 43, 58, 36, 29])\n",
    "print(class_a.var(), class_b.var())"
   ]
  },
  {
   "cell_type": "code",
   "execution_count": 37,
   "metadata": {},
   "outputs": [],
   "source": [
    "f = class_a.var() / class_b.var()\n",
    "# stats.f.cdf(f, len(class_a)-1, len(class_b)-1)*2"
   ]
  },
  {
   "cell_type": "code",
   "execution_count": 38,
   "metadata": {},
   "outputs": [],
   "source": [
    "df1 = len(class_a) - 1\n",
    "df2 = len(class_b) - 1\n",
    "\n",
    "under_p = stats.f.ppf(0.025, df1, df2)     # F分布で下側確率0.025となるtの値を求める\n",
    "upper_p = stats.f.ppf(1 - 0.025, df1, df2) # F分布で上側確率0.025となるtの値を求める"
   ]
  },
  {
   "cell_type": "code",
   "execution_count": 39,
   "metadata": {},
   "outputs": [
    {
     "data": {
      "text/plain": [
       "True"
      ]
     },
     "execution_count": 39,
     "metadata": {},
     "output_type": "execute_result"
    }
   ],
   "source": [
    "f < under_p or f > upper_p"
   ]
  },
  {
   "cell_type": "markdown",
   "metadata": {},
   "source": [
    "ここで帰無仮説（２つの群は等質である）は棄却されるため、対立仮説（２つの群は等質ではない）が採用される。そのため、t検定の条件を満たさない。t検定の条件を満たさない場合でも利用できるWelch(ウェルチ)の検定を紹介する"
   ]
  },
  {
   "cell_type": "markdown",
   "metadata": {},
   "source": [
    "## Welchの検定\n",
    "<p>２つの平均値の比較のため検定を行ったことになったとする。平均値の検定に先立って分散の等質性の検定を行ったところ、分散は等質であるという帰無仮説が棄却された。この場合は通常のt検定とは別の方法で検定を行う必要がある。ここでは<b>Welchの検定</b>を紹介する。</p>\n",
    "<p>Welchの検定を行うには、scipy.stats.ttest_indを使う。引数のequal_varにFalseを与えて実行する。</p>"
   ]
  },
  {
   "cell_type": "code",
   "execution_count": 40,
   "metadata": {},
   "outputs": [
    {
     "data": {
      "text/plain": [
       "Ttest_indResult(statistic=-1.1191356939670116, pvalue=0.2837877174603801)"
      ]
     },
     "execution_count": 40,
     "metadata": {},
     "output_type": "execute_result"
    }
   ],
   "source": [
    "stats.ttest_ind(class_a, class_b, equal_var=False)"
   ]
  },
  {
   "cell_type": "markdown",
   "metadata": {},
   "source": [
    "<p>結果をみると、p値(pvalue)が0.28となっており、有意水準5%(0.05)より大きくなっているため、有意にならないことがわかる。よってクラスAとクラスBの平均値に有意な差があるとは言えないのだ。</p>\n",
    "<p>\n",
    "ここまでの内容を整理する\n",
    "</p>\n",
    "\n",
    "- 分散の等質性の確認\n",
    "    - 分散の等質性が満たされる場合(t検定を行う）\n",
    "        - scipy.stats.ttest_ind(class_a, class_b, equal_var=True)\n",
    "    - 分散の等質性が満たされない場合（Welchの検定）\n",
    "        - scipy.stats.ttest_ind(class_a, class_b, equal_var=False)"
   ]
  },
  {
   "cell_type": "code",
   "execution_count": null,
   "metadata": {},
   "outputs": [],
   "source": []
  }
 ],
 "metadata": {
  "kernelspec": {
   "display_name": "Python 3",
   "language": "python",
   "name": "python3"
  },
  "language_info": {
   "codemirror_mode": {
    "name": "ipython",
    "version": 3
   },
   "file_extension": ".py",
   "mimetype": "text/x-python",
   "name": "python",
   "nbconvert_exporter": "python",
   "pygments_lexer": "ipython3",
   "version": "3.7.3"
  }
 },
 "nbformat": 4,
 "nbformat_minor": 4
}
