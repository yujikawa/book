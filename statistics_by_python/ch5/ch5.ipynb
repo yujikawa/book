{
 "cells": [
  {
   "cell_type": "markdown",
   "metadata": {},
   "source": [
    "# ２つの平均値を比較する\n",
    "この章では、２つの平均値を比較するための方法を学ぶ"
   ]
  },
  {
   "cell_type": "markdown",
   "metadata": {},
   "source": [
    "## ２つの平均値を比較するケース\n",
    "２つの平均値を比較することが必要となるのはどんな場合か。\n",
    "- 男女で心理学テストの平均値に差があるかを検討したい\n",
    "- 統計が好き・嫌いで統計テストの平均値に差があるかを検定したい\n",
    "- 統計の指導を受けたことにより成績が向上するかを検討したい\n",
    "\n",
    "<p>などがあるが、こうした疑問に答えるために検定を行う。独立な2群のt検定を取り上げる。上記の例では最初の２つがこの方法で分析できるケースになる。最後の一つは対応のあるt検定である</p>"
   ]
  },
  {
   "cell_type": "markdown",
   "metadata": {},
   "source": [
    "## 独立な2群のt検定\n",
    "まず独立な2群のt検定のための検定統計量から考えていく。平均誤差の標本分布は\n",
    "$$\n",
    "\\overline{X_1} - \\overline{X_2}〜N(\\mu_1 - \\mu_2, \\sigma^2(\\frac{1}{n_1} + \\frac{1}{n_2}))\n",
    "$$\n",
    "となる。これを標準化すると以下のようになる\n",
    "$$\n",
    "\\frac{\\overline{X_1} - \\overline{X_2} - (\\mu_1 - \\mu_2)}{\\sigma\\sqrt{(\\frac{1}{n_1} + \\frac{1}{n_2})}}〜N(0, 1)\n",
    "$$\n",
    "\n",
    "標準化を行うことにより、標準正規分布N(0,1)に従うようになった。検定統計量の分母に未知の値である母標準偏差$\\sigma$が含まれているが、この値は直接求められないため、次式で推定する。\n",
    "$$\n",
    "\\hat{\\sigma}_{pooled}^2=\\frac{(n_1 - 1)\\hat{\\sigma_1}^2+(n_2 - 1)\\hat{\\sigma_2}^2}{n_1 + n_2 - 2}\n",
    "$$\n",
    "この式は、$\\hat{\\sigma_1}^2$と$\\hat{\\sigma_2}^2$はそれぞれの群の不偏分散を$n_1$と$n_2$はそれぞれの群のサンプルサイズを示している。この母分散の推定量$\\hat{\\sigma}_{pooled}$のことを、２群をプールした分散という。これは2群に共通の母分散$\\sigma^2$の不偏推定量である。検定統計量の分母にある未知の$\\sigma$を$\\hat{\\sigma}_{pooled}$によって推定したものが下記の検定統計量となる。\n",
    "$$\n",
    "t = \\frac{\\overline{X_1} - \\overline{X_2} - (\\mu_1 - \\mu_2)}{\\sqrt{\\frac{(n_1 - 1)\\hat{\\sigma_1}^2+(n_2 - 1)\\hat{\\sigma_2}^2}{n_1 + n_2 - 2}(\\frac{1}{n_1} + \\frac{1}{n_2})}}$$\n",
    "となるが、ここで帰無仮説は$\\mu_1 = \\mu_2$となるため、$\\mu_1 - \\mu_2=0$となるため最終的は下記の式となる。\n",
    "$$\n",
    "t = \\frac{\\overline{X_1} - \\overline{X_2}}{\\sqrt{\\frac{(n_1 - 1)\\hat{\\sigma_1}^2+(n_2 - 1)\\hat{\\sigma_2}^2}{n_1 + n_2 - 2}(\\frac{1}{n_1} + \\frac{1}{n_2})}}$$\n",
    "となる。こうして導かれた検定統計量tの標本分布は帰無仮説$\\mu_1=\\mu_2$のもとで、自由度$df=n_1 + n_2 - 2$のt分布に従うことが知られている。この検定統計量を用いて、２つの平均値の差に関する検定を行うことができる。"
   ]
  },
  {
   "cell_type": "code",
   "execution_count": null,
   "metadata": {},
   "outputs": [],
   "source": []
  }
 ],
 "metadata": {
  "kernelspec": {
   "display_name": "Python 3",
   "language": "python",
   "name": "python3"
  },
  "language_info": {
   "codemirror_mode": {
    "name": "ipython",
    "version": 3
   },
   "file_extension": ".py",
   "mimetype": "text/x-python",
   "name": "python",
   "nbconvert_exporter": "python",
   "pygments_lexer": "ipython3",
   "version": "3.7.3"
  }
 },
 "nbformat": 4,
 "nbformat_minor": 4
}
